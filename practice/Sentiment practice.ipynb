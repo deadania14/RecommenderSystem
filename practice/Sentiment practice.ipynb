{
 "cells": [
  {
   "cell_type": "raw",
   "metadata": {},
   "source": [
    "import nltk\n",
    "from nltk import FreqDist\n",
    "# nltk.download('stopwords')"
   ]
  },
  {
   "cell_type": "code",
   "execution_count": 2,
   "metadata": {},
   "outputs": [],
   "source": [
    "import pandas as pd\n",
    "pd.set_option(\"display.max_colwidth\", 200)\n",
    "import numpy as np\n",
    "# import re\n",
    "import spacy\n",
    "\n",
    "# import gensim\n",
    "# from gensim import corpora\n",
    "\n",
    "# libraries for visualization\n",
    "# import pyLDAvis\n",
    "# import pyLDAvis.gensim\n",
    "import matplotlib.pyplot as plt\n",
    "import seaborn as sns\n",
    "%matplotlib inline"
   ]
  },
  {
   "cell_type": "code",
   "execution_count": 3,
   "metadata": {},
   "outputs": [
    {
     "data": {
      "text/html": [
       "<div>\n",
       "<style scoped>\n",
       "    .dataframe tbody tr th:only-of-type {\n",
       "        vertical-align: middle;\n",
       "    }\n",
       "\n",
       "    .dataframe tbody tr th {\n",
       "        vertical-align: top;\n",
       "    }\n",
       "\n",
       "    .dataframe thead th {\n",
       "        text-align: right;\n",
       "    }\n",
       "</style>\n",
       "<table border=\"1\" class=\"dataframe\">\n",
       "  <thead>\n",
       "    <tr style=\"text-align: right;\">\n",
       "      <th></th>\n",
       "      <th>asin</th>\n",
       "      <th>helpful</th>\n",
       "      <th>overall</th>\n",
       "      <th>reviewText</th>\n",
       "      <th>reviewTime</th>\n",
       "      <th>reviewerID</th>\n",
       "      <th>reviewerName</th>\n",
       "      <th>summary</th>\n",
       "      <th>unixReviewTime</th>\n",
       "    </tr>\n",
       "  </thead>\n",
       "  <tbody>\n",
       "    <tr>\n",
       "      <th>0</th>\n",
       "      <td>B00002243X</td>\n",
       "      <td>[4, 4]</td>\n",
       "      <td>5</td>\n",
       "      <td>I needed a set of jumper cables for my new car and these had good reviews and were at a good price.  They have been used a few times already and do what they are supposed to - no complaints there....</td>\n",
       "      <td>08 17, 2011</td>\n",
       "      <td>A3F73SC1LY51OO</td>\n",
       "      <td>Alan Montgomery</td>\n",
       "      <td>Work Well - Should Have Bought Longer Ones</td>\n",
       "      <td>1313539200</td>\n",
       "    </tr>\n",
       "    <tr>\n",
       "      <th>1</th>\n",
       "      <td>B00002243X</td>\n",
       "      <td>[1, 1]</td>\n",
       "      <td>4</td>\n",
       "      <td>These long cables work fine for my truck, but the quality seems a little on the shabby side. For the money I was not expecting 200 dollar snap-on jumper cables but these seem more like what you wo...</td>\n",
       "      <td>09 4, 2011</td>\n",
       "      <td>A20S66SKYXULG2</td>\n",
       "      <td>alphonse</td>\n",
       "      <td>Okay long cables</td>\n",
       "      <td>1315094400</td>\n",
       "    </tr>\n",
       "    <tr>\n",
       "      <th>2</th>\n",
       "      <td>B00002243X</td>\n",
       "      <td>[0, 0]</td>\n",
       "      <td>5</td>\n",
       "      <td>Can't comment much on these since they have not yet been used (I will come back and update my review is I find any issues after first use) ... but they are built solid, nice tough big hard clamps ...</td>\n",
       "      <td>07 25, 2013</td>\n",
       "      <td>A2I8LFSN2IS5EO</td>\n",
       "      <td>Chris</td>\n",
       "      <td>Looks and feels heavy Duty</td>\n",
       "      <td>1374710400</td>\n",
       "    </tr>\n",
       "    <tr>\n",
       "      <th>3</th>\n",
       "      <td>B00002243X</td>\n",
       "      <td>[19, 19]</td>\n",
       "      <td>5</td>\n",
       "      <td>I absolutley love Amazon!!!  For the price of a set of cheap Booster/Jumper Cables in a brick and morter store, you can buy extra long and heavy duty jumpers!  First off, don't be the person that ...</td>\n",
       "      <td>12 21, 2010</td>\n",
       "      <td>A3GT2EWQSO45ZG</td>\n",
       "      <td>DeusEx</td>\n",
       "      <td>Excellent choice for Jumper Cables!!!</td>\n",
       "      <td>1292889600</td>\n",
       "    </tr>\n",
       "    <tr>\n",
       "      <th>4</th>\n",
       "      <td>B00002243X</td>\n",
       "      <td>[0, 0]</td>\n",
       "      <td>5</td>\n",
       "      <td>I purchased the 12' feet long cable set and they arrived in a retail cardboard box with handle, which could be used as a storage and carrying case for these cables, although I will not need to sto...</td>\n",
       "      <td>07 4, 2012</td>\n",
       "      <td>A3ESWJPAVRPWB4</td>\n",
       "      <td>E. Hernandez</td>\n",
       "      <td>Excellent, High Quality Starter Cables</td>\n",
       "      <td>1341360000</td>\n",
       "    </tr>\n",
       "  </tbody>\n",
       "</table>\n",
       "</div>"
      ],
      "text/plain": [
       "         asin   helpful  overall  \\\n",
       "0  B00002243X    [4, 4]        5   \n",
       "1  B00002243X    [1, 1]        4   \n",
       "2  B00002243X    [0, 0]        5   \n",
       "3  B00002243X  [19, 19]        5   \n",
       "4  B00002243X    [0, 0]        5   \n",
       "\n",
       "                                                                                                                                                                                                reviewText  \\\n",
       "0  I needed a set of jumper cables for my new car and these had good reviews and were at a good price.  They have been used a few times already and do what they are supposed to - no complaints there....   \n",
       "1  These long cables work fine for my truck, but the quality seems a little on the shabby side. For the money I was not expecting 200 dollar snap-on jumper cables but these seem more like what you wo...   \n",
       "2  Can't comment much on these since they have not yet been used (I will come back and update my review is I find any issues after first use) ... but they are built solid, nice tough big hard clamps ...   \n",
       "3  I absolutley love Amazon!!!  For the price of a set of cheap Booster/Jumper Cables in a brick and morter store, you can buy extra long and heavy duty jumpers!  First off, don't be the person that ...   \n",
       "4  I purchased the 12' feet long cable set and they arrived in a retail cardboard box with handle, which could be used as a storage and carrying case for these cables, although I will not need to sto...   \n",
       "\n",
       "    reviewTime      reviewerID     reviewerName  \\\n",
       "0  08 17, 2011  A3F73SC1LY51OO  Alan Montgomery   \n",
       "1   09 4, 2011  A20S66SKYXULG2         alphonse   \n",
       "2  07 25, 2013  A2I8LFSN2IS5EO            Chris   \n",
       "3  12 21, 2010  A3GT2EWQSO45ZG           DeusEx   \n",
       "4   07 4, 2012  A3ESWJPAVRPWB4     E. Hernandez   \n",
       "\n",
       "                                      summary  unixReviewTime  \n",
       "0  Work Well - Should Have Bought Longer Ones      1313539200  \n",
       "1                            Okay long cables      1315094400  \n",
       "2                  Looks and feels heavy Duty      1374710400  \n",
       "3       Excellent choice for Jumper Cables!!!      1292889600  \n",
       "4      Excellent, High Quality Starter Cables      1341360000  "
      ]
     },
     "execution_count": 3,
     "metadata": {},
     "output_type": "execute_result"
    }
   ],
   "source": [
    "df = pd.read_json('data/Automotive_5.json', lines=True)\n",
    "df.head()"
   ]
  },
  {
   "cell_type": "code",
   "execution_count": 4,
   "metadata": {},
   "outputs": [],
   "source": [
    "# Data preprocessing\n",
    "# remove the punctuations, stopwords and normalize the reviews as much as possible.\n",
    "\n",
    "\n",
    "# function to plot most frequent terms\n",
    "\n",
    "def freq_words(x, terms = 30):\n",
    "    all_words = ' '.join([text for text in x])\n",
    "    all_words = all_words.split()\n",
    "    \n",
    "    fdist = FreqDist(all_words)\n",
    "    words_df = pd.DataFrame({'word': list(fdist.keys()), 'count':list(fdist.values())})\n",
    "    \n",
    "    # selecting top 20 most frequent words\n",
    "    d = words_df.nlargest(columns=\"count\", n = terms)\n",
    "    plt.figure(figsize=(20,5))\n",
    "    ax = sns.barplot(data=d, x=\"word\", y = \"count\")\n",
    "    ax.set(ylabel = \"Count\")\n",
    "    plt.show()"
   ]
  },
  {
   "cell_type": "code",
   "execution_count": 5,
   "metadata": {},
   "outputs": [
    {
     "data": {
      "image/png": "[encoded data removed]",
      "text/plain": [
       "<Figure size 1440x360 with 1 Axes>"
      ]
     },
     "metadata": {
      "needs_background": "light"
     },
     "output_type": "display_data"
    }
   ],
   "source": [
    "freq_words(df['reviewText'])"
   ]
  },
  {
   "cell_type": "code",
   "execution_count": 6,
   "metadata": {},
   "outputs": [],
   "source": [
    "# remove unwanted characters, numbers and symbols\n",
    "\n",
    "df['reviewText'] = df['reviewText'].str.replace(\"[^a-zA-Z#]\", \" \")"
   ]
  },
  {
   "cell_type": "code",
   "execution_count": 7,
   "metadata": {},
   "outputs": [],
   "source": [
    "# remove stopwords and short words (<2 letters)\n",
    "from nltk.corpus import stopwords\n",
    "stop_words = stopwords.words('english')"
   ]
  },
  {
   "cell_type": "code",
   "execution_count": 8,
   "metadata": {},
   "outputs": [
    {
     "data": {
      "image/png": "[encoded data removed]",
      "text/plain": [
       "<Figure size 1440x360 with 1 Axes>"
      ]
     },
     "metadata": {
      "needs_background": "light"
     },
     "output_type": "display_data"
    }
   ],
   "source": [
    "# function to remove stopwords\n",
    "def remove_stopwords(rev):\n",
    "    rev_new = \" \".join([i for i in rev if i not in stop_words])\n",
    "    return rev_new\n",
    "\n",
    "# remove short words(length<3)\n",
    "df['reviewText'] = df['reviewText'] .apply(lambda x: ' '.join([w for w in x.split() if len (w)>2]))\n",
    "\n",
    "# remove stopwords from the text\n",
    "reviews = [remove_stopwords(r.split()) for r in df['reviewText']]\n",
    "\n",
    "# make entire text lowercase\n",
    "reviews = [r.lower() for r in reviews]\n",
    "\n",
    "freq_words(reviews, 35)"
   ]
  },
  {
   "cell_type": "code",
   "execution_count": 9,
   "metadata": {},
   "outputs": [],
   "source": [
    "nlp = spacy.load('en', disable=['parser', 'ner'])\n",
    "\n",
    "def lemmatization(texts, tags=['NOUN', 'ADJ']): # filter noun and adjective\n",
    "    output = []\n",
    "    for sent in texts:\n",
    "        doc = nlp(\" \".join(sent)) \n",
    "        output.append([token.lemma_ for token in doc if token.pos_ in tags])\n",
    "    return output"
   ]
  },
  {
   "cell_type": "code",
   "execution_count": 10,
   "metadata": {},
   "outputs": [
    {
     "name": "stdout",
     "output_type": "stream",
     "text": [
      "['these', 'long', 'cables', 'work', 'fine', 'truck', 'quality', 'seems', 'little', 'shabby', 'side', 'for', 'money', 'expecting', 'dollar', 'snap', 'jumper', 'cables', 'seem', 'like', 'would', 'see', 'chinese', 'knock', 'shop', 'like', 'harbor', 'freight', 'bucks']\n"
     ]
    }
   ],
   "source": [
    "tokenized_reviews = pd.Series(reviews).apply(lambda x: x.split())\n",
    "print(tokenized_reviews[1])"
   ]
  },
  {
   "cell_type": "code",
   "execution_count": 11,
   "metadata": {},
   "outputs": [
    {
     "name": "stdout",
     "output_type": "stream",
     "text": [
      "['long', 'cable', 'fine', 'truck', 'quality', 'little', 'shabby', 'side', 'money', 'dollar', 'jumper', 'cable', 'chinese', 'shop', 'harbor', 'freight', 'buck']\n"
     ]
    }
   ],
   "source": [
    "reviews_2 = lemmatization(tokenized_reviews)\n",
    "print(reviews_2[1]) # print lemmatized review"
   ]
  },
  {
   "cell_type": "code",
   "execution_count": 12,
   "metadata": {},
   "outputs": [
    {
     "data": {
      "image/png": "[encoded data removed]",
      "text/plain": [
       "<Figure size 1440x360 with 1 Axes>"
      ]
     },
     "metadata": {
      "needs_background": "light"
     },
     "output_type": "display_data"
    }
   ],
   "source": [
    "reviews_3 = []\n",
    "for i in range(len(reviews_2)):\n",
    "    reviews_3.append(' '.join(reviews_2[i]))\n",
    "    \n",
    "df['reviews'] = reviews_3\n",
    "\n",
    "freq_words(df['reviews'], 35)"
   ]
  },
  {
   "cell_type": "code",
   "execution_count": 9,
   "metadata": {},
   "outputs": [],
   "source": [
    "from textblob import TextBlob\n",
    "from textblob.classifiers import NaiveBayesClassifier\n",
    "\n",
    "\n",
    "with open('data/datatrain.json', 'r') as fp:\n",
    "    cl = NaiveBayesClassifier(fp, format=\"json\")"
   ]
  },
  {
   "cell_type": "code",
   "execution_count": 10,
   "metadata": {},
   "outputs": [
    {
     "data": {
      "text/plain": [
       "'pos'"
      ]
     },
     "execution_count": 10,
     "metadata": {},
     "output_type": "execute_result"
    }
   ],
   "source": [
    "blob = TextBlob(\"works\", classifier=cl)\n",
    "blob.classify()"
   ]
  },
  {
   "cell_type": "code",
   "execution_count": 11,
   "metadata": {},
   "outputs": [
    {
     "data": {
      "text/plain": [
       "Sentiment(polarity=0.0, subjectivity=0.0)"
      ]
     },
     "execution_count": 11,
     "metadata": {},
     "output_type": "execute_result"
    }
   ],
   "source": [
    "blob.sentiment"
   ]
  },
  {
   "cell_type": "code",
   "execution_count": 12,
   "metadata": {},
   "outputs": [
    {
     "name": "stdout",
     "output_type": "stream",
     "text": [
      "0.0 is polarity value, subjectivity value is 0.0\n"
     ]
    }
   ],
   "source": [
    "print(str(blob.sentiment.polarity) + \" is polarity value, subjectivity value is \" + str(blob.sentiment.subjectivity))"
   ]
  },
  {
   "cell_type": "code",
   "execution_count": 14,
   "metadata": {},
   "outputs": [
    {
     "name": "stdout",
     "output_type": "stream",
     "text": [
      "neutral\n"
     ]
    }
   ],
   "source": [
    "blob2=TextBlob(\"great and usefull\", classifier=cl)\n",
    "p = blob.classify()\n",
    "if blob.sentiment[0] == 0:\n",
    "    p = \"neutral\"\n",
    "print (p)"
   ]
  },
  {
   "cell_type": "code",
   "execution_count": 15,
   "metadata": {},
   "outputs": [
    {
     "name": "stdout",
     "output_type": "stream",
     "text": [
      "pos\n"
     ]
    }
   ],
   "source": [
    "p = blob2.classify()\n",
    "if blob2.sentiment[0] == 0:\n",
    "    p = \"neutral\"\n",
    "print (p)"
   ]
  },
  {
   "cell_type": "code",
   "execution_count": 8,
   "metadata": {},
   "outputs": [
    {
     "name": "stdout",
     "output_type": "stream",
     "text": [
      "pos\n"
     ]
    }
   ],
   "source": [
    "blob4=TextBlob(\"ugly and doesn't works. i regret bought it\", classifier=cl)\n",
    "p = blob4.classify()\n",
    "if blob4.sentiment[0] == 0:\n",
    "    p = \"neutral\"\n",
    "print (p)"
   ]
  },
  {
   "cell_type": "code",
   "execution_count": null,
   "metadata": {},
   "outputs": [],
   "source": [
    "import re, string\n",
    "# make a string which is punctuation without dot\n",
    "dot = \".\"\n",
    "table = str.maketrans(dot,\" \")\n",
    "punctuations = string.punctuation\n",
    "punctuations = punctuations.translate(table)\n",
    "\n",
    "table32 = str.maketrans(punctuations,32*\" \")\n",
    "# more dots\n",
    "consequitivedots = re.compile(r'\\.{3,}')\n",
    "\n",
    "# make a function to remove punctuation and consecutive dots for a string\n",
    "def RemovePunctuations(slist):\n",
    "    new_list = []\n",
    "    for s in slist:\n",
    "        s = s.replace(\"'\", '')\n",
    "        s = s.translate(table32)\n",
    "        s = re.sub(' +', ' ', s)\n",
    "        s = consequitivedots.sub('.', s)\n",
    "        new_list.append(s)\n",
    "    return new_list\n",
    "\n",
    "# test the function\n",
    "\n",
    "reviews = RemovePunctuations(reviews)"
   ]
  },
  {
   "cell_type": "code",
   "execution_count": null,
   "metadata": {},
   "outputs": [],
   "source": [
    "###########################################CEK ONE BY ONE##################"
   ]
  },
  {
   "cell_type": "code",
   "execution_count": 9,
   "metadata": {},
   "outputs": [],
   "source": [
    "# read stopwords, positive, negative, negation wordlist\n",
    "s_col_names = ['stp']\n",
    "s_words = pd.read_csv(\n",
    "    '../data/dictionary/stopwords.csv',\n",
    "    header=None,\n",
    "    names=s_col_names,\n",
    "    low_memory=False)\n",
    "\n",
    "p_col_names = ['pos']\n",
    "p_words = pd.read_csv(\n",
    "    '../data/dictionary/positive_words.csv',\n",
    "    header=None,\n",
    "    names=p_col_names,\n",
    "    low_memory=False)\n",
    "\n",
    "n_col_names = ['negve']\n",
    "n_words = pd.read_csv(\n",
    "    '../data/dictionary/negative_words.csv',\n",
    "    header=None,\n",
    "    names=n_col_names,\n",
    "    low_memory=False)\n",
    "\n",
    "nt_col_names = ['negtion']\n",
    "nt_words = pd.read_csv(\n",
    "    '../data/dictionary/negation_words.csv',\n",
    "    header=None,\n",
    "    names=nt_col_names,\n",
    "    low_memory=False)\n",
    "\n",
    "# make list from dataframes\n",
    "stopwords = [str(y) for y in s_words.stp]\n",
    "positive_words = [str(x) for x in p_words.pos]\n",
    "negative_words = [str(y) for y in n_words.negve]\n",
    "negation_words = [str(y) for y in nt_words.negtion]\n"
   ]
  },
  {
   "cell_type": "code",
   "execution_count": 11,
   "metadata": {},
   "outputs": [],
   "source": [
    "# replace the apostrophe from the lists\n",
    "def ReplaceApostrophe(thelist):\n",
    "    newlist = []\n",
    "    for word in thelist:\n",
    "        word = word.replace(\"'\", '')\n",
    "        newlist.append(word)\n",
    "    return newlist\n",
    "\n",
    "stopwords = list(set(ReplaceApostrophe(stopwords)))\n",
    "negative_words = list(set(ReplaceApostrophe(negative_words)))\n",
    "negation_words = list(set(ReplaceApostrophe(negation_words)))\n",
    "positive_words = list(set(ReplaceApostrophe(positive_words)))"
   ]
  },
  {
   "cell_type": "code",
   "execution_count": null,
   "metadata": {},
   "outputs": [],
   "source": []
  },
  {
   "cell_type": "code",
   "execution_count": 9,
   "metadata": {},
   "outputs": [
    {
     "name": "stdout",
     "output_type": "stream",
     "text": [
      "['This', 'tablet', '.', 'Amazon', 'offers', 'tons', 'free', 'apps', ',', 'hundreds', 'thousands', 'free', 'e-books', 'tons', 'free', 'games', '.', 'The', 'tablet', 'intuitive', 'intelligent', '.', 'I', 'seamlessly', 'enjoy', 'streaming', 'favorite', 'shows', 'reading', 'articles', ',', 'books', 'periodicals', '.', 'What', 'I', 'love', 'tablet', \"n't\", 'place', 'apps', 'device', ',', 'uses', 'users', 'miro', 'SD', 'card', 'instead', '200GB', 'additional', 'storage', 'dizzying', 'amount', 'storage', 'games', ',', 'apps', ',', 'books', 'movies', 'downloaded', 'enjoyed', '.', 'It', 'also', 'allows', 'owner', 'share', 'device', 'family', 'members', ',', 'delegating', 'member', 'account', 'personalized', 'tailored', 'individual', '.', 'There', 'even', 'option', 'create', 'children', \"'s\", 'accounts', '--', 'extra', 'bonus', '.', 'I', 'able', 'mirror', 'content', 'tablet', 'onto', 'Samsung', 'Smart', 'television', '.', 'I', 'definitely', 'consider', 'Amazon', 'first', 'foremost', 'making', 'future', 'tablet', 'purchases', '.', 'It', 'maintains', 'charge', 'good', 'deal', 'time', ',', 'alleviating', 'need', 'near', 'outlet', 'enjoy', 'using', '.', 'I', 'charge', 'evening', 'use', 'several', 'hours', 'next', 'day', ',', 'sometimes', 'two', 'days', '.', 'No', 'one', 'ever', 'create', 'tablet', 'considerate', 'owner/end-user', '.']\n",
      "147\n"
     ]
    },
    {
     "ename": "NameError",
     "evalue": "name 'connect_words' is not defined",
     "output_type": "error",
     "traceback": [
      "\u001b[0;31m---------------------------------------------------------------------------\u001b[0m",
      "\u001b[0;31mNameError\u001b[0m                                 Traceback (most recent call last)",
      "\u001b[0;32m<ipython-input-9-c103e0c0f1d5>\u001b[0m in \u001b[0;36m<module>\u001b[0;34m\u001b[0m\n\u001b[1;32m     67\u001b[0m                     \u001b[0mcount_pos\u001b[0m \u001b[0;34m+=\u001b[0m \u001b[0;36m1\u001b[0m\u001b[0;34m\u001b[0m\u001b[0;34m\u001b[0m\u001b[0m\n\u001b[1;32m     68\u001b[0m                     \u001b[0mcount_nt\u001b[0m \u001b[0;34m=\u001b[0m \u001b[0;36m0\u001b[0m\u001b[0;34m\u001b[0m\u001b[0;34m\u001b[0m\u001b[0m\n\u001b[0;32m---> 69\u001b[0;31m         \u001b[0;32melif\u001b[0m \u001b[0mword\u001b[0m \u001b[0;32min\u001b[0m \u001b[0mconnect_words\u001b[0m\u001b[0;34m:\u001b[0m\u001b[0;34m\u001b[0m\u001b[0;34m\u001b[0m\u001b[0m\n\u001b[0m\u001b[1;32m     70\u001b[0m             \u001b[0mcount_cw\u001b[0m \u001b[0;34m+=\u001b[0m \u001b[0;36m1\u001b[0m\u001b[0;34m\u001b[0m\u001b[0;34m\u001b[0m\u001b[0m\n\u001b[1;32m     71\u001b[0m \u001b[0;34m\u001b[0m\u001b[0m\n",
      "\u001b[0;31mNameError\u001b[0m: name 'connect_words' is not defined"
     ]
    }
   ],
   "source": [
    "from nltk.tokenize import word_tokenize \n",
    "# for review in reviews:\n",
    "# review = \"i like it\"\n",
    "# review = \"i dont like\"\n",
    "# review = \"i dont like it but\"\n",
    "# review = \"i dont like it but i love it\"\n",
    "# review = \"its no good enough\"\n",
    "# review = \"its no good enough.\"\n",
    "# review = \"its no good enough. wont\"\n",
    "# review = \"its no good enough. wont repurchase\"\n",
    "\n",
    "# review = \"For those that have Prime this is almost a must have. Keeps all your Amazon stuff in one place.\"\n",
    "\n",
    "# review = \"not too satisfied with the sound and it loses Bluetooth connection no matter what phone i use either Iphone or Android.\"\n",
    "\n",
    "# review = \"Really cool device! Instantly noticed the difference in quality when I switched from the regular Fire Stick to the Fire TV with 4k.\"\n",
    "\n",
    "# review = \"so far so good wife very happy. misses her old one\"\n",
    "\n",
    "# review = \"meh. it works. i find it difficult to navigate. i also have an ipad mini. this seems to be less intuitive than the ipad.\"\n",
    "review = \"This tablet has it all. Amazon offers tons of free apps, hundreds of thousands of free e-books and tons of free games. The tablet is intuitive and intelligent. I seamlessly enjoy streaming my favorite shows and reading articles, books and periodicals. What I love most is that the tablet doesn't place all apps on the device, but uses the users miro SD card instead for up to 200GB of additional storage for a dizzying amount of storage for more games, apps, books and movies that can be downloaded and enjoyed. It also allows the owner to share the device with family members, delegating each member an account personalized and tailored to that individual. There is even an option to create children's accounts--extra bonus. I am able to mirror the content from the tablet onto my Samsung Smart television. I will definitely consider Amazon first and foremost when making any future tablet purchases. It maintains a charge for a good deal of time, alleviating the need to be near an outlet to enjoy using it. I can charge it in the evening and use it for several hours the next day, sometimes two days. No one will ever create a tablet that is more considerate of the owner/end-user.\"\n",
    "# \"it loses Bluetooth connection no matter what phone I use (either Iphone or Android).\"\n",
    "\n",
    "\n",
    "word_tokens = word_tokenize(review)\n",
    "dot = \".\"\n",
    "count_pos = count_neg = count_nt = sentence_pos = sentence_neg =0\n",
    "count_cw = 0\n",
    "order = 0\n",
    "filtered_sentence = [w for w in word_tokens if not w in stopwords]\n",
    "print(filtered_sentence)\n",
    "len_filtered = len(filtered_sentence)\n",
    "print(len_filtered)\n",
    "for word in filtered_sentence:\n",
    "    order += 1\n",
    "    if count_cw == 0 or order == len_filtered or word is dot:\n",
    "        if word in positive_words:\n",
    "            if count_nt == 0:\n",
    "                if order == len_filtered:\n",
    "                    sentence_pos += 1\n",
    "                    count_pos = count_neg = count_nt = 0\n",
    "                else:\n",
    "                    count_pos += 1\n",
    "#                     print(word)\n",
    "            elif count_nt > 0:\n",
    "                if order == len_filtered:\n",
    "                    sentence_neg += 1\n",
    "                    count_pos = count_neg = count_nt = 0\n",
    "                else:\n",
    "                    count_neg += 1\n",
    "                    count_nt = 0\n",
    "#                     print(word)\n",
    "\n",
    "        elif word in negative_words:\n",
    "            if count_nt == 0:\n",
    "                if order == len_filtered:\n",
    "                    sentence_neg += 1\n",
    "                    count_pos = count_neg = count_nt = 0\n",
    "                else:\n",
    "                    count_neg += 1\n",
    "#                 print(word)            \n",
    "            elif count_nt > 0:\n",
    "                if order == len_filtered:\n",
    "                    sentence_pos += 1\n",
    "                    count_pos = count_neg = count_nt = 0\n",
    "                else:\n",
    "                    count_pos += 1\n",
    "                    count_nt = 0\n",
    "        elif word in connect_words:\n",
    "            count_cw += 1\n",
    "\n",
    "\n",
    "        elif word in negation_words:\n",
    "            if count_neg ==0 & count_pos == 0:\n",
    "#               negation is front of sentence (before positive or negative word)\n",
    "                if order == len_filtered:\n",
    "#                     sentence_neg += 1\n",
    "                    count_pos = count_neg = count_nt = 0\n",
    "                else:\n",
    "                    count_nt += 1\n",
    "            elif count_neg > 0:\n",
    "#               negation reverse the negative word to positive word\n",
    "#                 count_pos += 1\n",
    "#     how if: \"i dont like it but i love it. well its not very good?\" ngaco pisan\n",
    "                count_neg = count_nt = count_pos =0\n",
    "                sentence_pos += 1\n",
    "                break\n",
    "            elif count_pos > 0:\n",
    "#               negation reverse the positive word to negative word\n",
    "#                 count_neg += 1\n",
    "                count_pos = count_nt = count_neg = 0\n",
    "                sentence_neg += 1\n",
    "                break\n",
    "        elif word is dot or order == len_filtered :\n",
    "#             or word in adverb_words:\n",
    "            if count_pos > 0:\n",
    "                sentence_pos += 1\n",
    "            elif count_neg > 0:\n",
    "                sentence_neg += 1\n",
    "    #         elif count_nt > 0:\n",
    "    #             sentence_neg += 1\n",
    "            count_pos = count_neg = count_nt = count_cw = 0\n",
    "\n",
    "# check which has value\n",
    "# sentence_pos = count_pos\n",
    "# sentence_neg = count_neg\n",
    "print('count_pos = ' + str(count_pos))\n",
    "print(\"count_neg = \" + str(count_neg))\n",
    "print(\"count_nt = \" + str(count_nt))\n",
    "print(\"count_cw = \" + str(count_cw))\n",
    "print(\"sentence_pos = \" + str(sentence_pos))\n",
    "print(\"sentence_neg = \" + str(sentence_neg))\n",
    "label_sent = 0\n",
    "sum_sentence = sentence_neg + sentence_pos\n",
    "if sum_sentence ==0 :\n",
    "    label_sent = float(0)\n",
    "else:    \n",
    "    per_pos = sentence_pos/sum_sentence\n",
    "    per_neg = sentence_neg/sum_sentence\n",
    "    if  per_pos > 0.6:\n",
    "        label_sent = float(3)\n",
    "    elif per_neg > 0.6:\n",
    "        label_sent = float(1)\n",
    "    else:\n",
    "        label_sent = float(2)\n",
    "print(label_sent)"
   ]
  },
  {
   "cell_type": "code",
   "execution_count": 13,
   "metadata": {},
   "outputs": [
    {
     "name": "stdout",
     "output_type": "stream",
     "text": [
      "['tablet', '.', 'amazon', 'offers', 'tons', 'free', 'apps', ',', 'hundreds', 'thousands', 'free', 'e-books', 'tons', 'free', 'games', '.', 'tablet', 'intuitive', 'intelligent', '.', 'seamlessly', 'enjoy', 'streaming', 'favorite', 'shows', 'reading', 'articles', ',', 'books', 'periodicals', '.', 'love', 'tablet', \"n't\", 'place', 'apps', 'device', ',', 'uses', 'users', 'miro', 'sd', 'card', 'instead', '200gb', 'additional', 'storage', 'dizzying', 'amount', 'storage', 'games', ',', 'apps', ',', 'books', 'movies', 'downloaded', 'enjoyed', '.', 'also', 'allows', 'owner', 'share', 'device', 'family', 'members', ',', 'delegating', 'member', 'account', 'personalized', 'tailored', 'individual', '.', 'even', 'option', 'create', 'children', \"'s\", 'accounts', '--', 'extra', 'bonus', '.', 'able', 'mirror', 'content', 'tablet', 'onto', 'samsung', 'smart', 'television', '.', 'definitely', 'consider', 'amazon', 'first', 'foremost', 'making', 'future', 'tablet', 'purchases', '.', 'maintains', 'charge', 'good', 'deal', 'time', ',', 'alleviating', 'need', 'near', 'outlet', 'enjoy', 'using', '.', 'charge', 'evening', 'use', 'several', 'hours', 'next', 'day', ',', 'sometimes', 'two', 'days', '.', 'no', 'one', 'ever', 'create', 'tablet', 'considerate', 'owner/end-user', '.']\n",
      "['free', 'free', 'free', 'intuitive', 'intelligent', 'enjoy', 'favorite', 'love', 'enjoyed', 'personalized', 'bonus', 'smart', 'foremost', 'good', 'enjoy', 'considerate']\n",
      "[]\n",
      "['no']\n",
      "testimony_value = 15.0\n"
     ]
    }
   ],
   "source": []
  },
  {
   "cell_type": "code",
   "execution_count": null,
   "metadata": {},
   "outputs": [],
   "source": [
    "# from textblob import TextBlob\n",
    "# from textblob.classifiers import NaiveBayesClassifier\n",
    "\n",
    "\n",
    "# with open('data/datatrain.json', 'r') as fp:\n",
    "#     cl = NaiveBayesClassifier(fp, format=\"json\")\n",
    "# sentiment = []\n",
    "# for x in reviews:\n",
    "#     blob = TextBlob(x, classifier=cl)\n",
    "#     r = blob.classify()\n",
    "#     if blob.sentiment[0] == 0:\n",
    "#         r = 'neutral'\n",
    "#     sentiment.append(r)\n",
    "# sentiment_label = []\n",
    "\n",
    "\n",
    "# for x in sentiment:\n",
    "#     if x == 'pos':\n",
    "#         v = 3\n",
    "#     elif x == 'neg':\n",
    "#         v = 1\n",
    "#     else:\n",
    "#         v = 2\n",
    "#     sentiment_label.append(v)\n",
    "# data_test_filter['label']=sentiment_label\n",
    "# data_test_filter['label']=data_test_filter[\n",
    "#     'label'].astype('float64')  \n",
    "\n",
    "\n",
    "# data_test_filter.to_csv(\"data/data_test_filter.csv\")"
   ]
  },
  {
   "cell_type": "code",
   "execution_count": null,
   "metadata": {},
   "outputs": [],
   "source": [
    "import string\n",
    "string.punctuation"
   ]
  },
  {
   "cell_type": "code",
   "execution_count": 12,
   "metadata": {},
   "outputs": [],
   "source": [
    "# The Sentiment Analysis Class\n",
    "import re\n",
    "# import enchant\n",
    "# weng = enchant.Dict(\"en_US\")\n",
    "\n",
    "def reduce_lengthening(text):\n",
    "    pattern = re.compile(r\"(.)\\1{2,}\")\n",
    "    return pattern.sub(r\"\\1\\1\", text)\n",
    "\n",
    "from nltk.tokenize import word_tokenize \n",
    "def SentimentAnalysis(testimony):\n",
    "    testimony_value = []\n",
    "    for review in testimony:    \n",
    "        # tokenize the review\n",
    "        word_tokens = word_tokenize(review)\n",
    "\n",
    "        # remove stopwords\n",
    "        filtered_sentence = [w for w in word_tokens if not w in stopwords]\n",
    "\n",
    "        # value gived by words type\n",
    "        score_pos = 1\n",
    "        score_neg = -1\n",
    "\n",
    "        negation  = neg = passing = False\n",
    "        sum_score = 0\n",
    "\n",
    "        for word in filtered_sentence:\n",
    "            \n",
    "            word = reduce_lengthening(word)\n",
    "            if word in positive_words:\n",
    "                if negation is True:\n",
    "                    sum_score += score_neg\n",
    "                    negation = False\n",
    "#                 elif pos is True:\n",
    "#                     pos = False \n",
    "                else:\n",
    "                    sum_score += score_pos\n",
    "#                 pos = True\n",
    "\n",
    "            elif word in negative_words:\n",
    "                if neg is True:\n",
    "                    sum_score += score_pos\n",
    "                elif negation is True:\n",
    "                    sum_score += score_pos\n",
    "                    negation = False\n",
    "#                 elif pos is True:\n",
    "#                     pos = False\n",
    "                else:\n",
    "                    sum_score += score_neg\n",
    "                neg = True\n",
    "\n",
    "            elif word in negation_words:\n",
    "                negation = True\n",
    "\n",
    "            elif negation is True:\n",
    "                if passing is False:\n",
    "                    passing = True\n",
    "                else:\n",
    "                    negation = passing = False\n",
    "            else:\n",
    "                neg = False\n",
    "\n",
    "        testimony_value.append(float(sum_score))       \n",
    "    return testimony_value"
   ]
  },
  {
   "cell_type": "code",
   "execution_count": null,
   "metadata": {},
   "outputs": [],
   "source": []
  }
 ],
 "metadata": {
  "kernelspec": {
   "display_name": "Python 3",
   "language": "python",
   "name": "python3"
  },
  "language_info": {
   "codemirror_mode": {
    "name": "ipython",
    "version": 3
   },
   "file_extension": ".py",
   "mimetype": "text/x-python",
   "name": "python",
   "nbconvert_exporter": "python",
   "pygments_lexer": "ipython3",
   "version": "3.6.6+"
  }
 },
 "nbformat": 4,
 "nbformat_minor": 2
}
