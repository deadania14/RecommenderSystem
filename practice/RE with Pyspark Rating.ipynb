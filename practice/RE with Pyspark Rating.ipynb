{
 "cells": [
  {
   "cell_type": "code",
   "execution_count": 1,
   "metadata": {},
   "outputs": [],
   "source": [
    "from pyspark.sql import SparkSession\n",
    "spark = SparkSession.builder.appName('recommender').getOrCreate()\n",
    "from pyspark.ml.recommendation import ALS\n",
    "from pyspark.ml.evaluation import RegressionEvaluator\n",
    "from pyspark.ml.tuning import TrainValidationSplit, ParamGridBuilder"
   ]
  },
  {
   "cell_type": "code",
   "execution_count": null,
   "metadata": {},
   "outputs": [],
   "source": [
    "# SIMPLE WAY"
   ]
  },
  {
   "cell_type": "code",
   "execution_count": 2,
   "metadata": {},
   "outputs": [],
   "source": [
    "import pandas as pd\n",
    "reviews = pd.read_csv('data/reviews/all_reviews.csv')\n",
    "datatest, datatrain  = reviews.sample(frac =.2), reviews.sample(frac=.8)"
   ]
  },
  {
   "cell_type": "code",
   "execution_count": 3,
   "metadata": {},
   "outputs": [
    {
     "data": {
      "text/plain": [
       "(4939, 6)"
      ]
     },
     "execution_count": 3,
     "metadata": {},
     "output_type": "execute_result"
    }
   ],
   "source": [
    "reviews.shape"
   ]
  },
  {
   "cell_type": "code",
   "execution_count": 4,
   "metadata": {},
   "outputs": [],
   "source": [
    "DataTrain = spark.createDataFrame(datatrain)\n",
    "DataTest = spark.createDataFrame(datatest)"
   ]
  },
  {
   "cell_type": "code",
   "execution_count": 5,
   "metadata": {},
   "outputs": [],
   "source": [
    "als = ALS(userCol='userId', itemCol='itemId', ratingCol='rating', nonnegative=True)\n",
    "\n",
    "model = als.fit(DataTrain)\n",
    "\n",
    "# Generate Predictions and evaluate using RMSE\n",
    "predictions = model.transform(DataTest)\n",
    "predictions = predictions.na.drop()"
   ]
  },
  {
   "cell_type": "code",
   "execution_count": 6,
   "metadata": {},
   "outputs": [
    {
     "name": "stdout",
     "output_type": "stream",
     "text": [
      "+-------+------------------+------------------+------------------+------------------+--------------------+------------------+------------------+\n",
      "|summary|        Unnamed: 0|          reviewId|            itemId|            userId|           testimony|            rating|        prediction|\n",
      "+-------+------------------+------------------+------------------+------------------+--------------------+------------------+------------------+\n",
      "|  count|               855|               855|               855|               855|                 855|               855|               855|\n",
      "|   mean|2355.4795321637425|2604.7380116959066|12.508771929824562|1866.5345029239766|                null| 4.543859649122807|  4.34432890171196|\n",
      "| stddev|1388.1246524754483|1432.6355755759657|  8.29432837247834|1100.0060819142936|                null|0.8184818178392029|0.7961369056323515|\n",
      "|    min|                 0|                 0|                 1|                 2|(accidentally pos...|                 1|          0.560092|\n",
      "|    max|              4804|              5131|                40|              3814|works well worth ...|                 5|          6.841581|\n",
      "+-------+------------------+------------------+------------------+------------------+--------------------+------------------+------------------+\n",
      "\n"
     ]
    }
   ],
   "source": [
    "predictions.describe().show()"
   ]
  },
  {
   "cell_type": "code",
   "execution_count": 7,
   "metadata": {},
   "outputs": [
    {
     "name": "stdout",
     "output_type": "stream",
     "text": [
      "RMSE = 0.3688342148417594\n"
     ]
    }
   ],
   "source": [
    "evaluator = RegressionEvaluator(metricName='rmse', labelCol='rating', \n",
    "                                predictionCol=\"prediction\")    \n",
    "# RMSE Root Mean Square Error\n",
    "rmse = evaluator.evaluate(predictions)\n",
    "\n",
    "print(\"RMSE = \" + str(rmse))"
   ]
  },
  {
   "cell_type": "code",
   "execution_count": null,
   "metadata": {},
   "outputs": [],
   "source": []
  },
  {
   "cell_type": "code",
   "execution_count": null,
   "metadata": {},
   "outputs": [],
   "source": []
  },
  {
   "cell_type": "code",
   "execution_count": null,
   "metadata": {},
   "outputs": [],
   "source": [
    "# from pyspark.sql.functions import lit\n",
    "\n",
    "# def recommendMovies(model, user, nbRecommendations):\n",
    "#     # Create a Spark DataFrame with the specified user and all the movies listed in the ratings DataFrame\n",
    "#     dataSet = ratings.select(\"movieId\").distinct().withColumn(\"userId\", lit(user))\n",
    "\n",
    "#     # Create a Spark DataFrame with the movies that have already been rated by this user\n",
    "#     moviesAlreadyRated = ratings.filter(ratings.userId == user).select(\"movieId\", \"userId\")\n",
    "\n",
    "#     # Apply the recommender system to the data set without the already rated movies to predict ratings\n",
    "#     predictions = model.transform(dataSet.subtract(moviesAlreadyRated)).dropna().orderBy(\"prediction\", ascending=False).limit(nbRecommendations).select(\"movieId\", \"prediction\")\n",
    "\n",
    "#     # Join with the movies DataFrame to get the movies titles and genres\n",
    "#     recommendations = predictions.join(movies, predictions.movieId == movies.movieId).select(predictions.movieId, movies.title, movies.genres, predictions.prediction)\n",
    "\n",
    "#     recommendations.show(truncate=False)\n"
   ]
  },
  {
   "cell_type": "code",
   "execution_count": null,
   "metadata": {},
   "outputs": [],
   "source": []
  },
  {
   "cell_type": "code",
   "execution_count": null,
   "metadata": {},
   "outputs": [],
   "source": []
  }
 ],
 "metadata": {
  "kernelspec": {
   "display_name": "Python 3",
   "language": "python",
   "name": "python3"
  },
  "language_info": {
   "codemirror_mode": {
    "name": "ipython",
    "version": 3
   },
   "file_extension": ".py",
   "mimetype": "text/x-python",
   "name": "python",
   "nbconvert_exporter": "python",
   "pygments_lexer": "ipython3",
   "version": "3.6.6+"
  }
 },
 "nbformat": 4,
 "nbformat_minor": 2
}
