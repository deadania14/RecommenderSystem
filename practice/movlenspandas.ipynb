{
 "cells": [
  {
   "cell_type": "code",
   "execution_count": 1,
   "metadata": {},
   "outputs": [
    {
     "name": "stdout",
     "output_type": "stream",
     "text": [
      "['Men in Black (1997)', 'Blade Runner (1982)', 'Empire Strikes Back, The (1980)']\n"
     ]
    }
   ],
   "source": [
    "import numpy as np\n",
    "import pandas as pd\n",
    "#Reading data file:\n",
    "dataFile = ['userId', 'itemId', 'rating', 'timestamp']\n",
    "data = pd.read_csv('ml-100k/u.data', sep='\\t', names=dataFile,encoding='latin-1')\n",
    "\n",
    "# data.head()\n",
    "\n",
    "#Reading items file:\n",
    "movieInfoFile =['itemId', 'title' ,'release date','video release date', 'IMDb URL', 'unknown', 'Action', 'Adventure',\n",
    "'Animation', 'Children\\'s', 'Comedy', 'Crime', 'Documentary', 'Drama', 'Fantasy',\n",
    "'Film-Noir', 'Horror', 'Musical', 'Mystery', 'Romance', 'Sci-Fi', 'Thriller', 'War', 'Western']\n",
    "movieInfoneedcut = pd.read_csv('ml-100k/u.item', sep='|', names=movieInfoFile,\n",
    "encoding='latin-1')\n",
    "\n",
    "movieInfo=pd.DataFrame(movieInfoneedcut.itemId)\n",
    "movieInfo['title']=movieInfoneedcut['title']\n",
    "# movieInfo.head()\n",
    "\n",
    "data=pd.merge(data,movieInfo, left_on= 'itemId', right_on= 'itemId')\n",
    "data=pd.DataFrame.sort_values(data,['userId','itemId'], ascending=[0,1])\n",
    "data.head()\n",
    "# numUsers=max(data.userId)\n",
    "# numMovies=max(data.itemId)\n",
    "\n",
    "numUsers=data['userId'].unique().shape[0]\n",
    "numMovies=data['itemId'].unique().shape[0]\n",
    "\n",
    "moviePerUser=data.userId.value_counts()\n",
    "userPerMovie=data.title.value_counts()\n",
    "\n",
    "def favoriteMovies(activeUser, N):\n",
    "    topMovies=pd.DataFrame.sort_values(\n",
    "                data[data.userId==activeUser], ['rating'], ascending=[0])[:N]\n",
    "    return list(topMovies.title)\n",
    "\n",
    "print (favoriteMovies(5,3))#3 fav movies of user 5\n",
    "\n"
   ]
  },
  {
   "cell_type": "code",
   "execution_count": 2,
   "metadata": {},
   "outputs": [],
   "source": [
    "userItemRatingMatrix=pd.pivot_table(data, values='rating', index=['userId'], columns=['itemId'])\n",
    "# userItemRatingMatrix.head()\n",
    "from scipy.spatial.distance import correlation\n",
    "def similarity(user1,user2):\n",
    "#   normalizing\n",
    "    user1=np.array(user1)-np.nanmean(user1)\n",
    "    user2=np.array(user2)-np.nanmean(user2)\n",
    "    commonItemIds=[\n",
    "        i for i in range(len(user1))\n",
    "        if user1[i]>0 and user2[i]>0\n",
    "    ]\n",
    "    if len(commonItemIds)==0:\n",
    "        return 0\n",
    "    else:\n",
    "        user1-np.array([user1[i] for i in commonItemIds])\n",
    "        user2-np.array([user2[i] for i in commonItemIds])\n",
    "        return correlation(user1, user2)\n",
    "    \n",
    "    def nearestNeighbourRatings(activeUser, K):\n",
    "        similarityMatrix=pd.DataFrame(index=userItemRatingMatrix.index, columns=['Similarity'])\n",
    "        for i in userItemRatingMatrix.indes:\n",
    "            similarityMatrix.loc[i]=similarity(userItemRatingMatrix.loc[activeUser], userItemRatingMatrix.loc[i])\n",
    "        similarityMatrix=pd.DataFrame.sort_values(similarityMatrix, ['Similarity'], ascending=[0])\n",
    "        nearestNeighnours=similarityMatrix[:K]\n",
    "        neighbourItemRatings=userItemRatingMatrix.loc[nearestNeighbours.index]\n",
    "        \n",
    "        predictItemRating=pd.DataFrame(index=userItemRatingMatrix.columns, columns=['Rating'])\n",
    "        \n",
    "        for i in userItemRatingMatrix.columns:\n",
    "            predictedRating=np.nanmean(userItemRatingMatrix.loc[activeUser])\n",
    "            for j in neighbourItemRatings.index:\n",
    "                if userItemRatingMatrix.loc[j,i]>0:\n",
    "                    predictedRating+=(userItemRatingMatrix.loc[j,i]-np.nanmean(userItemRatingMatrix.loc[j]))*nearestNeighbours.loc[j, 'Similarity']\n",
    "            predictItemRating.loc[i, 'Rating']=predictedRating\n",
    "        return predictItemRating"
   ]
  },
  {
   "cell_type": "code",
   "execution_count": 3,
   "metadata": {},
   "outputs": [
    {
     "data": {
      "text/plain": [
       "Index(['itemId', 'title'], dtype='object')"
      ]
     },
     "execution_count": 3,
     "metadata": {},
     "output_type": "execute_result"
    }
   ],
   "source": [
    "movieInfo.columns"
   ]
  },
  {
   "cell_type": "code",
   "execution_count": 5,
   "metadata": {},
   "outputs": [
    {
     "name": "stdout",
     "output_type": "stream",
     "text": [
      "0\n",
      "1\n",
      "2\n",
      "3\n",
      "4\n",
      "5\n",
      "6\n",
      "7\n",
      "8\n",
      "9\n"
     ]
    }
   ],
   "source": [
    "def matrixFactorization(R, K, steps=10, gamma=0.001, lamda=0.02):\n",
    "    N=len(R.index)#number of users\n",
    "    M=len(R.columns)#number of items\n",
    "    P=pd.DataFrame(np.random.rand(N,K), index=R.index)\n",
    "    Q=pd.DataFrame(np.random.rand(M,K), index=R.columns)\n",
    "    for step in range(steps):\n",
    "        for i in R.index:\n",
    "            for j in R.columns:\n",
    "                if R.loc[i,j]>0:\n",
    "                    eij=R.loc[i,j]-np.dot(P.loc[i],Q.loc[j])\n",
    "                    P.loc[i]=P.loc[i]+gamma*(eij*Q.loc[j]-lamda*P.loc[i])\n",
    "                    Q.loc[j]=Q.loc[j]+gamma*(eij*P.loc[i]-lamda*Q.loc[j])\n",
    "        e=0\n",
    "        for i in R.index:\n",
    "            for j in R.columns:\n",
    "                if R.loc[i,j]>0:\n",
    "                    e=e+pow(R.loc[i,j]-np.dot(P.loc[i], Q.loc[j]),2)+lamda*(pow(np.linalg.norm(P.loc[i]),2)+pow(np.linalg.norm(Q.loc[j]),2))\n",
    "        if e<0.001:\n",
    "            break\n",
    "        print (step)\n",
    "    return P,Q\n",
    "\n",
    "(P,Q)=matrixFactorization(userItemRatingMatrix.iloc[:100,:100], K=2, gamma=0.001, lamda=0.02, steps=10)\n",
    "\n",
    "activeUser=1\n",
    "predictItemRating=pd.DataFrame(np.dot(P.loc[activeUser],Q.T), index=Q.index, columns=['Ratings'])\n",
    "topRecommendations=pd.DataFrame.sort_values(predictItemRating,['Ratings'],ascending=[0])[:3]\n"
   ]
  },
  {
   "cell_type": "code",
   "execution_count": 6,
   "metadata": {},
   "outputs": [
    {
     "name": "stdout",
     "output_type": "stream",
     "text": [
      "['Twelve Monkeys (1995)', 'Star Wars (1977)', 'Fargo (1996)']\n"
     ]
    }
   ],
   "source": [
    "#we found the ratings of all movie by the active user and then sorted them to top 3\n",
    "topRecommendationsTitles=movieInfo.loc[movieInfo.itemId.isin(topRecommendations.index)]\n",
    "print (list(topRecommendationsTitles.title))"
   ]
  },
  {
   "cell_type": "code",
   "execution_count": 7,
   "metadata": {},
   "outputs": [
    {
     "data": {
      "text/html": [
       "<div>\n",
       "<style scoped>\n",
       "    .dataframe tbody tr th:only-of-type {\n",
       "        vertical-align: middle;\n",
       "    }\n",
       "\n",
       "    .dataframe tbody tr th {\n",
       "        vertical-align: top;\n",
       "    }\n",
       "\n",
       "    .dataframe thead th {\n",
       "        text-align: right;\n",
       "    }\n",
       "</style>\n",
       "<table border=\"1\" class=\"dataframe\">\n",
       "  <thead>\n",
       "    <tr style=\"text-align: right;\">\n",
       "      <th></th>\n",
       "      <th>Ratings</th>\n",
       "    </tr>\n",
       "    <tr>\n",
       "      <th>itemId</th>\n",
       "      <th></th>\n",
       "    </tr>\n",
       "  </thead>\n",
       "  <tbody>\n",
       "    <tr>\n",
       "      <th>50</th>\n",
       "      <td>5.636208</td>\n",
       "    </tr>\n",
       "    <tr>\n",
       "      <th>7</th>\n",
       "      <td>5.313892</td>\n",
       "    </tr>\n",
       "    <tr>\n",
       "      <th>100</th>\n",
       "      <td>4.861698</td>\n",
       "    </tr>\n",
       "  </tbody>\n",
       "</table>\n",
       "</div>"
      ],
      "text/plain": [
       "         Ratings\n",
       "itemId          \n",
       "50      5.636208\n",
       "7       5.313892\n",
       "100     4.861698"
      ]
     },
     "execution_count": 7,
     "metadata": {},
     "output_type": "execute_result"
    }
   ],
   "source": [
    "topRecommendations"
   ]
  },
  {
   "cell_type": "code",
   "execution_count": 17,
   "metadata": {},
   "outputs": [],
   "source": [
    "import pandas as pd\n",
    "df1 = pd.DataFrame({'itemId': [50, 7, 100, 5, 2], 'Ratings': [3.3, 2.7, 2.5, 2.43, 2.33]})\n",
    "df2 = pd.DataFrame({'itemId': [50, 7, 100, 3, 80], 'Label': [3.3, 2.7, 2.5, 2.49, 2.33]})"
   ]
  },
  {
   "cell_type": "code",
   "execution_count": 18,
   "metadata": {},
   "outputs": [
    {
     "data": {
      "text/html": [
       "<div>\n",
       "<style scoped>\n",
       "    .dataframe tbody tr th:only-of-type {\n",
       "        vertical-align: middle;\n",
       "    }\n",
       "\n",
       "    .dataframe tbody tr th {\n",
       "        vertical-align: top;\n",
       "    }\n",
       "\n",
       "    .dataframe thead th {\n",
       "        text-align: right;\n",
       "    }\n",
       "</style>\n",
       "<table border=\"1\" class=\"dataframe\">\n",
       "  <thead>\n",
       "    <tr style=\"text-align: right;\">\n",
       "      <th></th>\n",
       "      <th>Ratings</th>\n",
       "      <th>itemId</th>\n",
       "      <th>Label</th>\n",
       "    </tr>\n",
       "  </thead>\n",
       "  <tbody>\n",
       "    <tr>\n",
       "      <th>0</th>\n",
       "      <td>3.30</td>\n",
       "      <td>50</td>\n",
       "      <td>3.30</td>\n",
       "    </tr>\n",
       "    <tr>\n",
       "      <th>1</th>\n",
       "      <td>2.70</td>\n",
       "      <td>7</td>\n",
       "      <td>2.70</td>\n",
       "    </tr>\n",
       "    <tr>\n",
       "      <th>2</th>\n",
       "      <td>2.50</td>\n",
       "      <td>100</td>\n",
       "      <td>2.50</td>\n",
       "    </tr>\n",
       "    <tr>\n",
       "      <th>3</th>\n",
       "      <td>2.43</td>\n",
       "      <td>5</td>\n",
       "      <td>NaN</td>\n",
       "    </tr>\n",
       "    <tr>\n",
       "      <th>4</th>\n",
       "      <td>2.33</td>\n",
       "      <td>2</td>\n",
       "      <td>NaN</td>\n",
       "    </tr>\n",
       "    <tr>\n",
       "      <th>5</th>\n",
       "      <td>NaN</td>\n",
       "      <td>3</td>\n",
       "      <td>2.49</td>\n",
       "    </tr>\n",
       "    <tr>\n",
       "      <th>6</th>\n",
       "      <td>NaN</td>\n",
       "      <td>80</td>\n",
       "      <td>2.33</td>\n",
       "    </tr>\n",
       "  </tbody>\n",
       "</table>\n",
       "</div>"
      ],
      "text/plain": [
       "   Ratings  itemId  Label\n",
       "0     3.30      50   3.30\n",
       "1     2.70       7   2.70\n",
       "2     2.50     100   2.50\n",
       "3     2.43       5    NaN\n",
       "4     2.33       2    NaN\n",
       "5      NaN       3   2.49\n",
       "6      NaN      80   2.33"
      ]
     },
     "execution_count": 18,
     "metadata": {},
     "output_type": "execute_result"
    }
   ],
   "source": [
    "df1 = pd.merge(\n",
    "    df1, df2, how='outer',\n",
    "    left_on='itemId', right_on='itemId')\n",
    "df1"
   ]
  },
  {
   "cell_type": "code",
   "execution_count": 20,
   "metadata": {},
   "outputs": [],
   "source": [
    "df_1 = df_1[['itemId', 'Ratings', 'Label']]\n",
    "df_1 = df_1.fillna(0)"
   ]
  },
  {
   "cell_type": "code",
   "execution_count": 21,
   "metadata": {},
   "outputs": [
    {
     "data": {
      "text/html": [
       "<div>\n",
       "<style scoped>\n",
       "    .dataframe tbody tr th:only-of-type {\n",
       "        vertical-align: middle;\n",
       "    }\n",
       "\n",
       "    .dataframe tbody tr th {\n",
       "        vertical-align: top;\n",
       "    }\n",
       "\n",
       "    .dataframe thead th {\n",
       "        text-align: right;\n",
       "    }\n",
       "</style>\n",
       "<table border=\"1\" class=\"dataframe\">\n",
       "  <thead>\n",
       "    <tr style=\"text-align: right;\">\n",
       "      <th></th>\n",
       "      <th>itemId</th>\n",
       "      <th>Ratings</th>\n",
       "      <th>Label</th>\n",
       "    </tr>\n",
       "  </thead>\n",
       "  <tbody>\n",
       "    <tr>\n",
       "      <th>0</th>\n",
       "      <td>50</td>\n",
       "      <td>3.3</td>\n",
       "      <td>3.30</td>\n",
       "    </tr>\n",
       "    <tr>\n",
       "      <th>1</th>\n",
       "      <td>7</td>\n",
       "      <td>2.7</td>\n",
       "      <td>2.70</td>\n",
       "    </tr>\n",
       "    <tr>\n",
       "      <th>2</th>\n",
       "      <td>100</td>\n",
       "      <td>2.5</td>\n",
       "      <td>2.50</td>\n",
       "    </tr>\n",
       "    <tr>\n",
       "      <th>3</th>\n",
       "      <td>3</td>\n",
       "      <td>0.0</td>\n",
       "      <td>2.49</td>\n",
       "    </tr>\n",
       "    <tr>\n",
       "      <th>4</th>\n",
       "      <td>80</td>\n",
       "      <td>0.0</td>\n",
       "      <td>2.33</td>\n",
       "    </tr>\n",
       "  </tbody>\n",
       "</table>\n",
       "</div>"
      ],
      "text/plain": [
       "   itemId  Ratings  Label\n",
       "0      50      3.3   3.30\n",
       "1       7      2.7   2.70\n",
       "2     100      2.5   2.50\n",
       "3       3      0.0   2.49\n",
       "4      80      0.0   2.33"
      ]
     },
     "execution_count": 21,
     "metadata": {},
     "output_type": "execute_result"
    }
   ],
   "source": [
    "df_1"
   ]
  },
  {
   "cell_type": "code",
   "execution_count": 27,
   "metadata": {},
   "outputs": [],
   "source": [
    "# df_1['Result']= df_1['Ratings','Label'].mean()\n",
    "df_1['Result'] = df_1.apply(\n",
    "    lambda row: (row['Ratings']+row['Label'])/2,\n",
    "    axis=1\n",
    ")"
   ]
  },
  {
   "cell_type": "code",
   "execution_count": 29,
   "metadata": {},
   "outputs": [
    {
     "data": {
      "text/html": [
       "<div>\n",
       "<style scoped>\n",
       "    .dataframe tbody tr th:only-of-type {\n",
       "        vertical-align: middle;\n",
       "    }\n",
       "\n",
       "    .dataframe tbody tr th {\n",
       "        vertical-align: top;\n",
       "    }\n",
       "\n",
       "    .dataframe thead th {\n",
       "        text-align: right;\n",
       "    }\n",
       "</style>\n",
       "<table border=\"1\" class=\"dataframe\">\n",
       "  <thead>\n",
       "    <tr style=\"text-align: right;\">\n",
       "      <th></th>\n",
       "      <th>itemId</th>\n",
       "      <th>Ratings</th>\n",
       "      <th>Label</th>\n",
       "      <th>Result</th>\n",
       "    </tr>\n",
       "  </thead>\n",
       "  <tbody>\n",
       "    <tr>\n",
       "      <th>0</th>\n",
       "      <td>50</td>\n",
       "      <td>3.3</td>\n",
       "      <td>3.30</td>\n",
       "      <td>3.300</td>\n",
       "    </tr>\n",
       "    <tr>\n",
       "      <th>1</th>\n",
       "      <td>7</td>\n",
       "      <td>2.7</td>\n",
       "      <td>2.70</td>\n",
       "      <td>2.700</td>\n",
       "    </tr>\n",
       "    <tr>\n",
       "      <th>2</th>\n",
       "      <td>100</td>\n",
       "      <td>2.5</td>\n",
       "      <td>2.50</td>\n",
       "      <td>2.500</td>\n",
       "    </tr>\n",
       "    <tr>\n",
       "      <th>3</th>\n",
       "      <td>3</td>\n",
       "      <td>0.0</td>\n",
       "      <td>2.49</td>\n",
       "      <td>1.245</td>\n",
       "    </tr>\n",
       "    <tr>\n",
       "      <th>4</th>\n",
       "      <td>80</td>\n",
       "      <td>0.0</td>\n",
       "      <td>2.33</td>\n",
       "      <td>1.165</td>\n",
       "    </tr>\n",
       "  </tbody>\n",
       "</table>\n",
       "</div>"
      ],
      "text/plain": [
       "   itemId  Ratings  Label  Result\n",
       "0      50      3.3   3.30   3.300\n",
       "1       7      2.7   2.70   2.700\n",
       "2     100      2.5   2.50   2.500\n",
       "3       3      0.0   2.49   1.245\n",
       "4      80      0.0   2.33   1.165"
      ]
     },
     "execution_count": 29,
     "metadata": {},
     "output_type": "execute_result"
    }
   ],
   "source": [
    "df_1.sort_values(by=['Result'],ascending=[0])"
   ]
  },
  {
   "cell_type": "code",
   "execution_count": null,
   "metadata": {},
   "outputs": [],
   "source": []
  }
 ],
 "metadata": {
  "kernelspec": {
   "display_name": "Python 3",
   "language": "python",
   "name": "python3"
  },
  "language_info": {
   "codemirror_mode": {
    "name": "ipython",
    "version": 3
   },
   "file_extension": ".py",
   "mimetype": "text/x-python",
   "name": "python",
   "nbconvert_exporter": "python",
   "pygments_lexer": "ipython3",
   "version": "3.6.6+"
  }
 },
 "nbformat": 4,
 "nbformat_minor": 2
}
