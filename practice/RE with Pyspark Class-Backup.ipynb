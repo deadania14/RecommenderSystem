{
 "cells": [
  {
   "cell_type": "code",
   "execution_count": 1,
   "metadata": {},
   "outputs": [],
   "source": [
    "from pyspark.sql import SparkSession\n",
    "spark = SparkSession.builder.appName('recommender').getOrCreate()\n",
    "from pyspark.ml.recommendation import ALS\n",
    "from pyspark.ml.evaluation import RegressionEvaluator\n",
    "from pyspark.ml.tuning import TrainValidationSplit, ParamGridBuilder"
   ]
  },
  {
   "cell_type": "code",
   "execution_count": null,
   "metadata": {},
   "outputs": [],
   "source": [
    "# SIMPLE WAY"
   ]
  },
  {
   "cell_type": "code",
   "execution_count": 2,
   "metadata": {},
   "outputs": [],
   "source": [
    "import pandas as pd\n",
    "reviews = pd.read_csv('data/upload/all_reviews_through_SA.csv')\n",
    "reviews2 = pd.read_csv('data/upload/all_reviews_through_SA_class.csv')\n",
    "datatest, datatrain  = reviews.sample(frac =.2), reviews.sample(frac=.8)\n",
    "datatest2, datatrain2  = reviews2.sample(frac =.2), reviews2.sample(frac=.8)\n",
    "DataTrain = spark.createDataFrame(datatrain)\n",
    "DataTest = spark.createDataFrame(datatest)\n",
    "DataTrain2 = spark.createDataFrame(datatrain2)\n",
    "DataTest2 = spark.createDataFrame(datatest2)"
   ]
  },
  {
   "cell_type": "code",
   "execution_count": 6,
   "metadata": {},
   "outputs": [],
   "source": [
    "def RE2(thecolumn, datatrain, datatest):\n",
    "    als = ALS(userCol='userId', itemCol='itemId', \n",
    "              ratingCol=thecolumn, nonnegative=True,\n",
    "              )\n",
    "    #Tune model using ParamGridBuilder\n",
    "    param_grid = ParamGridBuilder()\\\n",
    "                .addGrid(als.rank,[12,13,14])\\\n",
    "                .addGrid(als.maxIter,[18,19,20])\\\n",
    "                .addGrid(als.regParam, [.17, .18, .19])\\\n",
    "                .build()\n",
    "    #Define evaluator as RMSE\n",
    "    evaluator_ = RegressionEvaluator(metricName=\"rmse\", labelCol=thecolumn,\n",
    "                                   predictionCol = \"prediction\")\n",
    "    #Build cross validation using TrainvalidationSplit\n",
    "    tvs = TrainValidationSplit(\n",
    "        estimator = als,\n",
    "        estimatorParamMaps = param_grid,\n",
    "        evaluator=evaluator_)\n",
    "    #Fit ALS model to training data\n",
    "    model = tvs.fit(datatrain)\n",
    "    #Extract best model from the tuning exercise using ParamGridBuilder\n",
    "    bmodel = model.bestModel\n",
    "    # Generate Predictions and evaluate using RMSE\n",
    "    predictions = bmodel.transform(datatest)\n",
    "    predictions = predictions.na.drop()\n",
    "    rmse = evaluator_.evaluate(predictions)\n",
    "    mIter = bmodel._java_obj.parent().getMaxIter()\n",
    "    rParam = bmodel._java_obj.parent().getRegParam()\n",
    "    return (predictions, model, rmse, mIter, rParam)"
   ]
  },
  {
   "cell_type": "code",
   "execution_count": 7,
   "metadata": {},
   "outputs": [],
   "source": [
    "prediction_rating_re2, model_rating_re2, rmse_re2, mIter_re2, rParam_re2 = RE2('rating', DataTrain, DataTest)"
   ]
  },
  {
   "cell_type": "code",
   "execution_count": 8,
   "metadata": {},
   "outputs": [
    {
     "name": "stdout",
     "output_type": "stream",
     "text": [
      "RMSE = 0.33665470660912095\n",
      "best model :\n",
      "maxIter = 18\n",
      "regParam = 0.17\n"
     ]
    }
   ],
   "source": [
    "print(\"RMSE = \" + str(rmse_re2))\n",
    "print(\"best model :\")\n",
    "print(\"maxIter = \" + str(mIter_re2))\n",
    "print(\"regParam = \" + str(rParam_re2))"
   ]
  },
  {
   "cell_type": "code",
   "execution_count": 9,
   "metadata": {},
   "outputs": [],
   "source": [
    "prediction_tes_re2, model_tes_re2, rmse_tes_re2, mIter_tes_re2, rParam_tes_re2 = RE2('testimony_class', DataTrain, DataTest)"
   ]
  },
  {
   "cell_type": "code",
   "execution_count": 10,
   "metadata": {},
   "outputs": [
    {
     "name": "stdout",
     "output_type": "stream",
     "text": [
      "RMSE = 0.22924448598954295\n",
      "best model :\n",
      "maxIter = 18\n",
      "regParam = 0.17\n"
     ]
    }
   ],
   "source": [
    "print(\"RMSE = \" + str(rmse_tes_re2))\n",
    "print(\"best model :\")\n",
    "print(\"maxIter = \" + str(mIter_tes_re2))\n",
    "print(\"regParam = \" + str(rParam_tes_re2))"
   ]
  },
  {
   "cell_type": "code",
   "execution_count": 11,
   "metadata": {},
   "outputs": [],
   "source": [
    "prediction_rating2_re2, model_rating2_re2, rmse2_re2, mIter2_re2, rParam2_re2 = RE2('rating', DataTrain2, DataTest2)"
   ]
  },
  {
   "cell_type": "code",
   "execution_count": 12,
   "metadata": {},
   "outputs": [
    {
     "name": "stdout",
     "output_type": "stream",
     "text": [
      "RMSE = 0.32202640819037937\n",
      "best model :\n",
      "maxIter = 18\n",
      "regParam = 0.17\n"
     ]
    }
   ],
   "source": [
    "print(\"RMSE = \" + str(rmse2_re2))\n",
    "print(\"best model :\")\n",
    "print(\"maxIter = \" + str(mIter2_re2))\n",
    "print(\"regParam = \" + str(rParam2_re2))"
   ]
  },
  {
   "cell_type": "code",
   "execution_count": 13,
   "metadata": {},
   "outputs": [],
   "source": [
    "prediction2_tes_re2, model2_tes_re2, rmse2_tes_re2, mIter2_tes_re2, rParam2_tes_re2 = RE2('testimony_class', DataTrain2, DataTest2)"
   ]
  },
  {
   "cell_type": "code",
   "execution_count": 14,
   "metadata": {},
   "outputs": [
    {
     "name": "stdout",
     "output_type": "stream",
     "text": [
      "RMSE = 0.320391667778923\n",
      "best model :\n",
      "maxIter = 18\n",
      "regParam = 0.17\n"
     ]
    }
   ],
   "source": [
    "print(\"RMSE = \" + str(rmse2_tes_re2))\n",
    "print(\"best model :\")\n",
    "print(\"maxIter = \" + str(mIter2_tes_re2))\n",
    "print(\"regParam = \" + str(rParam2_tes_re2))"
   ]
  },
  {
   "cell_type": "code",
   "execution_count": 6,
   "metadata": {},
   "outputs": [],
   "source": [
    "def RE(thecolumn, datatrain, datatest):\n",
    "    als = ALS(userCol='userId', itemCol='itemId', \n",
    "              ratingCol=thecolumn, nonnegative=True)\n",
    "    model = als.fit(datatrain)\n",
    "    # Generate Predictions and evaluate using RMSE\n",
    "    predictions = model.transform(datatest)\n",
    "    predictions = predictions.na.drop()\n",
    "    return (predictions, model)"
   ]
  },
  {
   "cell_type": "code",
   "execution_count": 7,
   "metadata": {},
   "outputs": [],
   "source": [
    "prediction_rating, model_rating = RE('rating', DataTrain, DataTest)\n",
    "prediction_testimony_class, model_tclass = RE('testimony_class', DataTrain, DataTest)"
   ]
  },
  {
   "cell_type": "code",
   "execution_count": 8,
   "metadata": {},
   "outputs": [],
   "source": [
    "prediction_rating2, model_rating2 = RE('rating', DataTrain2, DataTest2)\n",
    "prediction_testimony_class2, model_tclass2 = RE('testimony_class', DataTrain2, DataTest2)"
   ]
  },
  {
   "cell_type": "code",
   "execution_count": null,
   "metadata": {},
   "outputs": [],
   "source": []
  },
  {
   "cell_type": "code",
   "execution_count": 5,
   "metadata": {},
   "outputs": [],
   "source": [
    "user_recs_tc_top3 = model_tclass.recommendForAllUsers(3)\n",
    "user_recs_rat_top3 = model_rating.recommendForAllUsers(3)"
   ]
  },
  {
   "cell_type": "code",
   "execution_count": 6,
   "metadata": {},
   "outputs": [
    {
     "name": "stdout",
     "output_type": "stream",
     "text": [
      "+------+--------------------+\n",
      "|userId|     recommendations|\n",
      "+------+--------------------+\n",
      "|  1580|[[16, 1.8787358],...|\n",
      "|  1591|[[5, 1.8766649], ...|\n",
      "|  1342|[[28, 1.9247665],...|\n",
      "+------+--------------------+\n",
      "only showing top 3 rows\n",
      "\n",
      "+------+--------------------+\n",
      "|userId|     recommendations|\n",
      "+------+--------------------+\n",
      "|  1580|[[36, 5.064891], ...|\n",
      "|  1591|[[18, 4.4343705],...|\n",
      "|  1342|[[3, 5.155411], [...|\n",
      "+------+--------------------+\n",
      "only showing top 3 rows\n",
      "\n"
     ]
    }
   ],
   "source": [
    "user_recs_tc_top3.show(3)\n",
    "user_recs_rat_top3.show(3)"
   ]
  },
  {
   "cell_type": "code",
   "execution_count": null,
   "metadata": {},
   "outputs": [],
   "source": []
  },
  {
   "cell_type": "code",
   "execution_count": 7,
   "metadata": {},
   "outputs": [
    {
     "data": {
      "text/plain": [
       "Row(recommendations=[Row(itemId=16, rating=1.8787357807159424), Row(itemId=40, rating=1.856463074684143), Row(itemId=7, rating=1.8411509990692139)])"
      ]
     },
     "execution_count": 7,
     "metadata": {},
     "output_type": "execute_result"
    }
   ],
   "source": [
    "user_recs_tc_top3.select(['recommendations']).filter(\n",
    "    user_recs_tc_top3.userId == 1580).first()"
   ]
  },
  {
   "cell_type": "code",
   "execution_count": 8,
   "metadata": {},
   "outputs": [
    {
     "data": {
      "text/plain": [
       "Row(recommendations=[Row(itemId=36, rating=5.0648908615112305), Row(itemId=16, rating=4.81621789932251), Row(itemId=24, rating=4.691054344177246)])"
      ]
     },
     "execution_count": 8,
     "metadata": {},
     "output_type": "execute_result"
    }
   ],
   "source": [
    "user_recs_rat_top3.select(['recommendations']).filter(\n",
    "    user_recs_rat_top3.userId == 1580).first()"
   ]
  },
  {
   "cell_type": "code",
   "execution_count": 6,
   "metadata": {},
   "outputs": [],
   "source": [
    "import numpy as np"
   ]
  },
  {
   "cell_type": "code",
   "execution_count": 7,
   "metadata": {},
   "outputs": [],
   "source": [
    "TopRecBasedOnTestimony = pd.DataFrame(np.array([[16, 3], [40, 2], [7,1]]),\n",
    "                                              columns=['itemId', 'points_tes'])\n",
    "TopRecBasedOnRating= pd.DataFrame(np.array([[36, 3], [16, 2], [24,1]]),\n",
    "                                              columns=['itemId', 'points_rat'])"
   ]
  },
  {
   "cell_type": "code",
   "execution_count": 8,
   "metadata": {},
   "outputs": [],
   "source": [
    "topRecommendations = pd.merge(\n",
    "    TopRecBasedOnTestimony, TopRecBasedOnRating,\n",
    "    on='itemId', how='outer').fillna(0)"
   ]
  },
  {
   "cell_type": "code",
   "execution_count": 9,
   "metadata": {},
   "outputs": [
    {
     "data": {
      "text/html": [
       "<div>\n",
       "<style scoped>\n",
       "    .dataframe tbody tr th:only-of-type {\n",
       "        vertical-align: middle;\n",
       "    }\n",
       "\n",
       "    .dataframe tbody tr th {\n",
       "        vertical-align: top;\n",
       "    }\n",
       "\n",
       "    .dataframe thead th {\n",
       "        text-align: right;\n",
       "    }\n",
       "</style>\n",
       "<table border=\"1\" class=\"dataframe\">\n",
       "  <thead>\n",
       "    <tr style=\"text-align: right;\">\n",
       "      <th></th>\n",
       "      <th>itemId</th>\n",
       "      <th>points_tes</th>\n",
       "      <th>points_rat</th>\n",
       "      <th>Result</th>\n",
       "    </tr>\n",
       "  </thead>\n",
       "  <tbody>\n",
       "    <tr>\n",
       "      <th>0</th>\n",
       "      <td>16</td>\n",
       "      <td>3.0</td>\n",
       "      <td>2.0</td>\n",
       "      <td>2.5</td>\n",
       "    </tr>\n",
       "    <tr>\n",
       "      <th>3</th>\n",
       "      <td>36</td>\n",
       "      <td>0.0</td>\n",
       "      <td>3.0</td>\n",
       "      <td>1.5</td>\n",
       "    </tr>\n",
       "    <tr>\n",
       "      <th>1</th>\n",
       "      <td>40</td>\n",
       "      <td>2.0</td>\n",
       "      <td>0.0</td>\n",
       "      <td>1.0</td>\n",
       "    </tr>\n",
       "    <tr>\n",
       "      <th>2</th>\n",
       "      <td>7</td>\n",
       "      <td>1.0</td>\n",
       "      <td>0.0</td>\n",
       "      <td>0.5</td>\n",
       "    </tr>\n",
       "    <tr>\n",
       "      <th>4</th>\n",
       "      <td>24</td>\n",
       "      <td>0.0</td>\n",
       "      <td>1.0</td>\n",
       "      <td>0.5</td>\n",
       "    </tr>\n",
       "  </tbody>\n",
       "</table>\n",
       "</div>"
      ],
      "text/plain": [
       "   itemId  points_tes  points_rat  Result\n",
       "0      16         3.0         2.0     2.5\n",
       "3      36         0.0         3.0     1.5\n",
       "1      40         2.0         0.0     1.0\n",
       "2       7         1.0         0.0     0.5\n",
       "4      24         0.0         1.0     0.5"
      ]
     },
     "execution_count": 9,
     "metadata": {},
     "output_type": "execute_result"
    }
   ],
   "source": [
    "# calculate the result\n",
    "topRecommendations['Result'] = topRecommendations.apply(\n",
    "    lambda row: (row['points_rat']+row['points_tes'])/2,\n",
    "    axis=1\n",
    ")\n",
    "topRecommendations = topRecommendations.sort_values(by=['Result'],ascending=[0])\n",
    "topRecommendations"
   ]
  },
  {
   "cell_type": "code",
   "execution_count": 12,
   "metadata": {},
   "outputs": [],
   "source": [
    "item = pd.read_csv('data/modal/all_item.csv')"
   ]
  },
  {
   "cell_type": "code",
   "execution_count": 22,
   "metadata": {},
   "outputs": [],
   "source": [
    "rec_item_df = item.loc[item.itemId.isin(topRecommendations.itemId)]"
   ]
  },
  {
   "cell_type": "code",
   "execution_count": 24,
   "metadata": {},
   "outputs": [
    {
     "data": {
      "text/html": [
       "<div>\n",
       "<style scoped>\n",
       "    .dataframe tbody tr th:only-of-type {\n",
       "        vertical-align: middle;\n",
       "    }\n",
       "\n",
       "    .dataframe tbody tr th {\n",
       "        vertical-align: top;\n",
       "    }\n",
       "\n",
       "    .dataframe thead th {\n",
       "        text-align: right;\n",
       "    }\n",
       "</style>\n",
       "<table border=\"1\" class=\"dataframe\">\n",
       "  <thead>\n",
       "    <tr style=\"text-align: right;\">\n",
       "      <th></th>\n",
       "      <th>itemId</th>\n",
       "      <th>points_tes</th>\n",
       "      <th>points_rat</th>\n",
       "      <th>Result</th>\n",
       "      <th>itemname</th>\n",
       "      <th>Category</th>\n",
       "    </tr>\n",
       "  </thead>\n",
       "  <tbody>\n",
       "    <tr>\n",
       "      <th>0</th>\n",
       "      <td>16</td>\n",
       "      <td>3.0</td>\n",
       "      <td>2.0</td>\n",
       "      <td>2.5</td>\n",
       "      <td>Fire Kids Edition Tablet, 7 Display, Wi-Fi, 16...</td>\n",
       "      <td>Tablet</td>\n",
       "    </tr>\n",
       "    <tr>\n",
       "      <th>1</th>\n",
       "      <td>36</td>\n",
       "      <td>0.0</td>\n",
       "      <td>3.0</td>\n",
       "      <td>1.5</td>\n",
       "      <td>Travel Adapter,WGGE Multi-Nation Travel Adapte...</td>\n",
       "      <td>Adapter</td>\n",
       "    </tr>\n",
       "    <tr>\n",
       "      <th>2</th>\n",
       "      <td>40</td>\n",
       "      <td>2.0</td>\n",
       "      <td>0.0</td>\n",
       "      <td>1.0</td>\n",
       "      <td>Travel Adapter, 2400W International Power Adap...</td>\n",
       "      <td>Adapter</td>\n",
       "    </tr>\n",
       "    <tr>\n",
       "      <th>3</th>\n",
       "      <td>7</td>\n",
       "      <td>1.0</td>\n",
       "      <td>0.0</td>\n",
       "      <td>0.5</td>\n",
       "      <td>Fire Kids Edition Tablet, 7 Display, Wi-Fi, 16...</td>\n",
       "      <td>Tablet</td>\n",
       "    </tr>\n",
       "    <tr>\n",
       "      <th>4</th>\n",
       "      <td>24</td>\n",
       "      <td>0.0</td>\n",
       "      <td>1.0</td>\n",
       "      <td>0.5</td>\n",
       "      <td>TCL 32S325 32 Inch 720p Roku Smart LED TV (2019)</td>\n",
       "      <td>TV</td>\n",
       "    </tr>\n",
       "  </tbody>\n",
       "</table>\n",
       "</div>"
      ],
      "text/plain": [
       "   itemId  points_tes  points_rat  Result  \\\n",
       "0      16         3.0         2.0     2.5   \n",
       "1      36         0.0         3.0     1.5   \n",
       "2      40         2.0         0.0     1.0   \n",
       "3       7         1.0         0.0     0.5   \n",
       "4      24         0.0         1.0     0.5   \n",
       "\n",
       "                                            itemname Category  \n",
       "0  Fire Kids Edition Tablet, 7 Display, Wi-Fi, 16...   Tablet  \n",
       "1  Travel Adapter,WGGE Multi-Nation Travel Adapte...  Adapter  \n",
       "2  Travel Adapter, 2400W International Power Adap...  Adapter  \n",
       "3  Fire Kids Edition Tablet, 7 Display, Wi-Fi, 16...   Tablet  \n",
       "4  TCL 32S325 32 Inch 720p Roku Smart LED TV (2019)        TV  "
      ]
     },
     "execution_count": 24,
     "metadata": {},
     "output_type": "execute_result"
    }
   ],
   "source": [
    "topRecommendationsTitle= pd.merge(\n",
    "    topRecommendations, rec_item_df,\n",
    "    on='itemId', how='outer').fillna(0)\n",
    "topRecommendationsTitle"
   ]
  },
  {
   "cell_type": "code",
   "execution_count": 28,
   "metadata": {},
   "outputs": [
    {
     "name": "stdout",
     "output_type": "stream",
     "text": [
      "Top recommendation for user 1580\n"
     ]
    },
    {
     "data": {
      "text/html": [
       "<div>\n",
       "<style scoped>\n",
       "    .dataframe tbody tr th:only-of-type {\n",
       "        vertical-align: middle;\n",
       "    }\n",
       "\n",
       "    .dataframe tbody tr th {\n",
       "        vertical-align: top;\n",
       "    }\n",
       "\n",
       "    .dataframe thead th {\n",
       "        text-align: right;\n",
       "    }\n",
       "</style>\n",
       "<table border=\"1\" class=\"dataframe\">\n",
       "  <thead>\n",
       "    <tr style=\"text-align: right;\">\n",
       "      <th></th>\n",
       "      <th>itemId</th>\n",
       "      <th>itemname</th>\n",
       "    </tr>\n",
       "  </thead>\n",
       "  <tbody>\n",
       "    <tr>\n",
       "      <th>0</th>\n",
       "      <td>16</td>\n",
       "      <td>Fire Kids Edition Tablet, 7 Display, Wi-Fi, 16...</td>\n",
       "    </tr>\n",
       "    <tr>\n",
       "      <th>1</th>\n",
       "      <td>36</td>\n",
       "      <td>Travel Adapter,WGGE Multi-Nation Travel Adapte...</td>\n",
       "    </tr>\n",
       "    <tr>\n",
       "      <th>2</th>\n",
       "      <td>40</td>\n",
       "      <td>Travel Adapter, 2400W International Power Adap...</td>\n",
       "    </tr>\n",
       "  </tbody>\n",
       "</table>\n",
       "</div>"
      ],
      "text/plain": [
       "   itemId                                           itemname\n",
       "0      16  Fire Kids Edition Tablet, 7 Display, Wi-Fi, 16...\n",
       "1      36  Travel Adapter,WGGE Multi-Nation Travel Adapte...\n",
       "2      40  Travel Adapter, 2400W International Power Adap..."
      ]
     },
     "execution_count": 28,
     "metadata": {},
     "output_type": "execute_result"
    }
   ],
   "source": [
    "print(\"Top recommendation for user\", 1580)\n",
    "topRecommendationsTitle[['itemId', 'itemname']].head(3)\n"
   ]
  },
  {
   "cell_type": "code",
   "execution_count": 9,
   "metadata": {},
   "outputs": [],
   "source": [
    "def Evaluation(thecolumn, theprediction):\n",
    "    evaluator = RegressionEvaluator(metricName='rmse', \n",
    "                                    labelCol=thecolumn, \n",
    "                                    predictionCol='prediction')    \n",
    "    # RMSE Root Mean Square Error\n",
    "    rmse = evaluator.evaluate(theprediction)\n",
    "    return (rmse)\n"
   ]
  },
  {
   "cell_type": "code",
   "execution_count": 13,
   "metadata": {},
   "outputs": [],
   "source": [
    "rating_rmse = round(Evaluation('rating', \n",
    "                               prediction_rating), 3)\n",
    "testimony_class = round(Evaluation('testimony_class', \n",
    "                                   prediction_testimony_class), 3)"
   ]
  },
  {
   "cell_type": "code",
   "execution_count": 14,
   "metadata": {},
   "outputs": [
    {
     "name": "stdout",
     "output_type": "stream",
     "text": [
      "RMSE of rating predictions is 0.404\n",
      "RMSE of testimony class predictions is 0.21\n"
     ]
    }
   ],
   "source": [
    "print(\"RMSE of rating predictions is \" + str(rating_rmse))\n",
    "print(\"RMSE of testimony class predictions is \" + str(testimony_class))"
   ]
  },
  {
   "cell_type": "code",
   "execution_count": 15,
   "metadata": {},
   "outputs": [],
   "source": [
    "rating_rmse2 = round(Evaluation('rating', \n",
    "                               prediction_rating2), 3)\n",
    "testimony_class2 = round(Evaluation('testimony_class', \n",
    "                                   prediction_testimony_class2), 3)"
   ]
  },
  {
   "cell_type": "code",
   "execution_count": 16,
   "metadata": {},
   "outputs": [
    {
     "name": "stdout",
     "output_type": "stream",
     "text": [
      "RMSE of rating predictions is 0.456\n",
      "RMSE of testimony class predictions is 0.39\n"
     ]
    }
   ],
   "source": [
    "print(\"RMSE of rating predictions is \" + str(rating_rmse2))\n",
    "print(\"RMSE of testimony class predictions is \" + str(testimony_class2))"
   ]
  },
  {
   "cell_type": "code",
   "execution_count": null,
   "metadata": {},
   "outputs": [],
   "source": []
  },
  {
   "cell_type": "code",
   "execution_count": null,
   "metadata": {},
   "outputs": [],
   "source": [
    "# from pyspark.sql.functions import lit\n",
    "\n",
    "# def recommendMovies(model, user, nbRecommendations):\n",
    "#     # Create a Spark DataFrame with the specified user and all the movies listed in the ratings DataFrame\n",
    "#     dataSet = ratings.select(\"movieId\").distinct().withColumn(\"userId\", lit(user))\n",
    "\n",
    "#     # Create a Spark DataFrame with the movies that have already been rated by this user\n",
    "#     moviesAlreadyRated = ratings.filter(ratings.userId == user).select(\"movieId\", \"userId\")\n",
    "\n",
    "#     # Apply the recommender system to the data set without the already rated movies to predict ratings\n",
    "#     predictions = model.transform(dataSet.subtract(moviesAlreadyRated)).dropna().orderBy(\"prediction\", ascending=False).limit(nbRecommendations).select(\"movieId\", \"prediction\")\n",
    "\n",
    "#     # Join with the movies DataFrame to get the movies titles and genres\n",
    "#     recommendations = predictions.join(movies, predictions.movieId == movies.movieId).select(predictions.movieId, movies.title, movies.genres, predictions.prediction)\n",
    "\n",
    "#     recommendations.show(truncate=False)\n"
   ]
  },
  {
   "cell_type": "code",
   "execution_count": 32,
   "metadata": {},
   "outputs": [],
   "source": []
  },
  {
   "cell_type": "code",
   "execution_count": 33,
   "metadata": {},
   "outputs": [
    {
     "name": "stdout",
     "output_type": "stream",
     "text": [
      "RMSE of rating predictions is 2.961\n"
     ]
    }
   ],
   "source": []
  },
  {
   "cell_type": "code",
   "execution_count": null,
   "metadata": {},
   "outputs": [],
   "source": []
  }
 ],
 "metadata": {
  "kernelspec": {
   "display_name": "Python 3",
   "language": "python",
   "name": "python3"
  },
  "language_info": {
   "codemirror_mode": {
    "name": "ipython",
    "version": 3
   },
   "file_extension": ".py",
   "mimetype": "text/x-python",
   "name": "python",
   "nbconvert_exporter": "python",
   "pygments_lexer": "ipython3",
   "version": "3.6.6+"
  }
 },
 "nbformat": 4,
 "nbformat_minor": 2
}
