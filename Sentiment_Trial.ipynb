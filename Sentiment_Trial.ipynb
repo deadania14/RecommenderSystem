{
 "cells": [
  {
   "cell_type": "code",
   "execution_count": 1,
   "metadata": {},
   "outputs": [],
   "source": [
    "from textblob import TextBlob\n",
    "from textblob.classifiers import NaiveBayesClassifier\n",
    "\n",
    "\n",
    "with open('data/datatrain.json', 'r') as fp:\n",
    "    cl = NaiveBayesClassifier(fp, format=\"json\")"
   ]
  },
  {
   "cell_type": "code",
   "execution_count": 2,
   "metadata": {},
   "outputs": [],
   "source": [
    "# import libraries\n",
    "import pandas as pd\n",
    "import numpy as np\n",
    "\n",
    "# get the data from csv file to dataframe\n",
    "raw_data = pd.read_csv('data/amazon_datafiniti.csv', low_memory=False)\n"
   ]
  },
  {
   "cell_type": "code",
   "execution_count": 3,
   "metadata": {},
   "outputs": [
    {
     "data": {
      "text/plain": [
       "Index(['id', 'dateAdded', 'dateUpdated', 'name', 'asins', 'brand',\n",
       "       'categories', 'primaryCategories', 'imageURLs', 'keys', 'manufacturer',\n",
       "       'manufacturerNumber', 'reviews.date', 'reviews.dateAdded',\n",
       "       'reviews.dateSeen', 'reviews.doRecommend', 'reviews.id',\n",
       "       'reviews.numHelpful', 'reviews.rating', 'reviews.sourceURLs',\n",
       "       'reviews.text', 'reviews.title', 'reviews.username', 'sourceURLs'],\n",
       "      dtype='object')"
      ]
     },
     "execution_count": 3,
     "metadata": {},
     "output_type": "execute_result"
    }
   ],
   "source": [
    "raw_data.shape\n",
    "raw_data.columns"
   ]
  },
  {
   "cell_type": "code",
   "execution_count": 7,
   "metadata": {},
   "outputs": [
    {
     "data": {
      "text/plain": [
       "(4905, 24)"
      ]
     },
     "execution_count": 7,
     "metadata": {},
     "output_type": "execute_result"
    }
   ],
   "source": [
    "#drop duplicate data\n",
    "raw_data.drop_duplicates(keep=\"last\", inplace=True)\n",
    "raw_data.shape"
   ]
  },
  {
   "cell_type": "code",
   "execution_count": 11,
   "metadata": {},
   "outputs": [],
   "source": [
    "df_test = pd.DataFrame()\n",
    "df_test['text'] = raw_data['reviews.text']"
   ]
  },
  {
   "cell_type": "code",
   "execution_count": 12,
   "metadata": {},
   "outputs": [
    {
     "data": {
      "text/plain": [
       "0       I thought it would be as big as small paper bu...\n",
       "1       This kindle is light and easy to use especiall...\n",
       "2       Didnt know how much i'd use a kindle so went f...\n",
       "3       I am 100 happy with my purchase. I caught it o...\n",
       "4       Solid entry level Kindle. Great for kids. Gift...\n",
       "5       This make an excellent ebook reader. Don't exp...\n",
       "6       I ordered this for my daughter, as I have the ...\n",
       "7       I bought my Kindle about 2 months ago and the ...\n",
       "8       amazon kindle is always the best ebook, upgrad...\n",
       "9       It's beyond my expectation, and it can even sh...\n",
       "10      If you really want to have a good read on some...\n",
       "11      Love my kindle, makes reading at night so easy...\n",
       "12      Good product for child. Who only need to read ...\n",
       "13      This Kindle is a convenient size yet lettering...\n",
       "14      I use this every day on my commute. Great batt...\n",
       "15      It does its job but I would buy one which the ...\n",
       "16      Great product for myself! And I bought it when...\n",
       "17      Item work well and was easy to read from in da...\n",
       "18      Great product and service will refer to a frie...\n",
       "19      Everything is great except that i can't read e...\n",
       "20      I was looking for a kindle whitepaper. I saw o...\n",
       "21      This is a nice bare-bones reading device. Easy...\n",
       "22      Easy to use and navigate, purchasing books is ...\n",
       "23      The Amazon Kindle is light weight and easy to ...\n",
       "24      I love hear readers, I had to replace mine bec...\n",
       "25      Love the simplicity. Also love that I use it f...\n",
       "26      My husband loves this Kindle. He has a muscula...\n",
       "27      I've wanted a kindle for a while and decided t...\n",
       "28      I have several Kindles so knew what to expect....\n",
       "29      I like this e reader, but wish the screen were...\n",
       "                              ...                        \n",
       "4970    Got this tablet for my 7yr old daughter and it...\n",
       "4971    Hard to use, Lots of ads, and Randomly closes ...\n",
       "4972    The features that I found on the Fire tablet f...\n",
       "4973    Got this for my grandson 7 yrs old - perfect s...\n",
       "4974    It great just a little small then what I would...\n",
       "4975    I wish it has some more of the apps from the p...\n",
       "4976    I like the unit but battery seems to run down ...\n",
       "4977    I'm very happy with my purchase. I bought one ...\n",
       "4978    Am happy with my purchase and the item is bein...\n",
       "4979    Amazon has consistently delivered quality tabl...\n",
       "4980    Bought this tablet after a cheaper model quit ...\n",
       "4981    I reviewed a lot of tablets before I bought th...\n",
       "4982    This device performs great! For the price it's...\n",
       "4983    Bought this to use on my travels. comes in han...\n",
       "4984    This is your basic Amazon taplet. Nothing too ...\n",
       "4985    Purchased this for my fiance's youngest son fo...\n",
       "4986    The apps are better, it charges faster and the...\n",
       "4987    My children love these kindles! They are so mu...\n",
       "4988    This tablet is so great for school children to...\n",
       "4989    This product was easy to set up and to use. Wo...\n",
       "4990    Tablets are best used for personal reading. Cl...\n",
       "4991    My son uses the device to help him do his home...\n",
       "4992    My 6yr old son loves the tablet!I plan on purc...\n",
       "4993    I APPRECIATE the ease of purchasing and readin...\n",
       "4994    I love this tablet/kindle. I can access email,...\n",
       "4995    This is a great tablet for the price. Amazon i...\n",
       "4996    This tablet is the perfect size and so easy to...\n",
       "4997    Purchased this for my son. Has room to upgrade...\n",
       "4998    I had some thoughts about getting this for a 5...\n",
       "4999    this is a steal, have 8 gb model as well.This ...\n",
       "Name: text, Length: 4905, dtype: object"
      ]
     },
     "execution_count": 12,
     "metadata": {},
     "output_type": "execute_result"
    }
   ],
   "source": [
    "# # change type of Series to String\n",
    "# df_test['text'] = astype('|S')\n",
    "df_test.text.apply(str)"
   ]
  },
  {
   "cell_type": "code",
   "execution_count": 13,
   "metadata": {},
   "outputs": [],
   "source": [
    "\n",
    "# df_test['snt'] = np.sign(TextBlob(df_test['text'], classifier=cl))  \n",
    "\n",
    "sentiment = []\n",
    "for x in df_test['text']:\n",
    "    blob = TextBlob(x, classifier=cl)\n",
    "    r = blob.classify()\n",
    "    if blob.sentiment[0] == 0:\n",
    "        r = 'neutral'\n",
    "    sentiment.append(r)\n",
    "\n",
    "    "
   ]
  },
  {
   "cell_type": "code",
   "execution_count": 14,
   "metadata": {},
   "outputs": [],
   "source": [
    "df_test['sentiment'] = sentiment"
   ]
  },
  {
   "cell_type": "code",
   "execution_count": 15,
   "metadata": {},
   "outputs": [
    {
     "data": {
      "text/plain": [
       "<bound method NDFrame.head of                                                    text sentiment\n",
       "0     I thought it would be as big as small paper bu...       pos\n",
       "1     This kindle is light and easy to use especiall...       pos\n",
       "2     Didnt know how much i'd use a kindle so went f...       pos\n",
       "3     I am 100 happy with my purchase. I caught it o...       pos\n",
       "4     Solid entry level Kindle. Great for kids. Gift...       pos\n",
       "5     This make an excellent ebook reader. Don't exp...       neg\n",
       "6     I ordered this for my daughter, as I have the ...       pos\n",
       "7     I bought my Kindle about 2 months ago and the ...       neg\n",
       "8     amazon kindle is always the best ebook, upgrad...       pos\n",
       "9     It's beyond my expectation, and it can even sh...       pos\n",
       "10    If you really want to have a good read on some...       pos\n",
       "11    Love my kindle, makes reading at night so easy...       pos\n",
       "12    Good product for child. Who only need to read ...       pos\n",
       "13    This Kindle is a convenient size yet lettering...       pos\n",
       "14    I use this every day on my commute. Great batt...       pos\n",
       "15    It does its job but I would buy one which the ...       neg\n",
       "16    Great product for myself! And I bought it when...       pos\n",
       "17    Item work well and was easy to read from in da...       pos\n",
       "18    Great product and service will refer to a frie...       pos\n",
       "19    Everything is great except that i can't read e...       pos\n",
       "20    I was looking for a kindle whitepaper. I saw o...       neg\n",
       "21    This is a nice bare-bones reading device. Easy...       pos\n",
       "22    Easy to use and navigate, purchasing books is ...       pos\n",
       "23    The Amazon Kindle is light weight and easy to ...       pos\n",
       "24    I love hear readers, I had to replace mine bec...       pos\n",
       "25    Love the simplicity. Also love that I use it f...       pos\n",
       "26    My husband loves this Kindle. He has a muscula...       pos\n",
       "27    I've wanted a kindle for a while and decided t...       neg\n",
       "28    I have several Kindles so knew what to expect....       pos\n",
       "29    I like this e reader, but wish the screen were...       neg\n",
       "...                                                 ...       ...\n",
       "4970  Got this tablet for my 7yr old daughter and it...       neg\n",
       "4971  Hard to use, Lots of ads, and Randomly closes ...       pos\n",
       "4972  The features that I found on the Fire tablet f...       pos\n",
       "4973  Got this for my grandson 7 yrs old - perfect s...       neg\n",
       "4974  It great just a little small then what I would...       pos\n",
       "4975  I wish it has some more of the apps from the p...       neg\n",
       "4976  I like the unit but battery seems to run down ...       pos\n",
       "4977  I'm very happy with my purchase. I bought one ...       pos\n",
       "4978  Am happy with my purchase and the item is bein...       pos\n",
       "4979  Amazon has consistently delivered quality tabl...       pos\n",
       "4980  Bought this tablet after a cheaper model quit ...       pos\n",
       "4981  I reviewed a lot of tablets before I bought th...       pos\n",
       "4982  This device performs great! For the price it's...       pos\n",
       "4983  Bought this to use on my travels. comes in han...       neg\n",
       "4984  This is your basic Amazon taplet. Nothing too ...       pos\n",
       "4985  Purchased this for my fiance's youngest son fo...       pos\n",
       "4986  The apps are better, it charges faster and the...       pos\n",
       "4987  My children love these kindles! They are so mu...       pos\n",
       "4988  This tablet is so great for school children to...       pos\n",
       "4989  This product was easy to set up and to use. Wo...       pos\n",
       "4990  Tablets are best used for personal reading. Cl...       pos\n",
       "4991  My son uses the device to help him do his home...   neutral\n",
       "4992  My 6yr old son loves the tablet!I plan on purc...       neg\n",
       "4993  I APPRECIATE the ease of purchasing and readin...       pos\n",
       "4994  I love this tablet/kindle. I can access email,...       pos\n",
       "4995  This is a great tablet for the price. Amazon i...       pos\n",
       "4996  This tablet is the perfect size and so easy to...       pos\n",
       "4997  Purchased this for my son. Has room to upgrade...       neg\n",
       "4998  I had some thoughts about getting this for a 5...       neg\n",
       "4999  this is a steal, have 8 gb model as well.This ...       neg\n",
       "\n",
       "[4905 rows x 2 columns]>"
      ]
     },
     "execution_count": 15,
     "metadata": {},
     "output_type": "execute_result"
    }
   ],
   "source": [
    "df_test.head"
   ]
  },
  {
   "cell_type": "code",
   "execution_count": 17,
   "metadata": {},
   "outputs": [
    {
     "data": {
      "text/plain": [
       "Index(['text', 'sentiment'], dtype='object')"
      ]
     },
     "execution_count": 17,
     "metadata": {},
     "output_type": "execute_result"
    }
   ],
   "source": [
    "df_test.columns"
   ]
  },
  {
   "cell_type": "code",
   "execution_count": null,
   "metadata": {},
   "outputs": [],
   "source": [
    "\n",
    "sentiment_num = []\n",
    "for x in df_test['sentiment']:\n",
    "    if x == 'pos':\n",
    "        v = 3\n",
    "    elif x == 'neg':\n",
    "        v = 1\n",
    "    else:\n",
    "        v = 2\n",
    "    sentiment_num.append(v)\n",
    "df_test\n",
    "    "
   ]
  }
 ],
 "metadata": {
  "kernelspec": {
   "display_name": "Python 3",
   "language": "python",
   "name": "python3"
  },
  "language_info": {
   "codemirror_mode": {
    "name": "ipython",
    "version": 3
   },
   "file_extension": ".py",
   "mimetype": "text/x-python",
   "name": "python",
   "nbconvert_exporter": "python",
   "pygments_lexer": "ipython3",
   "version": "3.6.6+"
  }
 },
 "nbformat": 4,
 "nbformat_minor": 2
}
