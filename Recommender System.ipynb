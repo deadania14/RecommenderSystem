{
 "cells": [
  {
   "cell_type": "code",
   "execution_count": 1,
   "metadata": {},
   "outputs": [],
   "source": [
    "#Load libraries\n",
    "#import panda as pd\n",
    "import pandas as pd\n",
    "%matplotlib inline\n",
    "import matplotlib\n",
    "import matplotlib.pyplot as plt\n",
    "import numpy as np\n",
    "\n",
    "# pass in column names for each CSV as the column name is not given in the file and read them using pandas.\n",
    "# You can check the column names from the readme file\n",
    "\n",
    "#Reading users file:\n",
    "u_cols = ['user_id', 'age', 'sex', 'occupation', 'zip_code']\n",
    "users = pd.read_csv('ml-100k/u.user', sep='|', names=u_cols,encoding='latin-1')\n",
    "\n",
    "#Reading ratings file:\n",
    "r_cols = ['user_id', 'movie_id', 'rating', 'unix_timestamp']\n",
    "ratings = pd.read_csv('ml-100k/u.data', sep='\\t', names=r_cols,encoding='latin-1')\n",
    "\n",
    "#Reading items file:\n",
    "i_cols = ['movie id', 'movie title' ,'release date','video release date', 'IMDb URL', 'unknown', 'Action', 'Adventure',\n",
    "'Animation', 'Children\\'s', 'Comedy', 'Crime', 'Documentary', 'Drama', 'Fantasy',\n",
    "'Film-Noir', 'Horror', 'Musical', 'Mystery', 'Romance', 'Sci-Fi', 'Thriller', 'War', 'Western']\n",
    "items = pd.read_csv('ml-100k/u.item', sep='|', names=i_cols,\n",
    "encoding='latin-1')\n",
    "\n",
    "# check by printing\n",
    "# print(users.shape)\n",
    "# users.head()\n",
    "# print(ratings.shape)\n",
    "# ratings.head()\n",
    "# print(items.shape)\n",
    "# items.head()"
   ]
  },
  {
   "cell_type": "code",
   "execution_count": 8,
   "metadata": {},
   "outputs": [
    {
     "name": "stdout",
     "output_type": "stream",
     "text": [
      "943\n"
     ]
    }
   ],
   "source": [
    "n_users = ratings.user_id.unique().shape[0]\n",
    "n_items = ratings.movie_id.unique().shape[0]\n",
    "\n",
    "# print(n_users)\n",
    "# print(n_items)"
   ]
  },
  {
   "cell_type": "code",
   "execution_count": 9,
   "metadata": {},
   "outputs": [
    {
     "name": "stdout",
     "output_type": "stream",
     "text": [
      "       user_id  movie_id  rating  unix_timestamp\n",
      "0          196       242       3       881250949\n",
      "1          186       302       3       891717742\n",
      "2           22       377       1       878887116\n",
      "3          244        51       2       880606923\n",
      "4          166       346       1       886397596\n",
      "5          298       474       4       884182806\n",
      "6          115       265       2       881171488\n",
      "7          253       465       5       891628467\n",
      "8          305       451       3       886324817\n",
      "9            6        86       3       883603013\n",
      "10          62       257       2       879372434\n",
      "11         286      1014       5       879781125\n",
      "12         200       222       5       876042340\n",
      "13         210        40       3       891035994\n",
      "14         224        29       3       888104457\n",
      "15         303       785       3       879485318\n",
      "16         122       387       5       879270459\n",
      "17         194       274       2       879539794\n",
      "18         291      1042       4       874834944\n",
      "19         234      1184       2       892079237\n",
      "20         119       392       4       886176814\n",
      "21         167       486       4       892738452\n",
      "22         299       144       4       877881320\n",
      "23         291       118       2       874833878\n",
      "24         308         1       4       887736532\n",
      "25          95       546       2       879196566\n",
      "26          38        95       5       892430094\n",
      "27         102       768       2       883748450\n",
      "28          63       277       4       875747401\n",
      "29         160       234       5       876861185\n",
      "...        ...       ...     ...             ...\n",
      "99970      449       120       1       879959573\n",
      "99971      661       762       2       876037121\n",
      "99972      721       874       3       877137447\n",
      "99973      821       151       4       874792889\n",
      "99974      764       596       3       876243046\n",
      "99975      537       443       3       886031752\n",
      "99976      618       628       2       891308019\n",
      "99977      487       291       3       883445079\n",
      "99978      113       975       5       875936424\n",
      "99979      943       391       2       888640291\n",
      "99980      864       685       4       888891900\n",
      "99981      750       323       3       879445877\n",
      "99982      279        64       1       875308510\n",
      "99983      646       750       3       888528902\n",
      "99984      654       370       2       887863914\n",
      "99985      617       582       4       883789294\n",
      "99986      913       690       3       880824288\n",
      "99987      660       229       2       891406212\n",
      "99988      421       498       4       892241344\n",
      "99989      495      1091       4       888637503\n",
      "99990      806       421       4       882388897\n",
      "99991      676       538       4       892685437\n",
      "99992      721       262       3       877137285\n",
      "99993      913       209       2       881367150\n",
      "99994      378        78       3       880056976\n",
      "99995      880       476       3       880175444\n",
      "99996      716       204       5       879795543\n",
      "99997      276      1090       1       874795795\n",
      "99998       13       225       2       882399156\n",
      "99999       12       203       3       879959583\n",
      "\n",
      "[100000 rows x 4 columns]\n"
     ]
    }
   ],
   "source": [
    "data_matrix = np.zeros((n_users, n_items))\n",
    "for line in ratings.itertuples():\n",
    "    data_matrix[line[1]-1, line[2]-1] = line[3]\n",
    "print(ratings)"
   ]
  },
  {
   "cell_type": "code",
   "execution_count": 4,
   "metadata": {},
   "outputs": [],
   "source": [
    "from sklearn.metrics.pairwise import pairwise_distances \n",
    "user_similarity = pairwise_distances(data_matrix, metric='cosine')\n",
    "item_similarity = pairwise_distances(data_matrix.T, metric='cosine')\n",
    "# print(user_similarity)"
   ]
  },
  {
   "cell_type": "code",
   "execution_count": 5,
   "metadata": {},
   "outputs": [],
   "source": [
    "def predict(ratings, similarity, type='user'):\n",
    "    if type == 'user':\n",
    "        mean_user_rating = ratings.mean(axis=1)\n",
    "        #We use np.newaxis so that mean_user_rating has same format as ratings\n",
    "        ratings_diff = (ratings - mean_user_rating[:, np.newaxis])\n",
    "        pred = mean_user_rating[:, np.newaxis] + similarity.dot(ratings_diff) / np.array([np.abs(similarity).sum(axis=1)]).T\n",
    "    elif type == 'item':\n",
    "        pred = ratings.dot(similarity) / np.array([np.abs(similarity).sum(axis=1)])\n",
    "    return pred"
   ]
  },
  {
   "cell_type": "code",
   "execution_count": 6,
   "metadata": {},
   "outputs": [],
   "source": [
    "user_prediction = predict(data_matrix, user_similarity, type='user')\n",
    "item_prediction = predict(data_matrix, item_similarity, type='item')\n"
   ]
  },
  {
   "cell_type": "code",
   "execution_count": 7,
   "metadata": {},
   "outputs": [
    {
     "name": "stdout",
     "output_type": "stream",
     "text": [
      "[[ 2.06532606  0.73430275  0.62992381 ...  0.39359041  0.39304874\n",
      "   0.3927712 ]\n",
      " [ 1.76308836  0.38404019  0.19617889 ... -0.08837789 -0.0869183\n",
      "  -0.08671183]\n",
      " [ 1.79590398  0.32904733  0.15882885 ... -0.13699223 -0.13496852\n",
      "  -0.13476488]\n",
      " ...\n",
      " [ 1.59151513  0.27526889  0.10219534 ... -0.16735162 -0.16657451\n",
      "  -0.16641377]\n",
      " [ 1.81036267  0.40479877  0.27545013 ... -0.00907358 -0.00846587\n",
      "  -0.00804858]\n",
      " [ 1.8384313   0.47964837  0.38496292 ...  0.14686675  0.14629808\n",
      "   0.14641455]]\n"
     ]
    }
   ],
   "source": [
    "print(user_prediction)"
   ]
  },
  {
   "cell_type": "code",
   "execution_count": null,
   "metadata": {},
   "outputs": [],
   "source": []
  },
  {
   "cell_type": "code",
   "execution_count": null,
   "metadata": {},
   "outputs": [],
   "source": []
  }
 ],
 "metadata": {
  "kernelspec": {
   "display_name": "Python 3",
   "language": "python",
   "name": "python3"
  },
  "language_info": {
   "codemirror_mode": {
    "name": "ipython",
    "version": 3
   },
   "file_extension": ".py",
   "mimetype": "text/x-python",
   "name": "python",
   "nbconvert_exporter": "python",
   "pygments_lexer": "ipython3",
   "version": "3.5.2"
  }
 },
 "nbformat": 4,
 "nbformat_minor": 2
}
