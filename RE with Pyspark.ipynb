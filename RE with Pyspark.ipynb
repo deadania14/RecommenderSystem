{
 "cells": [
  {
   "cell_type": "code",
   "execution_count": 1,
   "metadata": {},
   "outputs": [],
   "source": [
    "import pandas as pd\n",
    "import numpy as np\n",
    "import timeit\n",
    "import time\n",
    "\n",
    "# get the data from csv file to dataframe\n",
    "DataTrain = pd.read_csv(\n",
    "    'data/upload/DataTrain.csv', \n",
    "    low_memory=False)\n",
    "DataTest = pd.read_csv(\n",
    "    'data/upload/DataTest.csv', \n",
    "    low_memory=False)\n",
    "\n",
    "DataTrain.drop(\"Unnamed: 0\", 1, inplace = True)\n",
    "DataTest.drop(\"Unnamed: 0\", 1, inplace = True)\n"
   ]
  },
  {
   "cell_type": "code",
   "execution_count": 7,
   "metadata": {},
   "outputs": [],
   "source": [
    "from pyspark.sql import SparkSession\n",
    "spark = SparkSession.builder.appName('recommender').getOrCreate()\n",
    "from pyspark.ml.recommendation import ALS\n",
    "from pyspark.ml.evaluation import RegressionEvaluator"
   ]
  },
  {
   "cell_type": "code",
   "execution_count": 8,
   "metadata": {},
   "outputs": [],
   "source": [
    "DataTrain = spark.read.csv('data/upload/DataTrain.csv', inferSchema=True, header=True)\n",
    "DataTest = spark.read.csv('data/upload/DataTest.csv', inferSchema=True, header=True)\n",
    "\n",
    "als = ALS(maxIter=5, regParam=0.01, userCol='userId', itemCol='itemId', ratingCol='rating')\n",
    "\n",
    "model = als.fit(DataTrain)\n",
    "\n",
    "predictions = model.transform(DataTest)"
   ]
  },
  {
   "cell_type": "code",
   "execution_count": 9,
   "metadata": {},
   "outputs": [
    {
     "name": "stdout",
     "output_type": "stream",
     "text": [
      "+-------+------------------+------------------+------------------+------------------+--------------------+----------+\n",
      "|summary|          reviewId|            itemId|            userId|            rating|sentiment_score_norm|prediction|\n",
      "+-------+------------------+------------------+------------------+------------------+--------------------+----------+\n",
      "|  count|              1116|              1116|              1116|              1116|                1116|      1116|\n",
      "|   mean| 2816.728494623656| 15.46236559139785|1857.6917562724013| 4.472222222222222|   3.860215053763441|       NaN|\n",
      "| stddev|1577.9455919774737|10.199596376206436|1190.1411108120685|0.9442480525019428|  0.7072295143709689|       NaN|\n",
      "|    min|                 9|                 1|                 1|                 1|                 1.5| -18.78609|\n",
      "|    max|              5133|                40|              3815|                 5|                 5.0|       NaN|\n",
      "+-------+------------------+------------------+------------------+------------------+--------------------+----------+\n",
      "\n"
     ]
    }
   ],
   "source": [
    "predictions.describe().show()"
   ]
  },
  {
   "cell_type": "code",
   "execution_count": 10,
   "metadata": {},
   "outputs": [
    {
     "name": "stdout",
     "output_type": "stream",
     "text": [
      "+-------+------------------+-----------------+-----------------+------------------+--------------------+------------------+\n",
      "|summary|          reviewId|           itemId|           userId|            rating|sentiment_score_norm|        prediction|\n",
      "+-------+------------------+-----------------+-----------------+------------------+--------------------+------------------+\n",
      "|  count|               982|              982|              982|               982|                 982|               982|\n",
      "|   mean|2509.7331975560082|13.14562118126273|2050.467413441955| 4.594704684317719|  3.8721995926680246| 2.799754872811909|\n",
      "| stddev|1429.7212149203187|8.347826917328316|1134.196793964153|0.7215147620412754|  0.6517529478846156|3.1415917845968417|\n",
      "|    min|                 9|                1|                1|                 1|                 1.5|         -18.78609|\n",
      "|    max|              4999|               23|             3815|                 5|                 5.0|          8.841551|\n",
      "+-------+------------------+-----------------+-----------------+------------------+--------------------+------------------+\n",
      "\n"
     ]
    }
   ],
   "source": [
    "predictions = predictions.na.drop()\n",
    "predictions.describe().show()"
   ]
  },
  {
   "cell_type": "code",
   "execution_count": 11,
   "metadata": {},
   "outputs": [
    {
     "data": {
      "text/plain": [
       "3.61497011833511"
      ]
     },
     "execution_count": 11,
     "metadata": {},
     "output_type": "execute_result"
    }
   ],
   "source": [
    "evaluator = RegressionEvaluator(metricName='rmse', labelCol='rating')\n",
    "# RMSE Root Mean Square Error\n",
    "rmse = evaluator.evaluate(predictions)\n",
    "rmse"
   ]
  },
  {
   "cell_type": "code",
   "execution_count": 13,
   "metadata": {},
   "outputs": [],
   "source": [
    "als2 = ALS(maxIter=5, regParam=0.01, userCol='userId', itemCol='itemId', ratingCol='sentiment_score_norm')\n",
    "\n",
    "model2 = als2.fit(DataTrain)\n",
    "\n",
    "predictions2 = model2.transform(DataTest)"
   ]
  },
  {
   "cell_type": "code",
   "execution_count": 14,
   "metadata": {},
   "outputs": [
    {
     "name": "stdout",
     "output_type": "stream",
     "text": [
      "+-------+------------------+-----------------+-----------------+------------------+--------------------+------------------+\n",
      "|summary|          reviewId|           itemId|           userId|            rating|sentiment_score_norm|        prediction|\n",
      "+-------+------------------+-----------------+-----------------+------------------+--------------------+------------------+\n",
      "|  count|               982|              982|              982|               982|                 982|               982|\n",
      "|   mean|2509.7331975560082|13.14562118126273|2050.467413441955| 4.594704684317719|  3.8721995926680246| 2.363613892376969|\n",
      "| stddev|1429.7212149203187|8.347826917328316|1134.196793964153|0.7215147620412754|  0.6517529478846156|2.7429094575079698|\n",
      "|    min|                 9|                1|                1|                 1|                 1.5|        -13.279798|\n",
      "|    max|              4999|               23|             3815|                 5|                 5.0|          8.283944|\n",
      "+-------+------------------+-----------------+-----------------+------------------+--------------------+------------------+\n",
      "\n"
     ]
    }
   ],
   "source": [
    "predictions2 = predictions2.na.drop()\n",
    "predictions2.describe().show()"
   ]
  },
  {
   "cell_type": "code",
   "execution_count": 15,
   "metadata": {},
   "outputs": [
    {
     "data": {
      "text/plain": [
       "3.124018111879493"
      ]
     },
     "execution_count": 15,
     "metadata": {},
     "output_type": "execute_result"
    }
   ],
   "source": [
    "evaluator2 = RegressionEvaluator(metricName='rmse', labelCol='sentiment_score_norm')\n",
    "# RMSE Root Mean Square Error\n",
    "rmse2 = evaluator2.evaluate(predictions2)\n",
    "rmse2"
   ]
  },
  {
   "cell_type": "code",
   "execution_count": null,
   "metadata": {},
   "outputs": [],
   "source": []
  }
 ],
 "metadata": {
  "kernelspec": {
   "display_name": "Python 3",
   "language": "python",
   "name": "python3"
  },
  "language_info": {
   "codemirror_mode": {
    "name": "ipython",
    "version": 3
   },
   "file_extension": ".py",
   "mimetype": "text/x-python",
   "name": "python",
   "nbconvert_exporter": "python",
   "pygments_lexer": "ipython3",
   "version": "3.6.6+"
  }
 },
 "nbformat": 4,
 "nbformat_minor": 2
}
