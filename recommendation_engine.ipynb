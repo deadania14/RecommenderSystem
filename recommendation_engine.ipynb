{
 "cells": [
  {
   "cell_type": "code",
   "execution_count": 3,
   "metadata": {},
   "outputs": [],
   "source": [
    "import pandas as pd\n",
    "import numpy as np\n",
    "import timeit\n",
    "import time\n",
    "\n",
    "# get the data from csv file to dataframe\n",
    "DataTrain = pd.read_csv(\n",
    "    'data/SentimentDataTrain.csv', \n",
    "    low_memory=False)\n",
    "DataTest = pd.read_csv(\n",
    "    'data/SentimentDataTest.csv', \n",
    "    low_memory=False)\n",
    "\n",
    "DataTrain.drop(\"Unnamed: 0\", 1, inplace = True)\n",
    "DataTest.drop(\"Unnamed: 0\", 1, inplace = True)\n"
   ]
  },
  {
   "cell_type": "code",
   "execution_count": null,
   "metadata": {},
   "outputs": [],
   "source": [
    "############################ THE RECOMMENDATION CLASS #########################"
   ]
  },
  {
   "cell_type": "code",
   "execution_count": 2,
   "metadata": {},
   "outputs": [],
   "source": [
    "def matrixFactorization(R, K, steps=10, gamma=0.001, lamda=0.02):\n",
    "    N=len(R.index)#number of users\n",
    "    M=len(R.columns)#number of items\n",
    "    P=pd.DataFrame(np.random.rand(N,K), index=R.index)\n",
    "    Q=pd.DataFrame(np.random.rand(M,K), index=R.columns)\n",
    "    for step in range(steps):\n",
    "        for i in R.index:\n",
    "            for j in R.columns:\n",
    "                if R.loc[i,j]>0:\n",
    "                    eij=R.loc[i,j]-np.dot(P.loc[i],Q.loc[j])\n",
    "                    P.loc[i]=P.loc[i]+gamma*(eij*Q.loc[j]-lamda*P.loc[i])\n",
    "                    Q.loc[j]=Q.loc[j]+gamma*(eij*P.loc[i]-lamda*Q.loc[j])\n",
    "        e=0\n",
    "        for i in R.index:\n",
    "            for j in R.columns:\n",
    "                if R.loc[i,j]>0:\n",
    "                    e=e+pow(R.loc[i,j]-np.dot(P.loc[i], Q.loc[j]),2)+lamda*(pow(np.linalg.norm(P.loc[i]),2)+pow(np.linalg.norm(Q.loc[j]),2))\n",
    "        if e<0.001:\n",
    "            break\n",
    "        if step % 100 ==0:\n",
    "            print (step)\n",
    "            print(e)\n",
    "        \n",
    "    return P,Q\n"
   ]
  },
  {
   "cell_type": "code",
   "execution_count": null,
   "metadata": {},
   "outputs": [],
   "source": [
    "############################ TRAINING #########################"
   ]
  },
  {
   "cell_type": "code",
   "execution_count": null,
   "metadata": {},
   "outputs": [],
   "source": [
    "DataTrain.head()"
   ]
  },
  {
   "cell_type": "code",
   "execution_count": 5,
   "metadata": {},
   "outputs": [
    {
     "name": "stdout",
     "output_type": "stream",
     "text": [
      "user count : 1622\n",
      "item count : 11\n"
     ]
    }
   ],
   "source": [
    "print(\"user count : \" +str(len(set(DataTrain.userId))) )\n",
    "print(\"item count : \" +str(len(set(DataTrain.itemId))) )"
   ]
  },
  {
   "cell_type": "code",
   "execution_count": null,
   "metadata": {},
   "outputs": [],
   "source": [
    "# Training Rating\n",
    "TuserItemRatingMatrix=pd.pivot_table(DataTest, values='rating', index=['userId'], columns=['itemId'])\n",
    "start = time.time()\n",
    "(R,S)=matrixFactorization(TuserItemRatingMatrix.iloc[:1622,:11], K=2, gamma=0.001, lamda=0.02, steps=1000)\n",
    "end = time.time()\n",
    "print(end-start)"
   ]
  },
  {
   "cell_type": "code",
   "execution_count": null,
   "metadata": {},
   "outputs": [],
   "source": [
    "# Training Testimony Value\n",
    "NuserItemLabelMatrix=pd.pivot_table(DataTest, values='testimony_value', index=['userId'], columns=['itemId'])\n",
    "\n",
    "start = time.time()\n",
    "(A,B)=matrixFactorization(NuserItemLabelMatrix.iloc[:1622,:11], K=2, gamma=0.001, lamda=0.02, steps=1000)\n",
    "end = time.time()\n",
    "print(end-start)\n"
   ]
  },
  {
   "cell_type": "code",
   "execution_count": null,
   "metadata": {},
   "outputs": [],
   "source": [
    "############################ TESTING #########################"
   ]
  },
  {
   "cell_type": "code",
   "execution_count": 15,
   "metadata": {},
   "outputs": [
    {
     "data": {
      "text/html": [
       "<div>\n",
       "<style scoped>\n",
       "    .dataframe tbody tr th:only-of-type {\n",
       "        vertical-align: middle;\n",
       "    }\n",
       "\n",
       "    .dataframe tbody tr th {\n",
       "        vertical-align: top;\n",
       "    }\n",
       "\n",
       "    .dataframe thead th {\n",
       "        text-align: right;\n",
       "    }\n",
       "</style>\n",
       "<table border=\"1\" class=\"dataframe\">\n",
       "  <thead>\n",
       "    <tr style=\"text-align: right;\">\n",
       "      <th></th>\n",
       "      <th>reviewId</th>\n",
       "      <th>rating</th>\n",
       "      <th>testimony</th>\n",
       "      <th>itemId</th>\n",
       "      <th>userId</th>\n",
       "      <th>testimony_value</th>\n",
       "    </tr>\n",
       "  </thead>\n",
       "  <tbody>\n",
       "    <tr>\n",
       "      <th>0</th>\n",
       "      <td>2800</td>\n",
       "      <td>2.0</td>\n",
       "      <td>Excellent Reader and Product for the price. Ve...</td>\n",
       "      <td>8</td>\n",
       "      <td>3599</td>\n",
       "      <td>3.0</td>\n",
       "    </tr>\n",
       "    <tr>\n",
       "      <th>1</th>\n",
       "      <td>4019</td>\n",
       "      <td>2.0</td>\n",
       "      <td>I bought this tablet for my 13 yr. old God-chi...</td>\n",
       "      <td>20</td>\n",
       "      <td>2757</td>\n",
       "      <td>3.0</td>\n",
       "    </tr>\n",
       "    <tr>\n",
       "      <th>2</th>\n",
       "      <td>3778</td>\n",
       "      <td>2.0</td>\n",
       "      <td>I have an LG tablet but picked up this one for...</td>\n",
       "      <td>20</td>\n",
       "      <td>977</td>\n",
       "      <td>3.0</td>\n",
       "    </tr>\n",
       "    <tr>\n",
       "      <th>3</th>\n",
       "      <td>2368</td>\n",
       "      <td>2.0</td>\n",
       "      <td>I bought 2 of these, 1 for each of my 2 younge...</td>\n",
       "      <td>7</td>\n",
       "      <td>1166</td>\n",
       "      <td>3.0</td>\n",
       "    </tr>\n",
       "    <tr>\n",
       "      <th>4</th>\n",
       "      <td>4912</td>\n",
       "      <td>1.0</td>\n",
       "      <td>I got this tablet so I wouldn't have to pack u...</td>\n",
       "      <td>19</td>\n",
       "      <td>302</td>\n",
       "      <td>3.0</td>\n",
       "    </tr>\n",
       "  </tbody>\n",
       "</table>\n",
       "</div>"
      ],
      "text/plain": [
       "   reviewId  rating                                          testimony  \\\n",
       "0      2800     2.0  Excellent Reader and Product for the price. Ve...   \n",
       "1      4019     2.0  I bought this tablet for my 13 yr. old God-chi...   \n",
       "2      3778     2.0  I have an LG tablet but picked up this one for...   \n",
       "3      2368     2.0  I bought 2 of these, 1 for each of my 2 younge...   \n",
       "4      4912     1.0  I got this tablet so I wouldn't have to pack u...   \n",
       "\n",
       "   itemId  userId  testimony_value  \n",
       "0       8    3599              3.0  \n",
       "1      20    2757              3.0  \n",
       "2      20     977              3.0  \n",
       "3       7    1166              3.0  \n",
       "4      19     302              3.0  "
      ]
     },
     "execution_count": 15,
     "metadata": {},
     "output_type": "execute_result"
    }
   ],
   "source": [
    "DataTest.head()"
   ]
  },
  {
   "cell_type": "code",
   "execution_count": 14,
   "metadata": {},
   "outputs": [
    {
     "name": "stdout",
     "output_type": "stream",
     "text": [
      "user count : 453\n",
      "item count : 11\n"
     ]
    }
   ],
   "source": [
    "print(\"user count : \" +str(len(set(DataTest.userId))) )\n",
    "print(\"item count : \" +str(len(set(DataTest.itemId))) )"
   ]
  },
  {
   "cell_type": "code",
   "execution_count": 7,
   "metadata": {},
   "outputs": [
    {
     "name": "stdout",
     "output_type": "stream",
     "text": [
      "0\n",
      "707.8455422430453\n",
      "100\n",
      "202.30842221527791\n",
      "200\n",
      "112.79695716484304\n",
      "300\n",
      "77.32732006672768\n",
      "400\n",
      "62.305036540947256\n",
      "500\n",
      "55.52903581486288\n",
      "600\n",
      "52.20456411786395\n",
      "700\n",
      "50.37680408744928\n",
      "800\n",
      "49.22522451098049\n",
      "900\n",
      "48.39559907891138\n",
      "1681.2775149345398\n"
     ]
    }
   ],
   "source": [
    "# Test Rating\n",
    "NinguserItemRatingMatrix=pd.pivot_table(DataTest, values='rating', index=['userId'], columns=['itemId'])\n",
    "start = time.time()\n",
    "(P,Q)=matrixFactorization(NinguserItemRatingMatrix.iloc[:1622,:11], K=2, gamma=0.001, lamda=0.02, steps=1000)\n",
    "end = time.time()\n",
    "print(end-start)"
   ]
  },
  {
   "cell_type": "code",
   "execution_count": 13,
   "metadata": {},
   "outputs": [
    {
     "name": "stdout",
     "output_type": "stream",
     "text": [
      "0\n",
      "2865.5571024435344\n",
      "100\n",
      "252.9415804537715\n",
      "200\n",
      "126.5670773443478\n",
      "300\n",
      "103.86100444181935\n",
      "400\n",
      "97.08969105370693\n",
      "500\n",
      "93.47509688400464\n",
      "600\n",
      "90.80501556336023\n",
      "700\n",
      "88.57565171480938\n",
      "800\n",
      "86.62833614482035\n",
      "900\n",
      "84.89288834699198\n",
      "1423.7771713733673\n"
     ]
    }
   ],
   "source": [
    "# Test Testimony Value\n",
    "NuserItemLabelMatrix=pd.pivot_table(DataTest, values='testimony_value', index=['userId'], columns=['itemId'])\n",
    "\n",
    "start = time.time()\n",
    "(C,D)=matrixFactorization(NuserItemLabelMatrix.iloc[:453,:11], K=2, gamma=0.001, lamda=0.02, steps=1000)\n",
    "end = time.time()\n",
    "print(end-start)\n"
   ]
  },
  {
   "cell_type": "code",
   "execution_count": 16,
   "metadata": {},
   "outputs": [
    {
     "data": {
      "text/html": [
       "<div>\n",
       "<style scoped>\n",
       "    .dataframe tbody tr th:only-of-type {\n",
       "        vertical-align: middle;\n",
       "    }\n",
       "\n",
       "    .dataframe tbody tr th {\n",
       "        vertical-align: top;\n",
       "    }\n",
       "\n",
       "    .dataframe thead th {\n",
       "        text-align: right;\n",
       "    }\n",
       "</style>\n",
       "<table border=\"1\" class=\"dataframe\">\n",
       "  <thead>\n",
       "    <tr style=\"text-align: right;\">\n",
       "      <th></th>\n",
       "      <th>Ratings</th>\n",
       "    </tr>\n",
       "    <tr>\n",
       "      <th>itemId</th>\n",
       "      <th></th>\n",
       "    </tr>\n",
       "  </thead>\n",
       "  <tbody>\n",
       "    <tr>\n",
       "      <th>13</th>\n",
       "      <td>1.952580</td>\n",
       "    </tr>\n",
       "    <tr>\n",
       "      <th>20</th>\n",
       "      <td>1.943186</td>\n",
       "    </tr>\n",
       "    <tr>\n",
       "      <th>7</th>\n",
       "      <td>1.900207</td>\n",
       "    </tr>\n",
       "    <tr>\n",
       "      <th>2</th>\n",
       "      <td>1.897495</td>\n",
       "    </tr>\n",
       "    <tr>\n",
       "      <th>4</th>\n",
       "      <td>1.895900</td>\n",
       "    </tr>\n",
       "  </tbody>\n",
       "</table>\n",
       "</div>"
      ],
      "text/plain": [
       "         Ratings\n",
       "itemId          \n",
       "13      1.952580\n",
       "20      1.943186\n",
       "7       1.900207\n",
       "2       1.897495\n",
       "4       1.895900"
      ]
     },
     "execution_count": 16,
     "metadata": {},
     "output_type": "execute_result"
    }
   ],
   "source": [
    "# Rating Rank\n",
    "activeUser=977\n",
    "TestpredictItemRating=pd.DataFrame(np.dot(P.loc[activeUser],Q.T), index=Q.index, columns=['Ratings'])\n",
    "topRecommendations_byrating=pd.DataFrame.sort_values(TestpredictItemRating,['Ratings'],ascending=[0])[:5]\n",
    "#we found the ratings of all movie by the active user and then sorted them to top 3\n",
    "\n",
    "topRecommendations_byrating\n"
   ]
  },
  {
   "cell_type": "code",
   "execution_count": 18,
   "metadata": {},
   "outputs": [
    {
     "data": {
      "text/html": [
       "<div>\n",
       "<style scoped>\n",
       "    .dataframe tbody tr th:only-of-type {\n",
       "        vertical-align: middle;\n",
       "    }\n",
       "\n",
       "    .dataframe tbody tr th {\n",
       "        vertical-align: top;\n",
       "    }\n",
       "\n",
       "    .dataframe thead th {\n",
       "        text-align: right;\n",
       "    }\n",
       "</style>\n",
       "<table border=\"1\" class=\"dataframe\">\n",
       "  <thead>\n",
       "    <tr style=\"text-align: right;\">\n",
       "      <th></th>\n",
       "      <th>Testimony</th>\n",
       "    </tr>\n",
       "    <tr>\n",
       "      <th>itemId</th>\n",
       "      <th></th>\n",
       "    </tr>\n",
       "  </thead>\n",
       "  <tbody>\n",
       "    <tr>\n",
       "      <th>20</th>\n",
       "      <td>2.939995</td>\n",
       "    </tr>\n",
       "    <tr>\n",
       "      <th>2</th>\n",
       "      <td>2.881244</td>\n",
       "    </tr>\n",
       "    <tr>\n",
       "      <th>8</th>\n",
       "      <td>2.833527</td>\n",
       "    </tr>\n",
       "    <tr>\n",
       "      <th>7</th>\n",
       "      <td>2.768935</td>\n",
       "    </tr>\n",
       "    <tr>\n",
       "      <th>5</th>\n",
       "      <td>2.755539</td>\n",
       "    </tr>\n",
       "  </tbody>\n",
       "</table>\n",
       "</div>"
      ],
      "text/plain": [
       "        Testimony\n",
       "itemId           \n",
       "20       2.939995\n",
       "2        2.881244\n",
       "8        2.833527\n",
       "7        2.768935\n",
       "5        2.755539"
      ]
     },
     "execution_count": 18,
     "metadata": {},
     "output_type": "execute_result"
    }
   ],
   "source": [
    "# Testimony Rank\n",
    "activeUser=977\n",
    "TestpredictItemTestimony=pd.DataFrame(np.dot(C.loc[activeUser],D.T), index=Q.index, columns=['Testimony'])\n",
    "topRecommendations_bytestimony=pd.DataFrame.sort_values(TestpredictItemTestimony,['Testimony'],ascending=[0])[:5]\n",
    "#we found the ratings of all movie by the active user and then sorted them to top 5\n",
    "\n",
    "topRecommendations_bytestimony\n"
   ]
  },
  {
   "cell_type": "code",
   "execution_count": 19,
   "metadata": {},
   "outputs": [],
   "source": [
    "# MERGE RANK\n",
    "points = [5,4,3,2,1]\n",
    "# give points\n",
    "topRecommendations_byrating['points_rat']= points\n",
    "topRecommendations_bytestimony['points_tes']= points"
   ]
  },
  {
   "cell_type": "code",
   "execution_count": 22,
   "metadata": {},
   "outputs": [
    {
     "data": {
      "text/html": [
       "<div>\n",
       "<style scoped>\n",
       "    .dataframe tbody tr th:only-of-type {\n",
       "        vertical-align: middle;\n",
       "    }\n",
       "\n",
       "    .dataframe tbody tr th {\n",
       "        vertical-align: top;\n",
       "    }\n",
       "\n",
       "    .dataframe thead th {\n",
       "        text-align: right;\n",
       "    }\n",
       "</style>\n",
       "<table border=\"1\" class=\"dataframe\">\n",
       "  <thead>\n",
       "    <tr style=\"text-align: right;\">\n",
       "      <th></th>\n",
       "      <th>Ratings</th>\n",
       "      <th>points_rat</th>\n",
       "      <th>Testimony</th>\n",
       "      <th>points_tes</th>\n",
       "    </tr>\n",
       "    <tr>\n",
       "      <th>itemId</th>\n",
       "      <th></th>\n",
       "      <th></th>\n",
       "      <th></th>\n",
       "      <th></th>\n",
       "    </tr>\n",
       "  </thead>\n",
       "  <tbody>\n",
       "    <tr>\n",
       "      <th>2</th>\n",
       "      <td>1.897495</td>\n",
       "      <td>2.0</td>\n",
       "      <td>2.881244</td>\n",
       "      <td>4.0</td>\n",
       "    </tr>\n",
       "    <tr>\n",
       "      <th>4</th>\n",
       "      <td>1.895900</td>\n",
       "      <td>1.0</td>\n",
       "      <td>NaN</td>\n",
       "      <td>NaN</td>\n",
       "    </tr>\n",
       "    <tr>\n",
       "      <th>5</th>\n",
       "      <td>NaN</td>\n",
       "      <td>NaN</td>\n",
       "      <td>2.755539</td>\n",
       "      <td>1.0</td>\n",
       "    </tr>\n",
       "    <tr>\n",
       "      <th>7</th>\n",
       "      <td>1.900207</td>\n",
       "      <td>3.0</td>\n",
       "      <td>2.768935</td>\n",
       "      <td>2.0</td>\n",
       "    </tr>\n",
       "    <tr>\n",
       "      <th>8</th>\n",
       "      <td>NaN</td>\n",
       "      <td>NaN</td>\n",
       "      <td>2.833527</td>\n",
       "      <td>3.0</td>\n",
       "    </tr>\n",
       "    <tr>\n",
       "      <th>13</th>\n",
       "      <td>1.952580</td>\n",
       "      <td>5.0</td>\n",
       "      <td>NaN</td>\n",
       "      <td>NaN</td>\n",
       "    </tr>\n",
       "    <tr>\n",
       "      <th>20</th>\n",
       "      <td>1.943186</td>\n",
       "      <td>4.0</td>\n",
       "      <td>2.939995</td>\n",
       "      <td>5.0</td>\n",
       "    </tr>\n",
       "  </tbody>\n",
       "</table>\n",
       "</div>"
      ],
      "text/plain": [
       "         Ratings  points_rat  Testimony  points_tes\n",
       "itemId                                             \n",
       "2       1.897495         2.0   2.881244         4.0\n",
       "4       1.895900         1.0        NaN         NaN\n",
       "5            NaN         NaN   2.755539         1.0\n",
       "7       1.900207         3.0   2.768935         2.0\n",
       "8            NaN         NaN   2.833527         3.0\n",
       "13      1.952580         5.0        NaN         NaN\n",
       "20      1.943186         4.0   2.939995         5.0"
      ]
     },
     "execution_count": 22,
     "metadata": {},
     "output_type": "execute_result"
    }
   ],
   "source": [
    "# merge dataframes\n",
    "topRecommendations = pd.merge(\n",
    "    topRecommendations_byrating, topRecommendations_bytestimony, how='outer',\n",
    "    left_index=True, right_index=True)\n",
    "topRecommendations"
   ]
  },
  {
   "cell_type": "code",
   "execution_count": 23,
   "metadata": {},
   "outputs": [],
   "source": [
    "topRecommendations = topRecommendations.fillna(0)"
   ]
  },
  {
   "cell_type": "code",
   "execution_count": 26,
   "metadata": {},
   "outputs": [
    {
     "data": {
      "text/html": [
       "<div>\n",
       "<style scoped>\n",
       "    .dataframe tbody tr th:only-of-type {\n",
       "        vertical-align: middle;\n",
       "    }\n",
       "\n",
       "    .dataframe tbody tr th {\n",
       "        vertical-align: top;\n",
       "    }\n",
       "\n",
       "    .dataframe thead th {\n",
       "        text-align: right;\n",
       "    }\n",
       "</style>\n",
       "<table border=\"1\" class=\"dataframe\">\n",
       "  <thead>\n",
       "    <tr style=\"text-align: right;\">\n",
       "      <th></th>\n",
       "      <th>Ratings</th>\n",
       "      <th>points_rat</th>\n",
       "      <th>Testimony</th>\n",
       "      <th>points_tes</th>\n",
       "      <th>Result</th>\n",
       "    </tr>\n",
       "    <tr>\n",
       "      <th>itemId</th>\n",
       "      <th></th>\n",
       "      <th></th>\n",
       "      <th></th>\n",
       "      <th></th>\n",
       "      <th></th>\n",
       "    </tr>\n",
       "  </thead>\n",
       "  <tbody>\n",
       "    <tr>\n",
       "      <th>20</th>\n",
       "      <td>1.943186</td>\n",
       "      <td>4.0</td>\n",
       "      <td>2.939995</td>\n",
       "      <td>5.0</td>\n",
       "      <td>4.5</td>\n",
       "    </tr>\n",
       "    <tr>\n",
       "      <th>2</th>\n",
       "      <td>1.897495</td>\n",
       "      <td>2.0</td>\n",
       "      <td>2.881244</td>\n",
       "      <td>4.0</td>\n",
       "      <td>3.0</td>\n",
       "    </tr>\n",
       "    <tr>\n",
       "      <th>7</th>\n",
       "      <td>1.900207</td>\n",
       "      <td>3.0</td>\n",
       "      <td>2.768935</td>\n",
       "      <td>2.0</td>\n",
       "      <td>2.5</td>\n",
       "    </tr>\n",
       "    <tr>\n",
       "      <th>13</th>\n",
       "      <td>1.952580</td>\n",
       "      <td>5.0</td>\n",
       "      <td>0.000000</td>\n",
       "      <td>0.0</td>\n",
       "      <td>2.5</td>\n",
       "    </tr>\n",
       "    <tr>\n",
       "      <th>8</th>\n",
       "      <td>0.000000</td>\n",
       "      <td>0.0</td>\n",
       "      <td>2.833527</td>\n",
       "      <td>3.0</td>\n",
       "      <td>1.5</td>\n",
       "    </tr>\n",
       "    <tr>\n",
       "      <th>4</th>\n",
       "      <td>1.895900</td>\n",
       "      <td>1.0</td>\n",
       "      <td>0.000000</td>\n",
       "      <td>0.0</td>\n",
       "      <td>0.5</td>\n",
       "    </tr>\n",
       "    <tr>\n",
       "      <th>5</th>\n",
       "      <td>0.000000</td>\n",
       "      <td>0.0</td>\n",
       "      <td>2.755539</td>\n",
       "      <td>1.0</td>\n",
       "      <td>0.5</td>\n",
       "    </tr>\n",
       "  </tbody>\n",
       "</table>\n",
       "</div>"
      ],
      "text/plain": [
       "         Ratings  points_rat  Testimony  points_tes  Result\n",
       "itemId                                                     \n",
       "20      1.943186         4.0   2.939995         5.0     4.5\n",
       "2       1.897495         2.0   2.881244         4.0     3.0\n",
       "7       1.900207         3.0   2.768935         2.0     2.5\n",
       "13      1.952580         5.0   0.000000         0.0     2.5\n",
       "8       0.000000         0.0   2.833527         3.0     1.5\n",
       "4       1.895900         1.0   0.000000         0.0     0.5\n",
       "5       0.000000         0.0   2.755539         1.0     0.5"
      ]
     },
     "execution_count": 26,
     "metadata": {},
     "output_type": "execute_result"
    }
   ],
   "source": [
    "# calculate the result\n",
    "topRecommendations['Result'] = topRecommendations.apply(\n",
    "    lambda row: (row['points_rat']+row['points_tes'])/2,\n",
    "    axis=1\n",
    ")\n",
    "topRecommendations = topRecommendations.sort_values(by=['Result'],ascending=[0])\n",
    "topRecommendations"
   ]
  },
  {
   "cell_type": "code",
   "execution_count": 27,
   "metadata": {},
   "outputs": [
    {
     "data": {
      "text/html": [
       "<div>\n",
       "<style scoped>\n",
       "    .dataframe tbody tr th:only-of-type {\n",
       "        vertical-align: middle;\n",
       "    }\n",
       "\n",
       "    .dataframe tbody tr th {\n",
       "        vertical-align: top;\n",
       "    }\n",
       "\n",
       "    .dataframe thead th {\n",
       "        text-align: right;\n",
       "    }\n",
       "</style>\n",
       "<table border=\"1\" class=\"dataframe\">\n",
       "  <thead>\n",
       "    <tr style=\"text-align: right;\">\n",
       "      <th></th>\n",
       "      <th>Unnamed: 0</th>\n",
       "      <th>itemId</th>\n",
       "      <th>itemname</th>\n",
       "      <th>bef_subtotal_review</th>\n",
       "      <th>subtotal_review</th>\n",
       "    </tr>\n",
       "  </thead>\n",
       "  <tbody>\n",
       "    <tr>\n",
       "      <th>0</th>\n",
       "      <td>0</td>\n",
       "      <td>1</td>\n",
       "      <td>Fire HD 8 Tablet with Alexa, 8\" HD Display, 32...</td>\n",
       "      <td>53</td>\n",
       "      <td>53</td>\n",
       "    </tr>\n",
       "    <tr>\n",
       "      <th>1</th>\n",
       "      <td>1</td>\n",
       "      <td>2</td>\n",
       "      <td>Fire Kids Edition Tablet, 7 Display, Wi-Fi, 16...</td>\n",
       "      <td>561</td>\n",
       "      <td>556</td>\n",
       "    </tr>\n",
       "    <tr>\n",
       "      <th>2</th>\n",
       "      <td>2</td>\n",
       "      <td>3</td>\n",
       "      <td>Amazon Tap - Alexa-Enabled Portable Bluetooth ...</td>\n",
       "      <td>225</td>\n",
       "      <td>225</td>\n",
       "    </tr>\n",
       "    <tr>\n",
       "      <th>3</th>\n",
       "      <td>3</td>\n",
       "      <td>4</td>\n",
       "      <td>Fire HD 10 Tablet, 10.1 HD Display, Wi-Fi, 16 ...</td>\n",
       "      <td>106</td>\n",
       "      <td>96</td>\n",
       "    </tr>\n",
       "    <tr>\n",
       "      <th>4</th>\n",
       "      <td>4</td>\n",
       "      <td>5</td>\n",
       "      <td>All-New Fire HD 8 Tablet, 8 HD Display, Wi-Fi,...</td>\n",
       "      <td>51</td>\n",
       "      <td>45</td>\n",
       "    </tr>\n",
       "  </tbody>\n",
       "</table>\n",
       "</div>"
      ],
      "text/plain": [
       "   Unnamed: 0  itemId                                           itemname  \\\n",
       "0           0       1  Fire HD 8 Tablet with Alexa, 8\" HD Display, 32...   \n",
       "1           1       2  Fire Kids Edition Tablet, 7 Display, Wi-Fi, 16...   \n",
       "2           2       3  Amazon Tap - Alexa-Enabled Portable Bluetooth ...   \n",
       "3           3       4  Fire HD 10 Tablet, 10.1 HD Display, Wi-Fi, 16 ...   \n",
       "4           4       5  All-New Fire HD 8 Tablet, 8 HD Display, Wi-Fi,...   \n",
       "\n",
       "   bef_subtotal_review  subtotal_review  \n",
       "0                   53               53  \n",
       "1                  561              556  \n",
       "2                  225              225  \n",
       "3                  106               96  \n",
       "4                   51               45  "
      ]
     },
     "execution_count": 27,
     "metadata": {},
     "output_type": "execute_result"
    }
   ],
   "source": [
    "DataItem = pd.read_csv(\n",
    "    'data/item.csv', \n",
    "    low_memory=False)\n",
    "DataItem.head()"
   ]
  },
  {
   "cell_type": "code",
   "execution_count": 29,
   "metadata": {},
   "outputs": [
    {
     "name": "stdout",
     "output_type": "stream",
     "text": [
      "['Fire Kids Edition Tablet, 7 Display, Wi-Fi, 16 GB, Blue Kid-Proof Case', 'Fire HD 10 Tablet, 10.1 HD Display, Wi-Fi, 16 GB - Includes Special Offers, Silver Aluminum', 'All-New Fire HD 8 Tablet, 8 HD Display, Wi-Fi, 16 GB - Includes Special Offers, Blue', 'Fire Kids Edition Tablet, 7 Display, Wi-Fi, 16 GB, Green Kid-Proof Case', 'Fire Tablet, 7 Display, Wi-Fi, 16 GB - Includes Special Offers, Black', 'All-New Fire HD 8 Tablet, 8\" HD Display, Wi-Fi, 32 GB - Includes Special Offers, Magenta', 'All-New Fire HD 8 Tablet, 8\" HD Display, Wi-Fi, 16 GB - Includes Special Offers, Magenta']\n"
     ]
    }
   ],
   "source": [
    "topRecommendationsTitles=DataItem.loc[DataItem.itemId.isin(topRecommendations.index)]\n",
    "print (list(topRecommendationsTitles.itemname))"
   ]
  },
  {
   "cell_type": "code",
   "execution_count": null,
   "metadata": {},
   "outputs": [],
   "source": []
  },
  {
   "cell_type": "code",
   "execution_count": null,
   "metadata": {},
   "outputs": [],
   "source": []
  },
  {
   "cell_type": "code",
   "execution_count": null,
   "metadata": {},
   "outputs": [],
   "source": []
  }
 ],
 "metadata": {
  "kernelspec": {
   "display_name": "Python 3",
   "language": "python",
   "name": "python3"
  },
  "language_info": {
   "codemirror_mode": {
    "name": "ipython",
    "version": 3
   },
   "file_extension": ".py",
   "mimetype": "text/x-python",
   "name": "python",
   "nbconvert_exporter": "python",
   "pygments_lexer": "ipython3",
   "version": "3.6.6+"
  }
 },
 "nbformat": 4,
 "nbformat_minor": 2
}
