{
 "cells": [
  {
   "cell_type": "code",
   "execution_count": 1,
   "metadata": {},
   "outputs": [],
   "source": [
    "from textblob import TextBlob\n",
    "from textblob.classifiers import NaiveBayesClassifier\n",
    "\n",
    "\n",
    "with open('data/datatrain.json', 'r') as fp:\n",
    "    cl = NaiveBayesClassifier(fp, format=\"json\")"
   ]
  },
  {
   "cell_type": "code",
   "execution_count": 2,
   "metadata": {},
   "outputs": [],
   "source": [
    "# import libraries\n",
    "import pandas as pd\n",
    "import numpy as np\n",
    "\n",
    "# get the data from csv file to dataframe\n",
    "data_test_filter = pd.read_csv('data/data_prepared_before_sentiment.csv', low_memory=False)"
   ]
  },
  {
   "cell_type": "code",
   "execution_count": 3,
   "metadata": {},
   "outputs": [
    {
     "data": {
      "text/plain": [
       "Index(['Unnamed: 0', 'itemId', 'userId', 'rating', 'comment'], dtype='object')"
      ]
     },
     "execution_count": 3,
     "metadata": {},
     "output_type": "execute_result"
    }
   ],
   "source": [
    "data_test_filter.columns"
   ]
  },
  {
   "cell_type": "code",
   "execution_count": 4,
   "metadata": {},
   "outputs": [
    {
     "name": "stdout",
     "output_type": "stream",
     "text": [
      "user count: 234, item count: 23\n"
     ]
    }
   ],
   "source": [
    "# check unique username and goods name\n",
    "user_count = data_test_filter['userId'].unique().shape[0]\n",
    "item_count = data_test_filter['itemId'].unique().shape[0]\n",
    "\n",
    "print(\"user count: \" + str(user_count) + \", item count: \" + str(item_count))"
   ]
  },
  {
   "cell_type": "code",
   "execution_count": 5,
   "metadata": {},
   "outputs": [
    {
     "data": {
      "text/plain": [
       "0      I thought it would be as big as small paper bu...\n",
       "1      This kindle is light and easy to use especiall...\n",
       "2      Didnt know how much i'd use a kindle so went f...\n",
       "3      I am 100 happy with my purchase. I caught it o...\n",
       "4      Solid entry level Kindle. Great for kids. Gift...\n",
       "5      This make an excellent ebook reader. Don't exp...\n",
       "6      I ordered this for my daughter, as I have the ...\n",
       "7      I bought my Kindle about 2 months ago and the ...\n",
       "8      amazon kindle is always the best ebook, upgrad...\n",
       "9      It's beyond my expectation, and it can even sh...\n",
       "10     If you really want to have a good read on some...\n",
       "11     Great Gift for anyone. Very easy to setup. Coe...\n",
       "12     Super excited to give this as a gift. It's sup...\n",
       "13     We bought this for mother in law, buying anoth...\n",
       "14     Well designed, good sound, has everything Alex...\n",
       "15     I have one Alexa and three Echo dots and havin...\n",
       "16     Omg I love my amazon show it is sooo cool and ...\n",
       "17     Great looking design. Amazon Echo Show was eas...\n",
       "18     The product is very entertaining and useful. W...\n",
       "19     Got it for few weeks but it kind of fades away...\n",
       "20     This device is awesome ‚Äò really lets you get...\n",
       "21     Overall product is excellent. Speakers should ...\n",
       "22     A lazy mans drean when it is combined with Ale...\n",
       "23     I really enjoy my Fire stick. It's really easy...\n",
       "24     Really cool device! Instantly noticed the diff...\n",
       "25     Love it! Works great. One in each of the main ...\n",
       "26     Works great. Turns H&A up and down. Tv on and ...\n",
       "27     I LOVE Alexa and my Echo device (and Smart Bul...\n",
       "28     So I went to the store, purchased and gifted.i...\n",
       "29     Love the convenience of being able to turn on ...\n",
       "                             ...                        \n",
       "220    meh. it works. i find it difficult to navigate...\n",
       "221    This was a Christmas present. The person that ...\n",
       "222    This is my second Fire. Wanted a larger size t...\n",
       "223    Purchased this for a gift for my mother who is...\n",
       "224    Only negative is the apps. Thought they were f...\n",
       "225    I bought this kindle for my 11yr old granddaug...\n",
       "226    She loves it, the only problem I have is getti...\n",
       "227    Video quality is very good. Works well with Am...\n",
       "228    This is my 2nd tablet. Kindle Fire hd 8 review...\n",
       "229    This is my 2nd tablet and it works great with ...\n",
       "230    Easy to use. Very lightweight. Would recommend...\n",
       "231    The clarity of the screen and the back-lit tex...\n",
       "232    Nice tablet for my 8 year old daughter! Afford...\n",
       "233    Bought this for my wife. She is a constant rea...\n",
       "234    I bought this kindle for my 11yr old granddaug...\n",
       "235    Had a prob with original one I purchased and B...\n",
       "236    I love the tablets HD picture is beautiful. Th...\n",
       "237    I talk myself into the 32g and I am so glad I ...\n",
       "238    Cons:Isn't compatible with some of my Google a...\n",
       "239    My sister in-law recommended these to my wife ...\n",
       "240    My son uses this tablet for movies and music a...\n",
       "241    A friend recommended the tablet and I am happy...\n",
       "242    The product was for my daughter, she loves it,...\n",
       "243    The battery is having more and more trouble ho...\n",
       "244    was supposed to be a gift. there was a glitch ...\n",
       "245    Great product. Great price. I'm reading more s...\n",
       "246    Great product. Exactly what I've come to expec...\n",
       "247    For those that have Prime this is almost a mus...\n",
       "248    Using for Pandora in an office setting. Set up...\n",
       "249    Great tablet for the money so cheap that I use...\n",
       "Name: comment, Length: 250, dtype: object"
      ]
     },
     "execution_count": 5,
     "metadata": {},
     "output_type": "execute_result"
    }
   ],
   "source": [
    "data_test_filter.comment.apply(str)"
   ]
  },
  {
   "cell_type": "code",
   "execution_count": 9,
   "metadata": {},
   "outputs": [
    {
     "data": {
      "text/plain": [
       "(250, 5)"
      ]
     },
     "execution_count": 9,
     "metadata": {},
     "output_type": "execute_result"
    }
   ],
   "source": [
    "data_test_filter.shape"
   ]
  },
  {
   "cell_type": "code",
   "execution_count": 10,
   "metadata": {},
   "outputs": [],
   "source": [
    "# remove unwanted characters, numbers and symbols\n",
    "\n",
    "data_test_filter['comment'] = data_test_filter['comment'].str.replace(\"[^a-zA-Z#]\", \" \")\n",
    "\n",
    "# remove stopwords and short words (<2 letters)\n",
    "from nltk.corpus import stopwords\n",
    "stop_words = stopwords.words('english')\n",
    "# function to remove stopwords\n",
    "def remove_stopwords(rev):\n",
    "    rev_new = \" \".join([i for i in rev if i not in stop_words])\n",
    "    return rev_new\n",
    "\n",
    "# remove short words(length<3)\n",
    "data_test_filter['comment'] = data_test_filter['comment'].apply(lambda x: ' '.join([w for w in x.split() if len (w)>2]))\n",
    "\n",
    "# remove stopwords from the text\n",
    "reviews = [remove_stopwords(r.split()) for r in data_test_filter['comment']]\n",
    "\n",
    "# make entire text lowercase\n",
    "reviews = [r.lower() for r in reviews]\n",
    "\n",
    "data_test_filter['comment']=reviews"
   ]
  },
  {
   "cell_type": "code",
   "execution_count": 12,
   "metadata": {},
   "outputs": [
    {
     "data": {
      "text/html": [
       "<div>\n",
       "<style scoped>\n",
       "    .dataframe tbody tr th:only-of-type {\n",
       "        vertical-align: middle;\n",
       "    }\n",
       "\n",
       "    .dataframe tbody tr th {\n",
       "        vertical-align: top;\n",
       "    }\n",
       "\n",
       "    .dataframe thead th {\n",
       "        text-align: right;\n",
       "    }\n",
       "</style>\n",
       "<table border=\"1\" class=\"dataframe\">\n",
       "  <thead>\n",
       "    <tr style=\"text-align: right;\">\n",
       "      <th></th>\n",
       "      <th>Unnamed: 0</th>\n",
       "      <th>itemId</th>\n",
       "      <th>userId</th>\n",
       "      <th>rating</th>\n",
       "      <th>comment</th>\n",
       "    </tr>\n",
       "  </thead>\n",
       "  <tbody>\n",
       "    <tr>\n",
       "      <th>0</th>\n",
       "      <td>0</td>\n",
       "      <td>1</td>\n",
       "      <td>1</td>\n",
       "      <td>3</td>\n",
       "      <td>thought would big small paper turn like palm t...</td>\n",
       "    </tr>\n",
       "    <tr>\n",
       "      <th>1</th>\n",
       "      <td>1</td>\n",
       "      <td>1</td>\n",
       "      <td>2</td>\n",
       "      <td>5</td>\n",
       "      <td>this kindle light easy use especially beach</td>\n",
       "    </tr>\n",
       "    <tr>\n",
       "      <th>2</th>\n",
       "      <td>2</td>\n",
       "      <td>1</td>\n",
       "      <td>3</td>\n",
       "      <td>4</td>\n",
       "      <td>didnt know much use kindle went lower end happ...</td>\n",
       "    </tr>\n",
       "    <tr>\n",
       "      <th>3</th>\n",
       "      <td>3</td>\n",
       "      <td>1</td>\n",
       "      <td>4</td>\n",
       "      <td>5</td>\n",
       "      <td>happy purchase caught sale really good price n...</td>\n",
       "    </tr>\n",
       "    <tr>\n",
       "      <th>4</th>\n",
       "      <td>4</td>\n",
       "      <td>1</td>\n",
       "      <td>5</td>\n",
       "      <td>5</td>\n",
       "      <td>solid entry level kindle great kids gifted kid...</td>\n",
       "    </tr>\n",
       "  </tbody>\n",
       "</table>\n",
       "</div>"
      ],
      "text/plain": [
       "   Unnamed: 0  itemId  userId  rating  \\\n",
       "0           0       1       1       3   \n",
       "1           1       1       2       5   \n",
       "2           2       1       3       4   \n",
       "3           3       1       4       5   \n",
       "4           4       1       5       5   \n",
       "\n",
       "                                             comment  \n",
       "0  thought would big small paper turn like palm t...  \n",
       "1        this kindle light easy use especially beach  \n",
       "2  didnt know much use kindle went lower end happ...  \n",
       "3  happy purchase caught sale really good price n...  \n",
       "4  solid entry level kindle great kids gifted kid...  "
      ]
     },
     "execution_count": 12,
     "metadata": {},
     "output_type": "execute_result"
    }
   ],
   "source": [
    "data_test_filter.head()"
   ]
  },
  {
   "cell_type": "code",
   "execution_count": 13,
   "metadata": {},
   "outputs": [],
   "source": [
    "sentiment = []\n",
    "for x in data_test_filter['comment']:\n",
    "    blob = TextBlob(x, classifier=cl)\n",
    "    r = blob.classify()\n",
    "    if blob.sentiment[0] == 0:\n",
    "        r = 'neutral'\n",
    "    sentiment.append(r)"
   ]
  },
  {
   "cell_type": "code",
   "execution_count": 14,
   "metadata": {},
   "outputs": [],
   "source": [
    "sentiment_label = []\n",
    "for x in sentiment:\n",
    "    if x == 'pos':\n",
    "        v = 3\n",
    "    elif x == 'neg':\n",
    "        v = 1\n",
    "    else:\n",
    "        v = 2\n",
    "    sentiment_label.append(v)\n",
    "data_test_filter['label']=sentiment_label    "
   ]
  },
  {
   "cell_type": "code",
   "execution_count": 15,
   "metadata": {},
   "outputs": [
    {
     "data": {
      "text/html": [
       "<div>\n",
       "<style scoped>\n",
       "    .dataframe tbody tr th:only-of-type {\n",
       "        vertical-align: middle;\n",
       "    }\n",
       "\n",
       "    .dataframe tbody tr th {\n",
       "        vertical-align: top;\n",
       "    }\n",
       "\n",
       "    .dataframe thead th {\n",
       "        text-align: right;\n",
       "    }\n",
       "</style>\n",
       "<table border=\"1\" class=\"dataframe\">\n",
       "  <thead>\n",
       "    <tr style=\"text-align: right;\">\n",
       "      <th></th>\n",
       "      <th>Unnamed: 0</th>\n",
       "      <th>itemId</th>\n",
       "      <th>userId</th>\n",
       "      <th>rating</th>\n",
       "      <th>comment</th>\n",
       "      <th>label</th>\n",
       "    </tr>\n",
       "  </thead>\n",
       "  <tbody>\n",
       "    <tr>\n",
       "      <th>0</th>\n",
       "      <td>0</td>\n",
       "      <td>1</td>\n",
       "      <td>1</td>\n",
       "      <td>3</td>\n",
       "      <td>thought would big small paper turn like palm t...</td>\n",
       "      <td>3</td>\n",
       "    </tr>\n",
       "    <tr>\n",
       "      <th>1</th>\n",
       "      <td>1</td>\n",
       "      <td>1</td>\n",
       "      <td>2</td>\n",
       "      <td>5</td>\n",
       "      <td>this kindle light easy use especially beach</td>\n",
       "      <td>3</td>\n",
       "    </tr>\n",
       "    <tr>\n",
       "      <th>2</th>\n",
       "      <td>2</td>\n",
       "      <td>1</td>\n",
       "      <td>3</td>\n",
       "      <td>4</td>\n",
       "      <td>didnt know much use kindle went lower end happ...</td>\n",
       "      <td>3</td>\n",
       "    </tr>\n",
       "    <tr>\n",
       "      <th>3</th>\n",
       "      <td>3</td>\n",
       "      <td>1</td>\n",
       "      <td>4</td>\n",
       "      <td>5</td>\n",
       "      <td>happy purchase caught sale really good price n...</td>\n",
       "      <td>3</td>\n",
       "    </tr>\n",
       "    <tr>\n",
       "      <th>4</th>\n",
       "      <td>4</td>\n",
       "      <td>1</td>\n",
       "      <td>5</td>\n",
       "      <td>5</td>\n",
       "      <td>solid entry level kindle great kids gifted kid...</td>\n",
       "      <td>3</td>\n",
       "    </tr>\n",
       "  </tbody>\n",
       "</table>\n",
       "</div>"
      ],
      "text/plain": [
       "   Unnamed: 0  itemId  userId  rating  \\\n",
       "0           0       1       1       3   \n",
       "1           1       1       2       5   \n",
       "2           2       1       3       4   \n",
       "3           3       1       4       5   \n",
       "4           4       1       5       5   \n",
       "\n",
       "                                             comment  label  \n",
       "0  thought would big small paper turn like palm t...      3  \n",
       "1        this kindle light easy use especially beach      3  \n",
       "2  didnt know much use kindle went lower end happ...      3  \n",
       "3  happy purchase caught sale really good price n...      3  \n",
       "4  solid entry level kindle great kids gifted kid...      3  "
      ]
     },
     "execution_count": 15,
     "metadata": {},
     "output_type": "execute_result"
    }
   ],
   "source": [
    "data_test_filter.head()"
   ]
  },
  {
   "cell_type": "code",
   "execution_count": null,
   "metadata": {},
   "outputs": [],
   "source": []
  }
 ],
 "metadata": {
  "kernelspec": {
   "display_name": "Python 3",
   "language": "python",
   "name": "python3"
  },
  "language_info": {
   "codemirror_mode": {
    "name": "ipython",
    "version": 3
   },
   "file_extension": ".py",
   "mimetype": "text/x-python",
   "name": "python",
   "nbconvert_exporter": "python",
   "pygments_lexer": "ipython3",
   "version": "3.6.6+"
  }
 },
 "nbformat": 4,
 "nbformat_minor": 2
}
