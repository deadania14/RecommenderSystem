{
 "cells": [
  {
   "cell_type": "code",
   "execution_count": 2,
   "metadata": {},
   "outputs": [
    {
     "name": "stdout",
     "output_type": "stream",
     "text": [
      "['Men in Black (1997)', 'Blade Runner (1982)', 'Empire Strikes Back, The (1980)']\n"
     ]
    }
   ],
   "source": [
    "import numpy as np\n",
    "import pandas as pd\n",
    "#Reading data file:\n",
    "dataFile = ['userId', 'itemId', 'rating', 'timestamp']\n",
    "data = pd.read_csv('ml-100k/u.data', sep='\\t', names=dataFile,encoding='latin-1')\n",
    "\n",
    "# data.head()\n",
    "\n",
    "#Reading items file:\n",
    "movieInfoFile =['itemId', 'title' ,'release date','video release date', 'IMDb URL', 'unknown', 'Action', 'Adventure',\n",
    "'Animation', 'Children\\'s', 'Comedy', 'Crime', 'Documentary', 'Drama', 'Fantasy',\n",
    "'Film-Noir', 'Horror', 'Musical', 'Mystery', 'Romance', 'Sci-Fi', 'Thriller', 'War', 'Western']\n",
    "movieInfoneedcut = pd.read_csv('ml-100k/u.item', sep='|', names=movieInfoFile,\n",
    "encoding='latin-1')\n",
    "\n",
    "movieInfo=pd.DataFrame(movieInfoneedcut.itemId)\n",
    "movieInfo['title']=movieInfoneedcut['title']\n",
    "# movieInfo.head()\n",
    "\n",
    "data=pd.merge(data,movieInfo, left_on= 'itemId', right_on= 'itemId')\n",
    "data=pd.DataFrame.sort_values(data,['userId','itemId'], ascending=[0,1])\n",
    "data.head()\n",
    "# numUsers=max(data.userId)\n",
    "# numMovies=max(data.itemId)\n",
    "\n",
    "numUsers=data['userId'].unique().shape[0]\n",
    "numMovies=data['itemId'].unique().shape[0]\n",
    "\n",
    "moviePerUser=data.userId.value_counts()\n",
    "userPerMovie=data.title.value_counts()\n",
    "\n",
    "def favoriteMovies(activeUser, N):\n",
    "    topMovies=pd.DataFrame.sort_values(\n",
    "                data[data.userId==activeUser], ['rating'], ascending=[0])[:N]\n",
    "    return list(topMovies.title)\n",
    "\n",
    "print (favoriteMovies(5,3))#3 fav movies of user 5\n",
    "\n"
   ]
  },
  {
   "cell_type": "code",
   "execution_count": 3,
   "metadata": {},
   "outputs": [],
   "source": [
    "userItemRatingMatrix=pd.pivot_table(data, values='rating', index=['userId'], columns=['itemId'])\n",
    "# userItemRatingMatrix.head()\n",
    "from scipy.spatial.distance import correlation\n",
    "def similarity(user1,user2):\n",
    "#   normalizing\n",
    "    user1=np.array(user1)-np.nanmean(user1)\n",
    "    user2=np.array(user2)-np.nanmean(user2)\n",
    "    commonItemIds=[\n",
    "        i for i in range(len(user1))\n",
    "        if user1[i]>0 and user2[i]>0\n",
    "    ]\n",
    "    if len(commonItemIds)==0:\n",
    "        return 0\n",
    "    else:\n",
    "        user1-np.array([user1[i] for i in commonItemIds])\n",
    "        user2-np.array([user2[i] for i in commonItemIds])\n",
    "        return correlation(user1, user2)\n",
    "    \n",
    "    def nearestNeighbourRatings(activeUser, K):\n",
    "        similarityMatrix=pd.DataFrame(index=userItemRatingMatrix.index, columns=['Similarity'])\n",
    "        for i in userItemRatingMatrix.indes:\n",
    "            similarityMatrix.loc[i]=similarity(userItemRatingMatrix.loc[activeUser], userItemRatingMatrix.loc[i])\n",
    "        similarityMatrix=pd.DataFrame.sort_values(similarityMatrix, ['Similarity'], ascending=[0])\n",
    "        nearestNeighnours=similarityMatrix[:K]\n",
    "        neighbourItemRatings=userItemRatingMatrix.loc[nearestNeighbours.index]\n",
    "        \n",
    "        predictItemRating=pd.DataFrame(index=userItemRatingMatrix.columns, columns=['Rating'])\n",
    "        \n",
    "        for i in userItemRatingMatrix.columns:\n",
    "            predictedRating=np.nanmean(userItemRatingMatrix.loc[activeUser])\n",
    "            for j in neighbourItemRatings.index:\n",
    "                if userItemRatingMatrix.loc[j,i]>0:\n",
    "                    predictedRating+=(userItemRatingMatrix.loc[j,i]-np.nanmean(userItemRatingMatrix.loc[j]))*nearestNeighbours.loc[j, 'Similarity']\n",
    "            predictItemRating.loc[i, 'Rating']=predictedRating\n",
    "        return predictItemRating"
   ]
  },
  {
   "cell_type": "code",
   "execution_count": 5,
   "metadata": {},
   "outputs": [
    {
     "name": "stdout",
     "output_type": "stream",
     "text": [
      "0\n",
      "1\n",
      "2\n",
      "3\n",
      "4\n",
      "5\n",
      "6\n",
      "7\n",
      "8\n",
      "9\n",
      "['Twelve Monkeys (1995)', 'Shawshank Redemption, The (1994)', 'Fargo (1996)']\n"
     ]
    }
   ],
   "source": [
    "def matrixFactorization(R, K, steps=10, gamma=0.001, lamda=0.02):\n",
    "    N=len(R.index)#number of users\n",
    "    M=len(R.columns)#number of items\n",
    "    P=pd.DataFrame(np.random.rand(N,K), index=R.index)\n",
    "    Q=pd.DataFrame(np.random.rand(M,K), index=R.columns)\n",
    "    for step in range(steps):\n",
    "        for i in R.index:\n",
    "            for j in R.columns:\n",
    "                if R.loc[i,j]>0:\n",
    "                    eij=R.loc[i,j]-np.dot(P.loc[i],Q.loc[j])\n",
    "                    P.loc[i]=P.loc[i]+gamma*(eij*Q.loc[j]-lamda*P.loc[i])\n",
    "                    Q.loc[j]=Q.loc[j]+gamma*(eij*P.loc[i]-lamda*Q.loc[j])\n",
    "        e=0\n",
    "        for i in R.index:\n",
    "            for j in R.columns:\n",
    "                if R.loc[i,j]>0:\n",
    "                    e=e+pow(R.loc[i,j]-np.dot(P.loc[i], Q.loc[j]),2)+lamda*(pow(np.linalg.norm(P.loc[i]),2)+pow(np.linalg.norm(Q.loc[j]),2))\n",
    "        if e<0.001:\n",
    "            break\n",
    "        print (step)\n",
    "    return P,Q\n",
    "\n",
    "(P,Q)=matrixFactorization(userItemRatingMatrix.iloc[:100,:100], K=2, gamma=0.001, lamda=0.02, steps=10)\n",
    "\n",
    "activeUser=1\n",
    "predictItemRating=pd.DataFrame(np.dot(P.loc[activeUser],Q.T), index=Q.index, columns=['Ratings'])\n",
    "topRecommendations=pd.DataFrame.sort_values(predictItemRating,['Ratings'],ascending=[0])[:3]\n",
    "#we found the ratings of all movie by the active user and then sorted them to top 3\n",
    "topRecommendationsTitles=movieInfo.loc[movieInfo.itemId.isin(topRecommendations.index)]\n",
    "print (list(topRecommendationsTitles.title))"
   ]
  },
  {
   "cell_type": "code",
   "execution_count": null,
   "metadata": {},
   "outputs": [],
   "source": [
    "#['Usual Suspects, The (1995)', 'Star Wars (1977)', 'Shawshank Redemption, The (1994)']"
   ]
  }
 ],
 "metadata": {
  "kernelspec": {
   "display_name": "Python 3",
   "language": "python",
   "name": "python3"
  },
  "language_info": {
   "codemirror_mode": {
    "name": "ipython",
    "version": 3
   },
   "file_extension": ".py",
   "mimetype": "text/x-python",
   "name": "python",
   "nbconvert_exporter": "python",
   "pygments_lexer": "ipython3",
   "version": "3.6.6+"
  }
 },
 "nbformat": 4,
 "nbformat_minor": 2
}
