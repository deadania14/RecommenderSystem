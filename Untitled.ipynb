{
 "cells": [
  {
   "cell_type": "code",
   "execution_count": 1,
   "metadata": {},
   "outputs": [],
   "source": [
    "# import libraries\n",
    "import pandas as pd\n",
    "import numpy as np\n",
    "\n",
    "# get the data from csv file to dataframe\n",
    "item = pd.read_csv('data/modal/item.csv', low_memory=False)\n",
    "itemadd = pd.read_csv('data/modal/item_addition.csv', low_memory=False)\n",
    "\n",
    "\n"
   ]
  },
  {
   "cell_type": "code",
   "execution_count": 2,
   "metadata": {},
   "outputs": [],
   "source": [
    "all_item = pd.concat([item, itemadd])"
   ]
  },
  {
   "cell_type": "code",
   "execution_count": 7,
   "metadata": {},
   "outputs": [
    {
     "data": {
      "text/html": [
       "<div>\n",
       "<style scoped>\n",
       "    .dataframe tbody tr th:only-of-type {\n",
       "        vertical-align: middle;\n",
       "    }\n",
       "\n",
       "    .dataframe tbody tr th {\n",
       "        vertical-align: top;\n",
       "    }\n",
       "\n",
       "    .dataframe thead th {\n",
       "        text-align: right;\n",
       "    }\n",
       "</style>\n",
       "<table border=\"1\" class=\"dataframe\">\n",
       "  <thead>\n",
       "    <tr style=\"text-align: right;\">\n",
       "      <th></th>\n",
       "      <th>Category</th>\n",
       "      <th>itemId</th>\n",
       "      <th>itemname</th>\n",
       "    </tr>\n",
       "  </thead>\n",
       "  <tbody>\n",
       "    <tr>\n",
       "      <th>0</th>\n",
       "      <td>Kindle</td>\n",
       "      <td>1</td>\n",
       "      <td>Brand New Amazon Kindle Fire 16gb 7\" Ips Displ...</td>\n",
       "    </tr>\n",
       "    <tr>\n",
       "      <th>1</th>\n",
       "      <td>TV</td>\n",
       "      <td>2</td>\n",
       "      <td>Amazon Fire TV with 4K Ultra HD and Alexa Voic...</td>\n",
       "    </tr>\n",
       "    <tr>\n",
       "      <th>2</th>\n",
       "      <td>Adapter</td>\n",
       "      <td>3</td>\n",
       "      <td>Amazon 9W PowerFast Official OEM USB Charger a...</td>\n",
       "    </tr>\n",
       "    <tr>\n",
       "      <th>3</th>\n",
       "      <td>Tablet</td>\n",
       "      <td>4</td>\n",
       "      <td>Fire Tablet, 7 Display, Wi-Fi, 16 GB - Include...</td>\n",
       "    </tr>\n",
       "    <tr>\n",
       "      <th>4</th>\n",
       "      <td>Tablet</td>\n",
       "      <td>5</td>\n",
       "      <td>All-New Fire HD 8 Tablet, 8\" HD Display, Wi-Fi...</td>\n",
       "    </tr>\n",
       "  </tbody>\n",
       "</table>\n",
       "</div>"
      ],
      "text/plain": [
       "  Category  itemId                                           itemname\n",
       "0   Kindle       1  Brand New Amazon Kindle Fire 16gb 7\" Ips Displ...\n",
       "1       TV       2  Amazon Fire TV with 4K Ultra HD and Alexa Voic...\n",
       "2  Adapter       3  Amazon 9W PowerFast Official OEM USB Charger a...\n",
       "3   Tablet       4  Fire Tablet, 7 Display, Wi-Fi, 16 GB - Include...\n",
       "4   Tablet       5  All-New Fire HD 8 Tablet, 8\" HD Display, Wi-Fi..."
      ]
     },
     "execution_count": 7,
     "metadata": {},
     "output_type": "execute_result"
    }
   ],
   "source": [
    "all_item.head()"
   ]
  },
  {
   "cell_type": "code",
   "execution_count": 4,
   "metadata": {},
   "outputs": [],
   "source": [
    "all_item.drop(\"URL\", axis=1, inplace=True) "
   ]
  },
  {
   "cell_type": "code",
   "execution_count": 6,
   "metadata": {},
   "outputs": [],
   "source": [
    "all_item.drop(\"Unnamed: 0\", axis=1, inplace=True) "
   ]
  },
  {
   "cell_type": "code",
   "execution_count": 8,
   "metadata": {},
   "outputs": [],
   "source": [
    "all_item.to_csv('data/upload/item.csv')"
   ]
  },
  {
   "cell_type": "code",
   "execution_count": 2,
   "metadata": {},
   "outputs": [
    {
     "data": {
      "text/plain": [
       "Index(['reviewId', 'rating', 'testimony', 'itemId', 'userId'], dtype='object')"
      ]
     },
     "execution_count": 2,
     "metadata": {},
     "output_type": "execute_result"
    }
   ],
   "source": [
    "\n",
    "reviews.rename(\n",
    "    columns={\n",
    "        'Unnamed: 0':'reviewId'}, \n",
    "    inplace=True)\n",
    "\n",
    "reviews.columns"
   ]
  },
  {
   "cell_type": "code",
   "execution_count": 3,
   "metadata": {},
   "outputs": [
    {
     "data": {
      "text/plain": [
       "Unnamed: 0           int64\n",
       "reviewId             int64\n",
       "rating             float64\n",
       "testimony           object\n",
       "itemId               int64\n",
       "userId               int64\n",
       "testimony_value     object\n",
       "dtype: object"
      ]
     },
     "execution_count": 3,
     "metadata": {},
     "output_type": "execute_result"
    }
   ],
   "source": [
    "tablet_reviews.dtypes"
   ]
  },
  {
   "cell_type": "code",
   "execution_count": 28,
   "metadata": {},
   "outputs": [
    {
     "data": {
      "text/plain": [
       "reviewId      int64\n",
       "rating        int64\n",
       "testimony    object\n",
       "itemId        int64\n",
       "userId        int64\n",
       "dtype: object"
      ]
     },
     "execution_count": 28,
     "metadata": {},
     "output_type": "execute_result"
    }
   ],
   "source": [
    "reviews = pd.read_csv('data/reviews/reviews.csv', low_memory=False)\n",
    "reviews.dtypes"
   ]
  },
  {
   "cell_type": "code",
   "execution_count": null,
   "metadata": {},
   "outputs": [],
   "source": []
  },
  {
   "cell_type": "code",
   "execution_count": null,
   "metadata": {},
   "outputs": [],
   "source": []
  },
  {
   "cell_type": "code",
   "execution_count": null,
   "metadata": {},
   "outputs": [],
   "source": []
  },
  {
   "cell_type": "code",
   "execution_count": 5,
   "metadata": {},
   "outputs": [],
   "source": [
    "tablet_reviews.merge(reviews,on='reviewId',\n",
    "                   how='outer').dropna(subset=['reviewId']).fillna('').to_csv(\"data/tablet_reviews_newitemid.csv\")"
   ]
  },
  {
   "cell_type": "code",
   "execution_count": 7,
   "metadata": {},
   "outputs": [],
   "source": [
    "item = pd.read_csv('data/modal/item.csv')"
   ]
  },
  {
   "cell_type": "code",
   "execution_count": 68,
   "metadata": {},
   "outputs": [
    {
     "data": {
      "text/plain": [
       "Index(['Unnamed: 0', 'itemId', 'itemname', 'Category'], dtype='object')"
      ]
     },
     "execution_count": 68,
     "metadata": {},
     "output_type": "execute_result"
    }
   ],
   "source": [
    "item.columns"
   ]
  },
  {
   "cell_type": "code",
   "execution_count": 8,
   "metadata": {},
   "outputs": [
    {
     "data": {
      "text/plain": [
       "10    11\n",
       "19    20\n",
       "22    23\n",
       "Name: itemId, dtype: int64"
      ]
     },
     "execution_count": 8,
     "metadata": {},
     "output_type": "execute_result"
    }
   ],
   "source": [
    "idSpeaker = item.itemId[item.Category =='Speaker']\n",
    "idSpeaker"
   ]
  },
  {
   "cell_type": "code",
   "execution_count": 11,
   "metadata": {},
   "outputs": [
    {
     "data": {
      "text/plain": [
       "0      1\n",
       "8      9\n",
       "11    12\n",
       "16    17\n",
       "17    18\n",
       "18    19\n",
       "20    21\n",
       "Name: itemId, dtype: int64"
      ]
     },
     "execution_count": 11,
     "metadata": {},
     "output_type": "execute_result"
    }
   ],
   "source": [
    "idKindle = item.itemId[item.Category =='Kindle']\n",
    "idKindle"
   ]
  },
  {
   "cell_type": "code",
   "execution_count": 69,
   "metadata": {},
   "outputs": [
    {
     "data": {
      "text/plain": [
       "1    2\n",
       "Name: itemId, dtype: int64"
      ]
     },
     "execution_count": 69,
     "metadata": {},
     "output_type": "execute_result"
    }
   ],
   "source": [
    "idTV = item.itemId[item.Category =='TV']\n",
    "idTV"
   ]
  },
  {
   "cell_type": "code",
   "execution_count": 17,
   "metadata": {},
   "outputs": [
    {
     "data": {
      "text/plain": [
       "2    3\n",
       "Name: itemId, dtype: int64"
      ]
     },
     "execution_count": 17,
     "metadata": {},
     "output_type": "execute_result"
    }
   ],
   "source": [
    "idAdapter = item.itemId[item.Category =='Adapter']\n",
    "idAdapter"
   ]
  },
  {
   "cell_type": "code",
   "execution_count": 18,
   "metadata": {},
   "outputs": [],
   "source": [
    "adapter_reviews = reviews[reviews.itemId.isin(idAdapter)]"
   ]
  },
  {
   "cell_type": "code",
   "execution_count": 89,
   "metadata": {},
   "outputs": [
    {
     "data": {
      "text/plain": [
       "(4, 5)"
      ]
     },
     "execution_count": 89,
     "metadata": {},
     "output_type": "execute_result"
    }
   ],
   "source": [
    "# tv_reviews =reviews.groupby(['itemId']==2)\n",
    "tv_reviews = reviews[reviews['itemId']==2]\n",
    "\n",
    "tv_reviews.shape\n"
   ]
  },
  {
   "cell_type": "code",
   "execution_count": 91,
   "metadata": {},
   "outputs": [
    {
     "data": {
      "text/html": [
       "<div>\n",
       "<style scoped>\n",
       "    .dataframe tbody tr th:only-of-type {\n",
       "        vertical-align: middle;\n",
       "    }\n",
       "\n",
       "    .dataframe tbody tr th {\n",
       "        vertical-align: top;\n",
       "    }\n",
       "\n",
       "    .dataframe thead th {\n",
       "        text-align: right;\n",
       "    }\n",
       "</style>\n",
       "<table border=\"1\" class=\"dataframe\">\n",
       "  <thead>\n",
       "    <tr style=\"text-align: right;\">\n",
       "      <th></th>\n",
       "      <th>reviewId</th>\n",
       "      <th>rating</th>\n",
       "      <th>testimony</th>\n",
       "      <th>userId</th>\n",
       "    </tr>\n",
       "    <tr>\n",
       "      <th>itemId</th>\n",
       "      <th></th>\n",
       "      <th></th>\n",
       "      <th></th>\n",
       "      <th></th>\n",
       "    </tr>\n",
       "  </thead>\n",
       "  <tbody>\n",
       "    <tr>\n",
       "      <th>1</th>\n",
       "      <td>418</td>\n",
       "      <td>418</td>\n",
       "      <td>418</td>\n",
       "      <td>418</td>\n",
       "    </tr>\n",
       "    <tr>\n",
       "      <th>2</th>\n",
       "      <td>4</td>\n",
       "      <td>4</td>\n",
       "      <td>4</td>\n",
       "      <td>4</td>\n",
       "    </tr>\n",
       "    <tr>\n",
       "      <th>3</th>\n",
       "      <td>22</td>\n",
       "      <td>22</td>\n",
       "      <td>22</td>\n",
       "      <td>22</td>\n",
       "    </tr>\n",
       "    <tr>\n",
       "      <th>4</th>\n",
       "      <td>371</td>\n",
       "      <td>371</td>\n",
       "      <td>371</td>\n",
       "      <td>371</td>\n",
       "    </tr>\n",
       "    <tr>\n",
       "      <th>5</th>\n",
       "      <td>796</td>\n",
       "      <td>796</td>\n",
       "      <td>796</td>\n",
       "      <td>796</td>\n",
       "    </tr>\n",
       "    <tr>\n",
       "      <th>6</th>\n",
       "      <td>67</td>\n",
       "      <td>67</td>\n",
       "      <td>67</td>\n",
       "      <td>67</td>\n",
       "    </tr>\n",
       "    <tr>\n",
       "      <th>7</th>\n",
       "      <td>217</td>\n",
       "      <td>217</td>\n",
       "      <td>217</td>\n",
       "      <td>217</td>\n",
       "    </tr>\n",
       "    <tr>\n",
       "      <th>8</th>\n",
       "      <td>96</td>\n",
       "      <td>96</td>\n",
       "      <td>96</td>\n",
       "      <td>96</td>\n",
       "    </tr>\n",
       "    <tr>\n",
       "      <th>9</th>\n",
       "      <td>140</td>\n",
       "      <td>140</td>\n",
       "      <td>140</td>\n",
       "      <td>140</td>\n",
       "    </tr>\n",
       "    <tr>\n",
       "      <th>10</th>\n",
       "      <td>45</td>\n",
       "      <td>45</td>\n",
       "      <td>45</td>\n",
       "      <td>45</td>\n",
       "    </tr>\n",
       "    <tr>\n",
       "      <th>11</th>\n",
       "      <td>225</td>\n",
       "      <td>225</td>\n",
       "      <td>225</td>\n",
       "      <td>225</td>\n",
       "    </tr>\n",
       "    <tr>\n",
       "      <th>12</th>\n",
       "      <td>21</td>\n",
       "      <td>21</td>\n",
       "      <td>21</td>\n",
       "      <td>21</td>\n",
       "    </tr>\n",
       "    <tr>\n",
       "      <th>13</th>\n",
       "      <td>58</td>\n",
       "      <td>58</td>\n",
       "      <td>58</td>\n",
       "      <td>58</td>\n",
       "    </tr>\n",
       "    <tr>\n",
       "      <th>14</th>\n",
       "      <td>101</td>\n",
       "      <td>101</td>\n",
       "      <td>101</td>\n",
       "      <td>101</td>\n",
       "    </tr>\n",
       "    <tr>\n",
       "      <th>15</th>\n",
       "      <td>40</td>\n",
       "      <td>40</td>\n",
       "      <td>40</td>\n",
       "      <td>40</td>\n",
       "    </tr>\n",
       "    <tr>\n",
       "      <th>16</th>\n",
       "      <td>556</td>\n",
       "      <td>556</td>\n",
       "      <td>556</td>\n",
       "      <td>556</td>\n",
       "    </tr>\n",
       "    <tr>\n",
       "      <th>17</th>\n",
       "      <td>24</td>\n",
       "      <td>24</td>\n",
       "      <td>24</td>\n",
       "      <td>24</td>\n",
       "    </tr>\n",
       "    <tr>\n",
       "      <th>18</th>\n",
       "      <td>32</td>\n",
       "      <td>32</td>\n",
       "      <td>32</td>\n",
       "      <td>32</td>\n",
       "    </tr>\n",
       "    <tr>\n",
       "      <th>19</th>\n",
       "      <td>96</td>\n",
       "      <td>96</td>\n",
       "      <td>96</td>\n",
       "      <td>96</td>\n",
       "    </tr>\n",
       "    <tr>\n",
       "      <th>20</th>\n",
       "      <td>590</td>\n",
       "      <td>590</td>\n",
       "      <td>590</td>\n",
       "      <td>590</td>\n",
       "    </tr>\n",
       "    <tr>\n",
       "      <th>21</th>\n",
       "      <td>82</td>\n",
       "      <td>82</td>\n",
       "      <td>82</td>\n",
       "      <td>82</td>\n",
       "    </tr>\n",
       "    <tr>\n",
       "      <th>22</th>\n",
       "      <td>53</td>\n",
       "      <td>53</td>\n",
       "      <td>53</td>\n",
       "      <td>53</td>\n",
       "    </tr>\n",
       "    <tr>\n",
       "      <th>23</th>\n",
       "      <td>751</td>\n",
       "      <td>751</td>\n",
       "      <td>751</td>\n",
       "      <td>751</td>\n",
       "    </tr>\n",
       "  </tbody>\n",
       "</table>\n",
       "</div>"
      ],
      "text/plain": [
       "        reviewId  rating  testimony  userId\n",
       "itemId                                     \n",
       "1            418     418        418     418\n",
       "2              4       4          4       4\n",
       "3             22      22         22      22\n",
       "4            371     371        371     371\n",
       "5            796     796        796     796\n",
       "6             67      67         67      67\n",
       "7            217     217        217     217\n",
       "8             96      96         96      96\n",
       "9            140     140        140     140\n",
       "10            45      45         45      45\n",
       "11           225     225        225     225\n",
       "12            21      21         21      21\n",
       "13            58      58         58      58\n",
       "14           101     101        101     101\n",
       "15            40      40         40      40\n",
       "16           556     556        556     556\n",
       "17            24      24         24      24\n",
       "18            32      32         32      32\n",
       "19            96      96         96      96\n",
       "20           590     590        590     590\n",
       "21            82      82         82      82\n",
       "22            53      53         53      53\n",
       "23           751     751        751     751"
      ]
     },
     "execution_count": 91,
     "metadata": {},
     "output_type": "execute_result"
    }
   ],
   "source": [
    "reviews.groupby(['itemId']).count()"
   ]
  },
  {
   "cell_type": "code",
   "execution_count": 12,
   "metadata": {},
   "outputs": [],
   "source": [
    "kindle_reviews = reviews[reviews.itemId.isin(idKindle)]"
   ]
  },
  {
   "cell_type": "code",
   "execution_count": 9,
   "metadata": {},
   "outputs": [],
   "source": [
    "speaker_reviews = reviews[reviews.itemId.isin(idSpeaker)]"
   ]
  },
  {
   "cell_type": "code",
   "execution_count": 95,
   "metadata": {},
   "outputs": [
    {
     "data": {
      "text/plain": [
       "(22, 5)"
      ]
     },
     "execution_count": 95,
     "metadata": {},
     "output_type": "execute_result"
    }
   ],
   "source": [
    "adapter_reviews = reviews[reviews.itemId.isin(idAdapter)]\n",
    "adapter_reviews.shape"
   ]
  },
  {
   "cell_type": "code",
   "execution_count": 15,
   "metadata": {},
   "outputs": [],
   "source": [
    "kindle_reviews.shape\n",
    "# kindle_reviews.to_csv(\"data/old/kindle_reviews_all.csv\")"
   ]
  },
  {
   "cell_type": "code",
   "execution_count": 17,
   "metadata": {},
   "outputs": [],
   "source": [
    "# kindle_reviews.sample(frac = .2).to_csv(\"data/kindle_test.csv\")"
   ]
  },
  {
   "cell_type": "code",
   "execution_count": 24,
   "metadata": {},
   "outputs": [
    {
     "data": {
      "text/plain": [
       "'look'"
      ]
     },
     "execution_count": 24,
     "metadata": {},
     "output_type": "execute_result"
    }
   ],
   "source": [
    "\n",
    "import re\n",
    "def reduce_lengthening(text):\n",
    "    pattern = re.compile(r\"(.)\\1{2,}\")\n",
    "    return pattern.sub(r\"\\1\\1\", text)\n",
    "\n",
    "reduce_lengthening(\"look\")\n"
   ]
  },
  {
   "cell_type": "code",
   "execution_count": 4,
   "metadata": {},
   "outputs": [],
   "source": [
    "## heading"
   ]
  },
  {
   "cell_type": "code",
   "execution_count": 21,
   "metadata": {},
   "outputs": [],
   "source": [
    "import pandas as pd\n",
    "tablet_reviews = pd.read_csv('data/reviews/tablet_test.csv', low_memory=False)"
   ]
  },
  {
   "cell_type": "code",
   "execution_count": 13,
   "metadata": {},
   "outputs": [],
   "source": [
    "# speaker_reviews.sample(frac = .2).to_csv(\"data/reviews/speaker_test.csv\")"
   ]
  },
  {
   "cell_type": "code",
   "execution_count": 20,
   "metadata": {},
   "outputs": [],
   "source": [
    "# tv_reviews.to_csv(\"data/reviews/tv_test.csv\")"
   ]
  },
  {
   "cell_type": "code",
   "execution_count": 96,
   "metadata": {},
   "outputs": [],
   "source": [
    "adapter_reviews.to_csv(\"data/reviews/adapter_test_new.csv\")"
   ]
  },
  {
   "cell_type": "code",
   "execution_count": 22,
   "metadata": {},
   "outputs": [
    {
     "data": {
      "text/plain": [
       "Index(['Unnamed: 0', 'reviewId', 'rating', 'hum_testimony', 'testimony',\n",
       "       'itemId', 'userId'],\n",
       "      dtype='object')"
      ]
     },
     "execution_count": 22,
     "metadata": {},
     "output_type": "execute_result"
    }
   ],
   "source": [
    "tablet_reviews.columns"
   ]
  },
  {
   "cell_type": "code",
   "execution_count": 29,
   "metadata": {},
   "outputs": [
    {
     "data": {
      "text/html": [
       "<div>\n",
       "<style scoped>\n",
       "    .dataframe tbody tr th:only-of-type {\n",
       "        vertical-align: middle;\n",
       "    }\n",
       "\n",
       "    .dataframe tbody tr th {\n",
       "        vertical-align: top;\n",
       "    }\n",
       "\n",
       "    .dataframe thead th {\n",
       "        text-align: right;\n",
       "    }\n",
       "</style>\n",
       "<table border=\"1\" class=\"dataframe\">\n",
       "  <thead>\n",
       "    <tr style=\"text-align: right;\">\n",
       "      <th></th>\n",
       "      <th>Unnamed: 0</th>\n",
       "      <th>reviewId</th>\n",
       "      <th>rating</th>\n",
       "      <th>hum_testimony</th>\n",
       "      <th>testimony</th>\n",
       "      <th>itemId</th>\n",
       "      <th>userId</th>\n",
       "    </tr>\n",
       "  </thead>\n",
       "  <tbody>\n",
       "    <tr>\n",
       "      <th>0</th>\n",
       "      <td>0</td>\n",
       "      <td>3979</td>\n",
       "      <td>1</td>\n",
       "      <td>pos</td>\n",
       "      <td>I have really enjoyed it so far. While not per...</td>\n",
       "      <td>5</td>\n",
       "      <td>3585</td>\n",
       "    </tr>\n",
       "    <tr>\n",
       "      <th>1</th>\n",
       "      <td>1</td>\n",
       "      <td>2963</td>\n",
       "      <td>1</td>\n",
       "      <td>pos</td>\n",
       "      <td>I purchased this tablet for my 3 year old and ...</td>\n",
       "      <td>7</td>\n",
       "      <td>1256</td>\n",
       "    </tr>\n",
       "    <tr>\n",
       "      <th>2</th>\n",
       "      <td>2</td>\n",
       "      <td>3899</td>\n",
       "      <td>5</td>\n",
       "      <td>pos</td>\n",
       "      <td>I love my tablet. It is super easy and loads f...</td>\n",
       "      <td>5</td>\n",
       "      <td>1506</td>\n",
       "    </tr>\n",
       "    <tr>\n",
       "      <th>3</th>\n",
       "      <td>3</td>\n",
       "      <td>2326</td>\n",
       "      <td>3</td>\n",
       "      <td>neg</td>\n",
       "      <td>Battery dies after an hour...should last longe...</td>\n",
       "      <td>7</td>\n",
       "      <td>188</td>\n",
       "    </tr>\n",
       "    <tr>\n",
       "      <th>4</th>\n",
       "      <td>4</td>\n",
       "      <td>2385</td>\n",
       "      <td>5</td>\n",
       "      <td>pos</td>\n",
       "      <td>It is great if you are a prime member , case i...</td>\n",
       "      <td>16</td>\n",
       "      <td>3023</td>\n",
       "    </tr>\n",
       "    <tr>\n",
       "      <th>5</th>\n",
       "      <td>5</td>\n",
       "      <td>2242</td>\n",
       "      <td>5</td>\n",
       "      <td>pos</td>\n",
       "      <td>Since I purchased mine the wife thought she wo...</td>\n",
       "      <td>4</td>\n",
       "      <td>618</td>\n",
       "    </tr>\n",
       "    <tr>\n",
       "      <th>6</th>\n",
       "      <td>6</td>\n",
       "      <td>2931</td>\n",
       "      <td>5</td>\n",
       "      <td>pos</td>\n",
       "      <td>My son is constantly distracted and loves tech...</td>\n",
       "      <td>16</td>\n",
       "      <td>2397</td>\n",
       "    </tr>\n",
       "    <tr>\n",
       "      <th>7</th>\n",
       "      <td>7</td>\n",
       "      <td>1817</td>\n",
       "      <td>5</td>\n",
       "      <td>pos</td>\n",
       "      <td>This was a gift for my kids. They love them. E...</td>\n",
       "      <td>16</td>\n",
       "      <td>1068</td>\n",
       "    </tr>\n",
       "    <tr>\n",
       "      <th>8</th>\n",
       "      <td>8</td>\n",
       "      <td>3211</td>\n",
       "      <td>5</td>\n",
       "      <td>pos</td>\n",
       "      <td>I was initially going to just get the Amazon K...</td>\n",
       "      <td>8</td>\n",
       "      <td>1553</td>\n",
       "    </tr>\n",
       "    <tr>\n",
       "      <th>9</th>\n",
       "      <td>9</td>\n",
       "      <td>2309</td>\n",
       "      <td>1</td>\n",
       "      <td>pos</td>\n",
       "      <td>Good product, great price. Big improvement ove...</td>\n",
       "      <td>4</td>\n",
       "      <td>862</td>\n",
       "    </tr>\n",
       "    <tr>\n",
       "      <th>10</th>\n",
       "      <td>10</td>\n",
       "      <td>2898</td>\n",
       "      <td>1</td>\n",
       "      <td>pos</td>\n",
       "      <td>I purchased this tablet for my grandmother to ...</td>\n",
       "      <td>4</td>\n",
       "      <td>1872</td>\n",
       "    </tr>\n",
       "    <tr>\n",
       "      <th>11</th>\n",
       "      <td>11</td>\n",
       "      <td>3669</td>\n",
       "      <td>5</td>\n",
       "      <td>pos</td>\n",
       "      <td>We love this so much in our home. We bought a ...</td>\n",
       "      <td>5</td>\n",
       "      <td>3518</td>\n",
       "    </tr>\n",
       "    <tr>\n",
       "      <th>12</th>\n",
       "      <td>12</td>\n",
       "      <td>4187</td>\n",
       "      <td>3</td>\n",
       "      <td>neu</td>\n",
       "      <td>The specs are good, feels solid, can't stand t...</td>\n",
       "      <td>5</td>\n",
       "      <td>2677</td>\n",
       "    </tr>\n",
       "    <tr>\n",
       "      <th>13</th>\n",
       "      <td>13</td>\n",
       "      <td>3238</td>\n",
       "      <td>5</td>\n",
       "      <td>neu</td>\n",
       "      <td>As I age, it's difficult for me to see the sma...</td>\n",
       "      <td>8</td>\n",
       "      <td>3643</td>\n",
       "    </tr>\n",
       "    <tr>\n",
       "      <th>14</th>\n",
       "      <td>14</td>\n",
       "      <td>2403</td>\n",
       "      <td>5</td>\n",
       "      <td>pos</td>\n",
       "      <td>Great price - great shipping - great item! Per...</td>\n",
       "      <td>16</td>\n",
       "      <td>710</td>\n",
       "    </tr>\n",
       "    <tr>\n",
       "      <th>15</th>\n",
       "      <td>15</td>\n",
       "      <td>3947</td>\n",
       "      <td>1</td>\n",
       "      <td>pos</td>\n",
       "      <td>Great tablet - lag free when running apps... G...</td>\n",
       "      <td>5</td>\n",
       "      <td>1484</td>\n",
       "    </tr>\n",
       "    <tr>\n",
       "      <th>16</th>\n",
       "      <td>16</td>\n",
       "      <td>2799</td>\n",
       "      <td>1</td>\n",
       "      <td>pos</td>\n",
       "      <td>This was the first tablet we purchased for our...</td>\n",
       "      <td>16</td>\n",
       "      <td>2130</td>\n",
       "    </tr>\n",
       "    <tr>\n",
       "      <th>17</th>\n",
       "      <td>17</td>\n",
       "      <td>2830</td>\n",
       "      <td>5</td>\n",
       "      <td>pos</td>\n",
       "      <td>Love the apps. His old fire stood up to signif...</td>\n",
       "      <td>16</td>\n",
       "      <td>3111</td>\n",
       "    </tr>\n",
       "    <tr>\n",
       "      <th>18</th>\n",
       "      <td>18</td>\n",
       "      <td>2660</td>\n",
       "      <td>5</td>\n",
       "      <td>pos</td>\n",
       "      <td>We replaced and aging fire HDX. She noticed th...</td>\n",
       "      <td>6</td>\n",
       "      <td>1368</td>\n",
       "    </tr>\n",
       "    <tr>\n",
       "      <th>19</th>\n",
       "      <td>19</td>\n",
       "      <td>2919</td>\n",
       "      <td>5</td>\n",
       "      <td>pos</td>\n",
       "      <td>Easy to set up and durable grandpa dropped it ...</td>\n",
       "      <td>7</td>\n",
       "      <td>3653</td>\n",
       "    </tr>\n",
       "    <tr>\n",
       "      <th>20</th>\n",
       "      <td>20</td>\n",
       "      <td>1893</td>\n",
       "      <td>1</td>\n",
       "      <td>pos</td>\n",
       "      <td>My kids love this product, as do I. Parental r...</td>\n",
       "      <td>16</td>\n",
       "      <td>1821</td>\n",
       "    </tr>\n",
       "    <tr>\n",
       "      <th>21</th>\n",
       "      <td>21</td>\n",
       "      <td>2492</td>\n",
       "      <td>1</td>\n",
       "      <td>pos</td>\n",
       "      <td>Best thing I got my kids. They don't ask to bo...</td>\n",
       "      <td>16</td>\n",
       "      <td>2214</td>\n",
       "    </tr>\n",
       "    <tr>\n",
       "      <th>22</th>\n",
       "      <td>22</td>\n",
       "      <td>2209</td>\n",
       "      <td>5</td>\n",
       "      <td>pos</td>\n",
       "      <td>So my 18 month old maybe the future computer w...</td>\n",
       "      <td>7</td>\n",
       "      <td>481</td>\n",
       "    </tr>\n",
       "    <tr>\n",
       "      <th>23</th>\n",
       "      <td>23</td>\n",
       "      <td>2459</td>\n",
       "      <td>1</td>\n",
       "      <td>pos</td>\n",
       "      <td>My stepkids are pretty rough on their toys and...</td>\n",
       "      <td>16</td>\n",
       "      <td>2024</td>\n",
       "    </tr>\n",
       "    <tr>\n",
       "      <th>24</th>\n",
       "      <td>24</td>\n",
       "      <td>2033</td>\n",
       "      <td>5</td>\n",
       "      <td>pos</td>\n",
       "      <td>My 3 year old got it for his birthday and he l...</td>\n",
       "      <td>16</td>\n",
       "      <td>3735</td>\n",
       "    </tr>\n",
       "    <tr>\n",
       "      <th>25</th>\n",
       "      <td>25</td>\n",
       "      <td>2562</td>\n",
       "      <td>5</td>\n",
       "      <td>pos</td>\n",
       "      <td>This amazon tablet is perfect for first time u...</td>\n",
       "      <td>16</td>\n",
       "      <td>2279</td>\n",
       "    </tr>\n",
       "    <tr>\n",
       "      <th>26</th>\n",
       "      <td>26</td>\n",
       "      <td>3652</td>\n",
       "      <td>5</td>\n",
       "      <td>pos</td>\n",
       "      <td>I bought this item for my nephew and he loves ...</td>\n",
       "      <td>5</td>\n",
       "      <td>253</td>\n",
       "    </tr>\n",
       "    <tr>\n",
       "      <th>27</th>\n",
       "      <td>27</td>\n",
       "      <td>2918</td>\n",
       "      <td>5</td>\n",
       "      <td>pos</td>\n",
       "      <td>he loved it was a great gift easy to use, smal...</td>\n",
       "      <td>16</td>\n",
       "      <td>1824</td>\n",
       "    </tr>\n",
       "    <tr>\n",
       "      <th>28</th>\n",
       "      <td>28</td>\n",
       "      <td>2823</td>\n",
       "      <td>1</td>\n",
       "      <td>pos</td>\n",
       "      <td>I really like it my complants is that it gives...</td>\n",
       "      <td>16</td>\n",
       "      <td>320</td>\n",
       "    </tr>\n",
       "    <tr>\n",
       "      <th>29</th>\n",
       "      <td>29</td>\n",
       "      <td>3945</td>\n",
       "      <td>5</td>\n",
       "      <td>pos</td>\n",
       "      <td>Very good tablet for the price economical and ...</td>\n",
       "      <td>5</td>\n",
       "      <td>1770</td>\n",
       "    </tr>\n",
       "    <tr>\n",
       "      <th>...</th>\n",
       "      <td>...</td>\n",
       "      <td>...</td>\n",
       "      <td>...</td>\n",
       "      <td>...</td>\n",
       "      <td>...</td>\n",
       "      <td>...</td>\n",
       "      <td>...</td>\n",
       "    </tr>\n",
       "    <tr>\n",
       "      <th>1890</th>\n",
       "      <td>1890</td>\n",
       "      <td>2624</td>\n",
       "      <td>5</td>\n",
       "      <td>pos</td>\n",
       "      <td>I love that the kids can only do what you allo...</td>\n",
       "      <td>16</td>\n",
       "      <td>1517</td>\n",
       "    </tr>\n",
       "    <tr>\n",
       "      <th>1891</th>\n",
       "      <td>1891</td>\n",
       "      <td>2493</td>\n",
       "      <td>1</td>\n",
       "      <td>pos</td>\n",
       "      <td>Good kids tablet for games and videos but the ...</td>\n",
       "      <td>16</td>\n",
       "      <td>26</td>\n",
       "    </tr>\n",
       "    <tr>\n",
       "      <th>1892</th>\n",
       "      <td>1892</td>\n",
       "      <td>2195</td>\n",
       "      <td>5</td>\n",
       "      <td>pos</td>\n",
       "      <td>Fantastic tablet fire one is great. Small and ...</td>\n",
       "      <td>6</td>\n",
       "      <td>489</td>\n",
       "    </tr>\n",
       "    <tr>\n",
       "      <th>1893</th>\n",
       "      <td>1893</td>\n",
       "      <td>2595</td>\n",
       "      <td>1</td>\n",
       "      <td>neu</td>\n",
       "      <td>I enjoy reading with my Kindle Fire. That is t...</td>\n",
       "      <td>4</td>\n",
       "      <td>1186</td>\n",
       "    </tr>\n",
       "    <tr>\n",
       "      <th>1894</th>\n",
       "      <td>1894</td>\n",
       "      <td>4091</td>\n",
       "      <td>3</td>\n",
       "      <td>neg</td>\n",
       "      <td>I'm disappointed that it doesn't have a mirror...</td>\n",
       "      <td>5</td>\n",
       "      <td>3538</td>\n",
       "    </tr>\n",
       "    <tr>\n",
       "      <th>1895</th>\n",
       "      <td>1895</td>\n",
       "      <td>3777</td>\n",
       "      <td>5</td>\n",
       "      <td>pos</td>\n",
       "      <td>Inexpensive tablet for him to use and learn on...</td>\n",
       "      <td>5</td>\n",
       "      <td>2378</td>\n",
       "    </tr>\n",
       "    <tr>\n",
       "      <th>1896</th>\n",
       "      <td>1896</td>\n",
       "      <td>2055</td>\n",
       "      <td>5</td>\n",
       "      <td>pos</td>\n",
       "      <td>My daughter love it she don't really brother m...</td>\n",
       "      <td>16</td>\n",
       "      <td>1753</td>\n",
       "    </tr>\n",
       "    <tr>\n",
       "      <th>1897</th>\n",
       "      <td>1897</td>\n",
       "      <td>2498</td>\n",
       "      <td>5</td>\n",
       "      <td>pos</td>\n",
       "      <td>Young kids love it, easy to use and takes a be...</td>\n",
       "      <td>7</td>\n",
       "      <td>292</td>\n",
       "    </tr>\n",
       "    <tr>\n",
       "      <th>1898</th>\n",
       "      <td>1898</td>\n",
       "      <td>2017</td>\n",
       "      <td>5</td>\n",
       "      <td>pos</td>\n",
       "      <td>Got it for my grandson he loves it.it is a ver...</td>\n",
       "      <td>7</td>\n",
       "      <td>788</td>\n",
       "    </tr>\n",
       "    <tr>\n",
       "      <th>1899</th>\n",
       "      <td>1899</td>\n",
       "      <td>3642</td>\n",
       "      <td>1</td>\n",
       "      <td>neu</td>\n",
       "      <td>I was using this for a while it was 10X faster...</td>\n",
       "      <td>5</td>\n",
       "      <td>860</td>\n",
       "    </tr>\n",
       "    <tr>\n",
       "      <th>1900</th>\n",
       "      <td>1900</td>\n",
       "      <td>1628</td>\n",
       "      <td>1</td>\n",
       "      <td>pos</td>\n",
       "      <td>My daughter loves that it is pink and she enjo...</td>\n",
       "      <td>7</td>\n",
       "      <td>1357</td>\n",
       "    </tr>\n",
       "    <tr>\n",
       "      <th>1901</th>\n",
       "      <td>1901</td>\n",
       "      <td>4837</td>\n",
       "      <td>5</td>\n",
       "      <td>pos</td>\n",
       "      <td>Ordered for my daughter to replace an older ve...</td>\n",
       "      <td>13</td>\n",
       "      <td>2662</td>\n",
       "    </tr>\n",
       "    <tr>\n",
       "      <th>1902</th>\n",
       "      <td>1902</td>\n",
       "      <td>2321</td>\n",
       "      <td>3</td>\n",
       "      <td>pos</td>\n",
       "      <td>I love these Tablets, but the charging ports a...</td>\n",
       "      <td>16</td>\n",
       "      <td>1144</td>\n",
       "    </tr>\n",
       "    <tr>\n",
       "      <th>1903</th>\n",
       "      <td>1903</td>\n",
       "      <td>2917</td>\n",
       "      <td>1</td>\n",
       "      <td>pos</td>\n",
       "      <td>Searched around for the perfect tablet for my ...</td>\n",
       "      <td>7</td>\n",
       "      <td>1721</td>\n",
       "    </tr>\n",
       "    <tr>\n",
       "      <th>1904</th>\n",
       "      <td>1904</td>\n",
       "      <td>2778</td>\n",
       "      <td>5</td>\n",
       "      <td>pos</td>\n",
       "      <td>My daughter loves this tablet. She drops it an...</td>\n",
       "      <td>16</td>\n",
       "      <td>1538</td>\n",
       "    </tr>\n",
       "    <tr>\n",
       "      <th>1905</th>\n",
       "      <td>1905</td>\n",
       "      <td>2115</td>\n",
       "      <td>3</td>\n",
       "      <td>neg</td>\n",
       "      <td>You get what you pay for Was not to happy but ...</td>\n",
       "      <td>16</td>\n",
       "      <td>3352</td>\n",
       "    </tr>\n",
       "    <tr>\n",
       "      <th>1906</th>\n",
       "      <td>1906</td>\n",
       "      <td>2513</td>\n",
       "      <td>5</td>\n",
       "      <td>pos</td>\n",
       "      <td>My sons love playing on their tablet. Not only...</td>\n",
       "      <td>16</td>\n",
       "      <td>2941</td>\n",
       "    </tr>\n",
       "    <tr>\n",
       "      <th>1907</th>\n",
       "      <td>1907</td>\n",
       "      <td>1821</td>\n",
       "      <td>1</td>\n",
       "      <td>pos</td>\n",
       "      <td>My kid love this tablet!! The setup was so eas...</td>\n",
       "      <td>16</td>\n",
       "      <td>1473</td>\n",
       "    </tr>\n",
       "    <tr>\n",
       "      <th>1908</th>\n",
       "      <td>1908</td>\n",
       "      <td>1807</td>\n",
       "      <td>1</td>\n",
       "      <td>pos</td>\n",
       "      <td>Bought 2 of these for my 6 and 8 yr old and it...</td>\n",
       "      <td>6</td>\n",
       "      <td>2163</td>\n",
       "    </tr>\n",
       "    <tr>\n",
       "      <th>1909</th>\n",
       "      <td>1909</td>\n",
       "      <td>2347</td>\n",
       "      <td>5</td>\n",
       "      <td>pos</td>\n",
       "      <td>Great..I love it..Glad I got it..My nephew lov...</td>\n",
       "      <td>7</td>\n",
       "      <td>2375</td>\n",
       "    </tr>\n",
       "    <tr>\n",
       "      <th>1910</th>\n",
       "      <td>1910</td>\n",
       "      <td>2753</td>\n",
       "      <td>5</td>\n",
       "      <td>pos</td>\n",
       "      <td>Bought for my grandson. He loves playing with ...</td>\n",
       "      <td>16</td>\n",
       "      <td>523</td>\n",
       "    </tr>\n",
       "    <tr>\n",
       "      <th>1911</th>\n",
       "      <td>1911</td>\n",
       "      <td>2016</td>\n",
       "      <td>1</td>\n",
       "      <td>neu</td>\n",
       "      <td>The color is what got me and the features was ...</td>\n",
       "      <td>7</td>\n",
       "      <td>1190</td>\n",
       "    </tr>\n",
       "    <tr>\n",
       "      <th>1912</th>\n",
       "      <td>1912</td>\n",
       "      <td>1631</td>\n",
       "      <td>5</td>\n",
       "      <td>pos</td>\n",
       "      <td>Easy to use. A useful source for kids activity...</td>\n",
       "      <td>4</td>\n",
       "      <td>999</td>\n",
       "    </tr>\n",
       "    <tr>\n",
       "      <th>1913</th>\n",
       "      <td>1913</td>\n",
       "      <td>4116</td>\n",
       "      <td>5</td>\n",
       "      <td>pos</td>\n",
       "      <td>I needed to upgrade from the orginal Kindle fi...</td>\n",
       "      <td>5</td>\n",
       "      <td>2601</td>\n",
       "    </tr>\n",
       "    <tr>\n",
       "      <th>1914</th>\n",
       "      <td>1914</td>\n",
       "      <td>3484</td>\n",
       "      <td>5</td>\n",
       "      <td>pos</td>\n",
       "      <td>Bought it as an e-reader. Convenient and easy ...</td>\n",
       "      <td>5</td>\n",
       "      <td>2292</td>\n",
       "    </tr>\n",
       "    <tr>\n",
       "      <th>1915</th>\n",
       "      <td>1915</td>\n",
       "      <td>3228</td>\n",
       "      <td>5</td>\n",
       "      <td>pos</td>\n",
       "      <td>Great notepad! Huge screen and easily download...</td>\n",
       "      <td>8</td>\n",
       "      <td>2734</td>\n",
       "    </tr>\n",
       "    <tr>\n",
       "      <th>1916</th>\n",
       "      <td>1916</td>\n",
       "      <td>2545</td>\n",
       "      <td>5</td>\n",
       "      <td>pos</td>\n",
       "      <td>Bought for my 2 yr old grandson.. and he loves...</td>\n",
       "      <td>7</td>\n",
       "      <td>139</td>\n",
       "    </tr>\n",
       "    <tr>\n",
       "      <th>1917</th>\n",
       "      <td>1917</td>\n",
       "      <td>4167</td>\n",
       "      <td>5</td>\n",
       "      <td>pos</td>\n",
       "      <td>Could not have asked for a better tablet for t...</td>\n",
       "      <td>5</td>\n",
       "      <td>3770</td>\n",
       "    </tr>\n",
       "    <tr>\n",
       "      <th>1918</th>\n",
       "      <td>1918</td>\n",
       "      <td>2439</td>\n",
       "      <td>5</td>\n",
       "      <td>pos</td>\n",
       "      <td>Using for Pandora in an office setting. Set up...</td>\n",
       "      <td>4</td>\n",
       "      <td>3237</td>\n",
       "    </tr>\n",
       "    <tr>\n",
       "      <th>1919</th>\n",
       "      <td>1919</td>\n",
       "      <td>1566</td>\n",
       "      <td>5</td>\n",
       "      <td>pos</td>\n",
       "      <td>Bought this for my six year old grandson. The ...</td>\n",
       "      <td>16</td>\n",
       "      <td>2226</td>\n",
       "    </tr>\n",
       "  </tbody>\n",
       "</table>\n",
       "<p>1920 rows × 7 columns</p>\n",
       "</div>"
      ],
      "text/plain": [
       "      Unnamed: 0  reviewId  rating hum_testimony  \\\n",
       "0              0      3979       1           pos   \n",
       "1              1      2963       1           pos   \n",
       "2              2      3899       5           pos   \n",
       "3              3      2326       3           neg   \n",
       "4              4      2385       5           pos   \n",
       "5              5      2242       5           pos   \n",
       "6              6      2931       5           pos   \n",
       "7              7      1817       5           pos   \n",
       "8              8      3211       5           pos   \n",
       "9              9      2309       1           pos   \n",
       "10            10      2898       1           pos   \n",
       "11            11      3669       5           pos   \n",
       "12            12      4187       3           neu   \n",
       "13            13      3238       5           neu   \n",
       "14            14      2403       5           pos   \n",
       "15            15      3947       1           pos   \n",
       "16            16      2799       1           pos   \n",
       "17            17      2830       5           pos   \n",
       "18            18      2660       5           pos   \n",
       "19            19      2919       5           pos   \n",
       "20            20      1893       1           pos   \n",
       "21            21      2492       1           pos   \n",
       "22            22      2209       5           pos   \n",
       "23            23      2459       1           pos   \n",
       "24            24      2033       5           pos   \n",
       "25            25      2562       5           pos   \n",
       "26            26      3652       5           pos   \n",
       "27            27      2918       5           pos   \n",
       "28            28      2823       1           pos   \n",
       "29            29      3945       5           pos   \n",
       "...          ...       ...     ...           ...   \n",
       "1890        1890      2624       5           pos   \n",
       "1891        1891      2493       1           pos   \n",
       "1892        1892      2195       5           pos   \n",
       "1893        1893      2595       1           neu   \n",
       "1894        1894      4091       3           neg   \n",
       "1895        1895      3777       5           pos   \n",
       "1896        1896      2055       5           pos   \n",
       "1897        1897      2498       5           pos   \n",
       "1898        1898      2017       5           pos   \n",
       "1899        1899      3642       1           neu   \n",
       "1900        1900      1628       1           pos   \n",
       "1901        1901      4837       5           pos   \n",
       "1902        1902      2321       3           pos   \n",
       "1903        1903      2917       1           pos   \n",
       "1904        1904      2778       5           pos   \n",
       "1905        1905      2115       3           neg   \n",
       "1906        1906      2513       5           pos   \n",
       "1907        1907      1821       1           pos   \n",
       "1908        1908      1807       1           pos   \n",
       "1909        1909      2347       5           pos   \n",
       "1910        1910      2753       5           pos   \n",
       "1911        1911      2016       1           neu   \n",
       "1912        1912      1631       5           pos   \n",
       "1913        1913      4116       5           pos   \n",
       "1914        1914      3484       5           pos   \n",
       "1915        1915      3228       5           pos   \n",
       "1916        1916      2545       5           pos   \n",
       "1917        1917      4167       5           pos   \n",
       "1918        1918      2439       5           pos   \n",
       "1919        1919      1566       5           pos   \n",
       "\n",
       "                                              testimony  itemId  userId  \n",
       "0     I have really enjoyed it so far. While not per...       5    3585  \n",
       "1     I purchased this tablet for my 3 year old and ...       7    1256  \n",
       "2     I love my tablet. It is super easy and loads f...       5    1506  \n",
       "3     Battery dies after an hour...should last longe...       7     188  \n",
       "4     It is great if you are a prime member , case i...      16    3023  \n",
       "5     Since I purchased mine the wife thought she wo...       4     618  \n",
       "6     My son is constantly distracted and loves tech...      16    2397  \n",
       "7     This was a gift for my kids. They love them. E...      16    1068  \n",
       "8     I was initially going to just get the Amazon K...       8    1553  \n",
       "9     Good product, great price. Big improvement ove...       4     862  \n",
       "10    I purchased this tablet for my grandmother to ...       4    1872  \n",
       "11    We love this so much in our home. We bought a ...       5    3518  \n",
       "12    The specs are good, feels solid, can't stand t...       5    2677  \n",
       "13    As I age, it's difficult for me to see the sma...       8    3643  \n",
       "14    Great price - great shipping - great item! Per...      16     710  \n",
       "15    Great tablet - lag free when running apps... G...       5    1484  \n",
       "16    This was the first tablet we purchased for our...      16    2130  \n",
       "17    Love the apps. His old fire stood up to signif...      16    3111  \n",
       "18    We replaced and aging fire HDX. She noticed th...       6    1368  \n",
       "19    Easy to set up and durable grandpa dropped it ...       7    3653  \n",
       "20    My kids love this product, as do I. Parental r...      16    1821  \n",
       "21    Best thing I got my kids. They don't ask to bo...      16    2214  \n",
       "22    So my 18 month old maybe the future computer w...       7     481  \n",
       "23    My stepkids are pretty rough on their toys and...      16    2024  \n",
       "24    My 3 year old got it for his birthday and he l...      16    3735  \n",
       "25    This amazon tablet is perfect for first time u...      16    2279  \n",
       "26    I bought this item for my nephew and he loves ...       5     253  \n",
       "27    he loved it was a great gift easy to use, smal...      16    1824  \n",
       "28    I really like it my complants is that it gives...      16     320  \n",
       "29    Very good tablet for the price economical and ...       5    1770  \n",
       "...                                                 ...     ...     ...  \n",
       "1890  I love that the kids can only do what you allo...      16    1517  \n",
       "1891  Good kids tablet for games and videos but the ...      16      26  \n",
       "1892  Fantastic tablet fire one is great. Small and ...       6     489  \n",
       "1893  I enjoy reading with my Kindle Fire. That is t...       4    1186  \n",
       "1894  I'm disappointed that it doesn't have a mirror...       5    3538  \n",
       "1895  Inexpensive tablet for him to use and learn on...       5    2378  \n",
       "1896  My daughter love it she don't really brother m...      16    1753  \n",
       "1897  Young kids love it, easy to use and takes a be...       7     292  \n",
       "1898  Got it for my grandson he loves it.it is a ver...       7     788  \n",
       "1899  I was using this for a while it was 10X faster...       5     860  \n",
       "1900  My daughter loves that it is pink and she enjo...       7    1357  \n",
       "1901  Ordered for my daughter to replace an older ve...      13    2662  \n",
       "1902  I love these Tablets, but the charging ports a...      16    1144  \n",
       "1903  Searched around for the perfect tablet for my ...       7    1721  \n",
       "1904  My daughter loves this tablet. She drops it an...      16    1538  \n",
       "1905  You get what you pay for Was not to happy but ...      16    3352  \n",
       "1906  My sons love playing on their tablet. Not only...      16    2941  \n",
       "1907  My kid love this tablet!! The setup was so eas...      16    1473  \n",
       "1908  Bought 2 of these for my 6 and 8 yr old and it...       6    2163  \n",
       "1909  Great..I love it..Glad I got it..My nephew lov...       7    2375  \n",
       "1910  Bought for my grandson. He loves playing with ...      16     523  \n",
       "1911  The color is what got me and the features was ...       7    1190  \n",
       "1912  Easy to use. A useful source for kids activity...       4     999  \n",
       "1913  I needed to upgrade from the orginal Kindle fi...       5    2601  \n",
       "1914  Bought it as an e-reader. Convenient and easy ...       5    2292  \n",
       "1915  Great notepad! Huge screen and easily download...       8    2734  \n",
       "1916  Bought for my 2 yr old grandson.. and he loves...       7     139  \n",
       "1917  Could not have asked for a better tablet for t...       5    3770  \n",
       "1918  Using for Pandora in an office setting. Set up...       4    3237  \n",
       "1919  Bought this for my six year old grandson. The ...      16    2226  \n",
       "\n",
       "[1920 rows x 7 columns]"
      ]
     },
     "execution_count": 29,
     "metadata": {},
     "output_type": "execute_result"
    }
   ],
   "source": [
    "rating_convert = []\n",
    "for x in tablet_reviews['rating']:\n",
    "    if x == 3:\n",
    "        v = 5\n",
    "    elif x == 2.5:\n",
    "        v = 4\n",
    "    elif x == 2:\n",
    "        v = 3\n",
    "    elif x == 1.5:\n",
    "        v = 2\n",
    "    else:\n",
    "        v = 1\n",
    "    rating_convert.append(v)\n",
    "tablet_reviews['rating'] = rating_convert   \n",
    "tablet_reviews"
   ]
  },
  {
   "cell_type": "code",
   "execution_count": 31,
   "metadata": {},
   "outputs": [],
   "source": [
    "# tablet_reviews.merge(reviews,on='reviewId',\n",
    "#                    how='outer').dropna(subset=['reviewId']).fillna('').to_csv(\"data/tablet_reviews_newrating.csv\")"
   ]
  },
  {
   "cell_type": "code",
   "execution_count": 14,
   "metadata": {},
   "outputs": [],
   "source": [
    "import pandas as pd\n",
    "tablet_reviews = pd.read_csv('data/reviews/tablet_test.csv', low_memory=False)\n",
    "tv_reviews = pd.read_csv('data/reviews/tv_test.csv', low_memory=False)\n",
    "speaker_reviews = pd.read_csv('data/reviews/speaker_test.csv', low_memory=False)\n",
    "adapter_reviews = pd.read_csv('data/reviews/adapter_test.csv', low_memory=False)\n",
    "kindle_reviews = pd.read_csv('data/reviews/kindle_test.csv', low_memory=False)\n",
    "addition_reviews = pd.read_csv('data/reviews/reviews_addition.csv', low_memory=False)"
   ]
  },
  {
   "cell_type": "code",
   "execution_count": 15,
   "metadata": {},
   "outputs": [
    {
     "data": {
      "text/plain": [
       "Index(['reviewId', 'rating', 'hum_sentiment', 'testimony', 'itemId', 'userId'], dtype='object')"
      ]
     },
     "execution_count": 15,
     "metadata": {},
     "output_type": "execute_result"
    }
   ],
   "source": [
    "tablet_reviews.columns\n",
    "# tablet_reviews.shape"
   ]
  },
  {
   "cell_type": "code",
   "execution_count": 16,
   "metadata": {},
   "outputs": [
    {
     "data": {
      "text/plain": [
       "Index(['reviewId', 'rating', 'hum_sentiment', 'testimony', 'itemId', 'userId'], dtype='object')"
      ]
     },
     "execution_count": 16,
     "metadata": {},
     "output_type": "execute_result"
    }
   ],
   "source": [
    "tv_reviews.columns\n",
    "# tv_reviews.shape"
   ]
  },
  {
   "cell_type": "code",
   "execution_count": 17,
   "metadata": {},
   "outputs": [
    {
     "data": {
      "text/plain": [
       "Index(['reviewId', 'rating', 'hum_sentiment', 'testimony', 'itemId', 'userId'], dtype='object')"
      ]
     },
     "execution_count": 17,
     "metadata": {},
     "output_type": "execute_result"
    }
   ],
   "source": [
    "speaker_reviews.columns\n",
    "# speaker_reviews.shape"
   ]
  },
  {
   "cell_type": "code",
   "execution_count": 18,
   "metadata": {},
   "outputs": [
    {
     "data": {
      "text/plain": [
       "Index(['reviewId', 'rating', 'hum_sentiment', 'testimony', 'itemId', 'userId'], dtype='object')"
      ]
     },
     "execution_count": 18,
     "metadata": {},
     "output_type": "execute_result"
    }
   ],
   "source": [
    "kindle_reviews.columns\n",
    "# kindle_reviews.shape"
   ]
  },
  {
   "cell_type": "code",
   "execution_count": 19,
   "metadata": {},
   "outputs": [
    {
     "data": {
      "text/plain": [
       "Index(['reviewId', 'rating', 'hum_sentiment', 'testimony', 'itemId', 'userId'], dtype='object')"
      ]
     },
     "execution_count": 19,
     "metadata": {},
     "output_type": "execute_result"
    }
   ],
   "source": [
    "adapter_reviews.columns\n",
    "# adapter_reviews.shape"
   ]
  },
  {
   "cell_type": "code",
   "execution_count": 7,
   "metadata": {},
   "outputs": [
    {
     "data": {
      "text/plain": [
       "Index(['reviewId', 'rating', 'hum_sentiment', 'testimony', 'itemId', 'userId'], dtype='object')"
      ]
     },
     "execution_count": 7,
     "metadata": {},
     "output_type": "execute_result"
    }
   ],
   "source": [
    "addition_reviews.columns\n",
    "# addition_reviews.shape"
   ]
  },
  {
   "cell_type": "code",
   "execution_count": null,
   "metadata": {},
   "outputs": [],
   "source": []
  },
  {
   "cell_type": "code",
   "execution_count": 20,
   "metadata": {},
   "outputs": [],
   "source": [
    "all_reviews_test = pd.concat([tv_reviews, speaker_reviews, kindle_reviews, adapter_reviews, tablet_reviews, addition_reviews])"
   ]
  },
  {
   "cell_type": "code",
   "execution_count": 21,
   "metadata": {},
   "outputs": [
    {
     "data": {
      "text/plain": [
       "(1116, 6)"
      ]
     },
     "execution_count": 21,
     "metadata": {},
     "output_type": "execute_result"
    }
   ],
   "source": [
    "all_reviews_test.shape"
   ]
  },
  {
   "cell_type": "code",
   "execution_count": 22,
   "metadata": {},
   "outputs": [],
   "source": [
    "# reviews = pd.read_csv('data/reviews/reviews.csv', low_memory=False)\n",
    "# tablet_test_reviews = pd.read_csv('data/old/SentimentDataTest.csv', low_memory=False)"
   ]
  },
  {
   "cell_type": "code",
   "execution_count": 62,
   "metadata": {},
   "outputs": [],
   "source": [
    "# tablet_test_reviews.merge(reviews,on='reviewId',\n",
    "#                    how='outer').dropna(subset=['reviewId']).fillna('').to_csv(\"data/tablet_reviews_new.csv\")"
   ]
  },
  {
   "cell_type": "code",
   "execution_count": 23,
   "metadata": {},
   "outputs": [],
   "source": [
    "all_reviews_test.to_csv(\"data/reviews/all_reviews_test.csv\")"
   ]
  },
  {
   "cell_type": "code",
   "execution_count": null,
   "metadata": {},
   "outputs": [],
   "source": []
  }
 ],
 "metadata": {
  "kernelspec": {
   "display_name": "Python 3",
   "language": "python",
   "name": "python3"
  },
  "language_info": {
   "codemirror_mode": {
    "name": "ipython",
    "version": 3
   },
   "file_extension": ".py",
   "mimetype": "text/x-python",
   "name": "python",
   "nbconvert_exporter": "python",
   "pygments_lexer": "ipython3",
   "version": "3.6.6+"
  }
 },
 "nbformat": 4,
 "nbformat_minor": 2
}
